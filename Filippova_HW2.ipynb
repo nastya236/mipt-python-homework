{
  "nbformat": 4,
  "nbformat_minor": 0,
  "metadata": {
    "kernelspec": {
      "display_name": "Python 3",
      "language": "python",
      "name": "python3"
    },
    "language_info": {
      "codemirror_mode": {
        "name": "ipython",
        "version": 3
      },
      "file_extension": ".py",
      "mimetype": "text/x-python",
      "name": "python",
      "nbconvert_exporter": "python",
      "pygments_lexer": "ipython3",
      "version": "3.7.3"
    },
    "colab": {
      "name": "HW2.ipynb",
      "provenance": [],
      "collapsed_sections": []
    }
  },
  "cells": [
    {
      "cell_type": "markdown",
      "metadata": {
        "id": "yJ2JleMY6U0l",
        "colab_type": "text"
      },
      "source": [
        "## Домашнее задание №2 (курс \"Практикум по программированию на языке Python\")"
      ]
    },
    {
      "cell_type": "markdown",
      "metadata": {
        "id": "6iKVRiP46U0o",
        "colab_type": "text"
      },
      "source": [
        "### Тема: Объектно-ориентированное программирование на языке Python.\n",
        "\n",
        "#### Преподаватель: Мурат Апишев (mel-lain@yandex.ru)\n",
        "\n",
        "**Выдана**:   28 марта 2020\n",
        "\n",
        "**Дедлайн**:   21:00 12 апреля 2020\n",
        "\n",
        "**Среда выполнения**: Jupyter Notebook (Python 3.7)\n",
        "\n",
        "#### Правила:\n",
        "\n",
        "Результат выполнения задания - Jupyter Notebook с кодом и подробными ответами в случае теоретических вопросов. __Максимальное число баллов за задание - 20__.\n",
        "\n",
        "Все ячейки должны быть \"выполненными\", при этом результат должен воспроизводиться при проверке (на Python 3.7). Если какой-то код не был запущен или отрабатывает с ошибками, то пункт не засчитывается. Задание, сданное после дедлайна, _не принимается_. Можно отправить недоделанное задание, выполненные пункты будут оценены.\n",
        "\n",
        "Готовое задание отправляется на почту преподавателя.\n",
        "\n",
        "Задание выполняется самостоятельно. Если какие-то студенты будут уличены в списывании, все они автоматически получат за эту работу 0 баллов. Если вы нашли в Интернете какой-то специфичный код, который собираетесь заимствовать, обязательно укажите это в задании: вполне вероятно, что вы не единственный, кто найдёт и использует эту информацию.\n",
        "\n",
        "Удалять фрагменты формулировок заданий запрещается."
      ]
    },
    {
      "cell_type": "markdown",
      "metadata": {
        "id": "SoCI-FpR6U0t",
        "colab_type": "text"
      },
      "source": [
        "#### Постановка задачи:\n",
        "\n",
        "- В данной работе нужно\n",
        "    - ответить на ряд теоретических вопросов;\n",
        "    - решить набор задач, проверяющих владение ООП-инструментами языка;\n",
        "    - описать архитектуру приложения (набор интерфейсов и классов).\n",
        "- Ответы на теоретические вопросы должны быть полными и обоснованными.\n",
        "- Каждая задача представляет собой написание функции или класса, а также набора тестов, проверяющих работу решения в общих и крайних случаях.\n",
        "- Отсутствие тестов автоматически уменьшает количество баллов за задание как минимум в два раза, некачественные тесты также будут штрафоваться.\n",
        "- Даже если это не указано явно в требованиях, код должен быть по возможности неизбыточным, работать с разумной сложностью и объёмом потребялемой памяти, проверяющие могут снизить балл за задание, выполненное без учёта этого требования.\n",
        "- Результирующий код должен быть читаемым, с единой системой отступов и адеквантными названиями переменных, проверяющие могут снизить балл за задание, выполненное без учёта этого требования.\n",
        "- Предлагаемая архитектура должна быть снабжена комментариями, описывающими причину использования того или иного подхода/шаблона."
      ]
    },
    {
      "cell_type": "markdown",
      "metadata": {
        "id": "_i8Cd9wO6U0u",
        "colab_type": "text"
      },
      "source": [
        "__Задание 1 (2 балла):__ Дайте подробные ответы на следующие вопросы:\n",
        "\n",
        "1. В чём смысл инкапсуляции? Приведите пример конкретной ситуации в коде, в которой нарушение инкапсуляции приводит к проблемам.\n",
        "2. Какой метод называется статическим? Что такое параметр `self`?\n",
        "3. В чём отличия методов `__new__` и `__init__`?\n",
        "4. Какие виды отношений классов вы знаете? Для каждого приведите примеры. Укажите взаимные различия.\n",
        "5. Приведите 2 примера обоснованного использования шаблона Singleton в реальной жизни.\n",
        "6. Зачем нужны фабрики? Опишите смысл использования фабричного метода, фабрики и абстрактной фабрики, а также их взаимные отличия."
      ]
    },
    {
      "cell_type": "markdown",
      "metadata": {
        "id": "rwLmILojQU_G",
        "colab_type": "text"
      },
      "source": [
        "$1.$ Инкапсуляция - это возможность объединения всех методов и переменных, относящихся к одному объекту в одну единую компоненту. Это определение включает в себя возможность ограничения доступа к некоторым методам и атрибутам (то есть доступ к данным осуществляется только через методы).\n",
        "\n",
        "Пример: класс кошки, объект - кошка с атрибутами возраст и масса. Если данные атрибуты доступны любому пользателю, работающему с данной структорой, то любой человек может изменить возраст кошки на отрицательное значение, что повлечет ошибку."
      ]
    },
    {
      "cell_type": "code",
      "metadata": {
        "id": "hlj6g9swK8cC",
        "colab_type": "code",
        "colab": {}
      },
      "source": [
        "class Cats:\n",
        "    def  __init__(self, weight, old):\n",
        "\n",
        "       self.weight = weight\n",
        "       self.old = old\n",
        "\n",
        "    def __str__(self):\n",
        "\n",
        "        return 'weight = {}, years = {}'.format(self.weight, self.old)\n"
      ],
      "execution_count": 0,
      "outputs": []
    },
    {
      "cell_type": "code",
      "metadata": {
        "id": "68QoqnXKLQ-P",
        "colab_type": "code",
        "colab": {}
      },
      "source": [
        "sharik = Cats(3, 8)"
      ],
      "execution_count": 0,
      "outputs": []
    },
    {
      "cell_type": "code",
      "metadata": {
        "id": "Pn0kkCD4LX2q",
        "colab_type": "code",
        "colab": {}
      },
      "source": [
        "sharik.weight = -7"
      ],
      "execution_count": 0,
      "outputs": []
    },
    {
      "cell_type": "code",
      "metadata": {
        "id": "qvn3trQaL-Jo",
        "colab_type": "code",
        "outputId": "62870d25-09e5-4dd5-dd18-9995c61421dd",
        "colab": {
          "base_uri": "https://localhost:8080/",
          "height": 34
        }
      },
      "source": [
        "print(sharik)"
      ],
      "execution_count": 0,
      "outputs": [
        {
          "output_type": "stream",
          "text": [
            "weight = -7, years = 8\n"
          ],
          "name": "stdout"
        }
      ]
    },
    {
      "cell_type": "markdown",
      "metadata": {
        "id": "I6SlIZIKK9CS",
        "colab_type": "text"
      },
      "source": [
        "$2.$ self - это ссылка на экземпляр класса, идентификатор объекта. \n",
        "\n",
        "`staticmethod` - это метод который не оперирует ни ссылкой на какой-то конкретный экземпляр класса, ни на сам класс. На самом деле этот метод можно определить вне класса как обычную функцию, это просто организация кода.\n",
        "\n",
        "$3.$ Метод `__init__` не создает новый объект, только инициализирует объект класса. Метод `__new__` является конструктором экземпляра класса. С помощью него создается новый объект. То есть при создание сначала вызывается метод `__new__`, а затем вызывается метод `__init__`.\n",
        "\n",
        "$4.$ \n",
        "1. Ассоциация - горизонтальная связь между объектами двух классов. Пример: работник и его задача. Если исчезнет работник, задача останется.\n",
        "2. Композиция - также горизонтальная связь, но \"вложенная\" зависимость ,то есть при удалении одного объекта, второй удаляется автоматически. Пример: человек и его сердце.\n",
        "3. Наследование - это вид отношений, при котором один класс является над типом или обобщением другого (родителем). Пример: класс зайцы является потомком (под классом) класса звери.\n",
        "4. Агрегация - это отношение между объектом и его частью, но при этом один объект не управляет жизненным циклом другого, они остаются независимыми. Пример: класс коллекционных марок и его часть - класс марок из Англии. При удалении объека коллекция, его часть продолжает существовать.\n",
        "5. Реализация - наследование интерфейса. Пример: класс животные и класс млекопитающие. Данный вид отношений похож на отношение наследования."
      ]
    },
    {
      "cell_type": "markdown",
      "metadata": {
        "id": "7wZP6eBJ68Gv",
        "colab_type": "text"
      },
      "source": [
        "$5.$ Использование данного шаблона удобно например при создание и работе с уникальными объектами. Гарантирует, что у класса есть единственный экземпляр и предоставляет к нему глобальную точку доступа. \n",
        "\n",
        "1. Например, при работе с базой данных удобно гарантировать ее уникальность.\n",
        "\n",
        "2. Еще один пример: с помощью данного шаблона можно создать класс президент/ правительство/ Папа Римский и так далее.\n"
      ]
    },
    {
      "cell_type": "markdown",
      "metadata": {
        "id": "-xuVsSBD-Nms",
        "colab_type": "text"
      },
      "source": [
        "$6.$ Фабрики - порождающие паттерны проектирования. Они нужны для создания объектов с помощью другой сущности.\n",
        "\n",
        "1. Фабричный метод - это метод, который в классе-потомке может быть переопределен в зависимости от назначения класса. Если я правильно поняла, то следующий пример является использованием фабричного метода: \n",
        "пусть если абстрактный класс `Транспорт` с абстрактным методом `Make_transport`. Каждый класс-потомок абстрактного класса-производителя переопределяет метод создания объектов и производит конкретный продукт - класс-потомок абстрактного класса-продукта.\n",
        "\n",
        "2. Абстрактная фабрика используется если необходимо создавать продукты, которые являются частями единой сущности (пример с семинара про различные операционные системы). Как я поняла, абстрактная фабрика отличается от фабричного метода тем, что при использование абстрактной фабрики, полученные продукты взаимодействуют, в отличии от продуктов, созданных с помощью фабричного метода.\n",
        "\n",
        "3. Простая фабрика - это объект, который создает объекты. У него есть метод создания объектов. Например, класс `Car_maker`, у которого есть метод `make_car` является простой фабрикой."
      ]
    },
    {
      "cell_type": "code",
      "metadata": {
        "id": "zT7liEKw663n",
        "colab_type": "code",
        "colab": {}
      },
      "source": [
        ""
      ],
      "execution_count": 0,
      "outputs": []
    },
    {
      "cell_type": "markdown",
      "metadata": {
        "id": "GpunbkZX6U0x",
        "colab_type": "text"
      },
      "source": [
        "__Задание 2 (1 балл):__ Описать класс комплексных чисел, поддерживающий представление в полярном виде. Произвести перегрузку магических методов для основных арифметических операций (+, -, \\*, /). Допускается использование модуля `math`."
      ]
    },
    {
      "cell_type": "code",
      "metadata": {
        "id": "1aAw3r87nbHb",
        "colab_type": "code",
        "colab": {}
      },
      "source": [
        "import math"
      ],
      "execution_count": 0,
      "outputs": []
    },
    {
      "cell_type": "code",
      "metadata": {
        "id": "T8y0HEuV6U0z",
        "colab_type": "code",
        "colab": {}
      },
      "source": [
        "class ComplexNumber:\n",
        "\n",
        "\n",
        "    def __init__(self, ro, fi):\n",
        "        if ro < 0:\n",
        "            raise ValueError('ro < 0!')\n",
        "        self.ro = ro\n",
        "        self.fi = fi\n",
        "\n",
        "    @property\n",
        "    def x_corr(self):\n",
        "        '''\n",
        "        Возвращает координату x комплексного числа.\n",
        "        Обернула декоратором , чтобы к полю можно было обращаться с помощью точки,\n",
        "        но у пользователя не было возмжности менять поле.\n",
        "        \n",
        "        '''\n",
        "        return self.ro*math.cos(self.fi)\n",
        "\n",
        "    @property\n",
        "    def y_corr(self):\n",
        "        return self.ro*math.sin(self.fi)\n",
        "\n",
        "    def __str__(self):\n",
        "        return 'ro = {}, fi = {}'.format(self.ro, self.fi)\n",
        "    \n",
        "    @staticmethod\n",
        "    def exception_block(z):\n",
        "        if not isinstance(z, ComplexNumber):\n",
        "            try:\n",
        "                z = float(z)\n",
        "                if z<0:\n",
        "                    z = ComplexNumber(-z, math.pi/2)\n",
        "                else:\n",
        "                    z = ComplexNumber(z,0)\n",
        "            except:\n",
        "                raise ValueError(\"Multipliers have different types!\")\n",
        "        return z\n",
        "\n",
        "    def __mul__(self, z):\n",
        "        z = self.exception_block(z)\n",
        "        new_fi = z.fi+self.fi\n",
        "        new_ro = self.ro*z.ro\n",
        "\n",
        "        return ComplexNumber(new_ro, new_fi)\n",
        "\n",
        "    def __truediv__(self, z):\n",
        "        z = self.exception_block(z)\n",
        "        if z.ro == 0:\n",
        "            raise Exception(\"ro = 0!\")\n",
        "        new_fi = self.fi - z.fi\n",
        "        new_ro = self.ro/z.ro\n",
        "\n",
        "        return ComplexNumber(new_ro,new_fi)\n",
        "\n",
        "    def __add__(self, z):\n",
        "        z = self.exception_block(z)\n",
        "        x = self.x_corr + z.x_corr\n",
        "        y = self.y_corr + z.y_corr\n",
        "\n",
        "        new_ro =  math.sqrt(x**2+y**2)\n",
        "        new_fi = math.acos(x/new_ro)\n",
        "\n",
        "        return ComplexNumber(new_ro, new_fi)\n",
        "\n",
        "    def __sub__(self, z):\n",
        "        z = self.exception_block(z)\n",
        "        x = self.x_corr - z.x_corr\n",
        "        y = self.y_corr - z.y_corr\n",
        "        new_ro =  math.sqrt(x**2+y**2)\n",
        "        new_fi = math.acos(x/new_ro)\n",
        "\n",
        "        return ComplexNumber(new_ro,new_fi)\n",
        "\n",
        "\n",
        "\n"
      ],
      "execution_count": 0,
      "outputs": []
    },
    {
      "cell_type": "code",
      "metadata": {
        "id": "I9NQmyOAWpUj",
        "colab_type": "code",
        "outputId": "273e7257-b061-47d5-ab36-e9c791d24b0a",
        "colab": {
          "base_uri": "https://localhost:8080/",
          "height": 289
        }
      },
      "source": [
        "#попытаемся создать объект с отрицательным радиусом\n",
        "z1 = ComplexNumber(-2,2)"
      ],
      "execution_count": 0,
      "outputs": [
        {
          "output_type": "error",
          "ename": "ValueError",
          "evalue": "ignored",
          "traceback": [
            "\u001b[0;31m---------------------------------------------------------------------------\u001b[0m",
            "\u001b[0;31mValueError\u001b[0m                                Traceback (most recent call last)",
            "\u001b[0;32m<ipython-input-429-4a7e4ed8e1ae>\u001b[0m in \u001b[0;36m<module>\u001b[0;34m()\u001b[0m\n\u001b[0;32m----> 1\u001b[0;31m \u001b[0mz1\u001b[0m \u001b[0;34m=\u001b[0m \u001b[0mComplexNumber\u001b[0m\u001b[0;34m(\u001b[0m\u001b[0;34m-\u001b[0m\u001b[0;36m2\u001b[0m\u001b[0;34m,\u001b[0m\u001b[0;36m2\u001b[0m\u001b[0;34m)\u001b[0m\u001b[0;34m\u001b[0m\u001b[0;34m\u001b[0m\u001b[0m\n\u001b[0m",
            "\u001b[0;32m<ipython-input-428-75bea7d75c9b>\u001b[0m in \u001b[0;36m__init__\u001b[0;34m(self, ro, fi)\u001b[0m\n\u001b[1;32m      4\u001b[0m     \u001b[0;32mdef\u001b[0m \u001b[0m__init__\u001b[0m\u001b[0;34m(\u001b[0m\u001b[0mself\u001b[0m\u001b[0;34m,\u001b[0m \u001b[0mro\u001b[0m\u001b[0;34m,\u001b[0m \u001b[0mfi\u001b[0m\u001b[0;34m)\u001b[0m\u001b[0;34m:\u001b[0m\u001b[0;34m\u001b[0m\u001b[0;34m\u001b[0m\u001b[0m\n\u001b[1;32m      5\u001b[0m         \u001b[0;32mif\u001b[0m \u001b[0mro\u001b[0m \u001b[0;34m<\u001b[0m \u001b[0;36m0\u001b[0m\u001b[0;34m:\u001b[0m\u001b[0;34m\u001b[0m\u001b[0;34m\u001b[0m\u001b[0m\n\u001b[0;32m----> 6\u001b[0;31m             \u001b[0;32mraise\u001b[0m \u001b[0mValueError\u001b[0m\u001b[0;34m(\u001b[0m\u001b[0;34m'ro < 0!'\u001b[0m\u001b[0;34m)\u001b[0m\u001b[0;34m\u001b[0m\u001b[0;34m\u001b[0m\u001b[0m\n\u001b[0m\u001b[1;32m      7\u001b[0m         \u001b[0mself\u001b[0m\u001b[0;34m.\u001b[0m\u001b[0mro\u001b[0m \u001b[0;34m=\u001b[0m \u001b[0mro\u001b[0m\u001b[0;34m\u001b[0m\u001b[0;34m\u001b[0m\u001b[0m\n\u001b[1;32m      8\u001b[0m         \u001b[0mself\u001b[0m\u001b[0;34m.\u001b[0m\u001b[0mfi\u001b[0m \u001b[0;34m=\u001b[0m \u001b[0mfi\u001b[0m\u001b[0;34m\u001b[0m\u001b[0;34m\u001b[0m\u001b[0m\n",
            "\u001b[0;31mValueError\u001b[0m: ro < 0!"
          ]
        }
      ]
    },
    {
      "cell_type": "code",
      "metadata": {
        "id": "2JiqWixVYMqD",
        "colab_type": "code",
        "outputId": "e77879a8-712a-4de0-ff4c-8df2d23c6bc9",
        "colab": {
          "base_uri": "https://localhost:8080/",
          "height": 191
        }
      },
      "source": [
        "z1 = ComplexNumber(2,2)\n",
        "z2 = ComplexNumber(2.1,6)\n",
        "print('z1: ro=2,fi=2, z2:ro = 2.1, ro = 6')\n",
        "print(z1*z2)\n",
        "print(z1/z2)\n",
        "print(z1*2) # умножение на положительное вещественное число\n",
        "print(z1*(-2))# умножение на отрицательное вещественное число\n",
        "print(z2/4) # деление на вещественное число\n",
        "print(z1+z2)\n",
        "print(z1-z2)\n",
        "print(z1-1) # вычитание вещественного числа\n",
        "print(z1+2) # прибавление вещественного числа\n"
      ],
      "execution_count": 0,
      "outputs": [
        {
          "output_type": "stream",
          "text": [
            "z1: ro=2,fi=2, z2:ro = 2.1, ro = 6\n",
            "ro = 4.2, fi = 8\n",
            "ro = 0.9523809523809523, fi = -4\n",
            "ro = 4.0, fi = 2\n",
            "ro = 4.0, fi = 3.5707963267948966\n",
            "ro = 0.525, fi = 6\n",
            "ro = 1.7086233010074692, fi = 0.805164060523695\n",
            "ro = 3.7283517021941934, fi = 2.440365589008364\n",
            "ro = 2.5815862073904428, fi = 2.359946660398295\n",
            "ro = 2.161209223472559, fi = 1.0\n"
          ],
          "name": "stdout"
        }
      ]
    },
    {
      "cell_type": "code",
      "metadata": {
        "id": "f7LHQyQMi3nZ",
        "colab_type": "code",
        "outputId": "b3d2336d-84c8-4c4f-f5e3-94ad1fa84041",
        "colab": {
          "base_uri": "https://localhost:8080/",
          "height": 306
        }
      },
      "source": [
        "z3= ComplexNumber(0, 43)\n",
        "print(z1/z3)"
      ],
      "execution_count": 0,
      "outputs": [
        {
          "output_type": "error",
          "ename": "Exception",
          "evalue": "ignored",
          "traceback": [
            "\u001b[0;31m---------------------------------------------------------------------------\u001b[0m",
            "\u001b[0;31mException\u001b[0m                                 Traceback (most recent call last)",
            "\u001b[0;32m<ipython-input-431-3ca7173035c5>\u001b[0m in \u001b[0;36m<module>\u001b[0;34m()\u001b[0m\n\u001b[1;32m      1\u001b[0m \u001b[0mz3\u001b[0m\u001b[0;34m=\u001b[0m \u001b[0mComplexNumber\u001b[0m\u001b[0;34m(\u001b[0m\u001b[0;36m0\u001b[0m\u001b[0;34m,\u001b[0m \u001b[0;36m43\u001b[0m\u001b[0;34m)\u001b[0m\u001b[0;34m\u001b[0m\u001b[0;34m\u001b[0m\u001b[0m\n\u001b[0;32m----> 2\u001b[0;31m \u001b[0mprint\u001b[0m\u001b[0;34m(\u001b[0m\u001b[0mz1\u001b[0m\u001b[0;34m/\u001b[0m\u001b[0mz3\u001b[0m\u001b[0;34m)\u001b[0m\u001b[0;34m\u001b[0m\u001b[0;34m\u001b[0m\u001b[0m\n\u001b[0m",
            "\u001b[0;32m<ipython-input-428-75bea7d75c9b>\u001b[0m in \u001b[0;36m__truediv__\u001b[0;34m(self, z)\u001b[0m\n\u001b[1;32m     48\u001b[0m         \u001b[0mz\u001b[0m \u001b[0;34m=\u001b[0m \u001b[0mself\u001b[0m\u001b[0;34m.\u001b[0m\u001b[0mexception_block\u001b[0m\u001b[0;34m(\u001b[0m\u001b[0mz\u001b[0m\u001b[0;34m)\u001b[0m\u001b[0;34m\u001b[0m\u001b[0;34m\u001b[0m\u001b[0m\n\u001b[1;32m     49\u001b[0m         \u001b[0;32mif\u001b[0m \u001b[0mz\u001b[0m\u001b[0;34m.\u001b[0m\u001b[0mro\u001b[0m \u001b[0;34m==\u001b[0m \u001b[0;36m0\u001b[0m\u001b[0;34m:\u001b[0m\u001b[0;34m\u001b[0m\u001b[0;34m\u001b[0m\u001b[0m\n\u001b[0;32m---> 50\u001b[0;31m             \u001b[0;32mraise\u001b[0m \u001b[0mException\u001b[0m\u001b[0;34m(\u001b[0m\u001b[0;34m\"ro = 0!\"\u001b[0m\u001b[0;34m)\u001b[0m\u001b[0;34m\u001b[0m\u001b[0;34m\u001b[0m\u001b[0m\n\u001b[0m\u001b[1;32m     51\u001b[0m         \u001b[0mnew_fi\u001b[0m \u001b[0;34m=\u001b[0m \u001b[0mself\u001b[0m\u001b[0;34m.\u001b[0m\u001b[0mfi\u001b[0m \u001b[0;34m-\u001b[0m \u001b[0mz\u001b[0m\u001b[0;34m.\u001b[0m\u001b[0mfi\u001b[0m\u001b[0;34m\u001b[0m\u001b[0;34m\u001b[0m\u001b[0m\n\u001b[1;32m     52\u001b[0m         \u001b[0mnew_ro\u001b[0m \u001b[0;34m=\u001b[0m \u001b[0mself\u001b[0m\u001b[0;34m.\u001b[0m\u001b[0mro\u001b[0m\u001b[0;34m/\u001b[0m\u001b[0mz\u001b[0m\u001b[0;34m.\u001b[0m\u001b[0mro\u001b[0m\u001b[0;34m\u001b[0m\u001b[0;34m\u001b[0m\u001b[0m\n",
            "\u001b[0;31mException\u001b[0m: ro = 0!"
          ]
        }
      ]
    },
    {
      "cell_type": "code",
      "metadata": {
        "id": "wNFhDqC4xqU4",
        "colab_type": "code",
        "outputId": "35e7772b-f6a9-4eaf-fa47-0271179a3f44",
        "colab": {
          "base_uri": "https://localhost:8080/",
          "height": 434
        }
      },
      "source": [
        "print(z1*'строка')"
      ],
      "execution_count": 0,
      "outputs": [
        {
          "output_type": "error",
          "ename": "ValueError",
          "evalue": "ignored",
          "traceback": [
            "\u001b[0;31m---------------------------------------------------------------------------\u001b[0m",
            "\u001b[0;31mValueError\u001b[0m                                Traceback (most recent call last)",
            "\u001b[0;32m<ipython-input-428-75bea7d75c9b>\u001b[0m in \u001b[0;36mexception_block\u001b[0;34m(z)\u001b[0m\n\u001b[1;32m     30\u001b[0m             \u001b[0;32mtry\u001b[0m\u001b[0;34m:\u001b[0m\u001b[0;34m\u001b[0m\u001b[0;34m\u001b[0m\u001b[0m\n\u001b[0;32m---> 31\u001b[0;31m                 \u001b[0mz\u001b[0m \u001b[0;34m=\u001b[0m \u001b[0mfloat\u001b[0m\u001b[0;34m(\u001b[0m\u001b[0mz\u001b[0m\u001b[0;34m)\u001b[0m\u001b[0;34m\u001b[0m\u001b[0;34m\u001b[0m\u001b[0m\n\u001b[0m\u001b[1;32m     32\u001b[0m                 \u001b[0;32mif\u001b[0m \u001b[0mz\u001b[0m\u001b[0;34m<\u001b[0m\u001b[0;36m0\u001b[0m\u001b[0;34m:\u001b[0m\u001b[0;34m\u001b[0m\u001b[0;34m\u001b[0m\u001b[0m\n",
            "\u001b[0;31mValueError\u001b[0m: could not convert string to float: 'строка'",
            "\nDuring handling of the above exception, another exception occurred:\n",
            "\u001b[0;31mValueError\u001b[0m                                Traceback (most recent call last)",
            "\u001b[0;32m<ipython-input-432-3b2a53b4fd9e>\u001b[0m in \u001b[0;36m<module>\u001b[0;34m()\u001b[0m\n\u001b[0;32m----> 1\u001b[0;31m \u001b[0mprint\u001b[0m\u001b[0;34m(\u001b[0m\u001b[0mz1\u001b[0m\u001b[0;34m*\u001b[0m\u001b[0;34m'строка'\u001b[0m\u001b[0;34m)\u001b[0m\u001b[0;34m\u001b[0m\u001b[0;34m\u001b[0m\u001b[0m\n\u001b[0m",
            "\u001b[0;32m<ipython-input-428-75bea7d75c9b>\u001b[0m in \u001b[0;36m__mul__\u001b[0;34m(self, z)\u001b[0m\n\u001b[1;32m     39\u001b[0m \u001b[0;34m\u001b[0m\u001b[0m\n\u001b[1;32m     40\u001b[0m     \u001b[0;32mdef\u001b[0m \u001b[0m__mul__\u001b[0m\u001b[0;34m(\u001b[0m\u001b[0mself\u001b[0m\u001b[0;34m,\u001b[0m \u001b[0mz\u001b[0m\u001b[0;34m)\u001b[0m\u001b[0;34m:\u001b[0m\u001b[0;34m\u001b[0m\u001b[0;34m\u001b[0m\u001b[0m\n\u001b[0;32m---> 41\u001b[0;31m         \u001b[0mz\u001b[0m \u001b[0;34m=\u001b[0m \u001b[0mself\u001b[0m\u001b[0;34m.\u001b[0m\u001b[0mexception_block\u001b[0m\u001b[0;34m(\u001b[0m\u001b[0mz\u001b[0m\u001b[0;34m)\u001b[0m\u001b[0;34m\u001b[0m\u001b[0;34m\u001b[0m\u001b[0m\n\u001b[0m\u001b[1;32m     42\u001b[0m         \u001b[0mnew_fi\u001b[0m \u001b[0;34m=\u001b[0m \u001b[0mz\u001b[0m\u001b[0;34m.\u001b[0m\u001b[0mfi\u001b[0m\u001b[0;34m+\u001b[0m\u001b[0mself\u001b[0m\u001b[0;34m.\u001b[0m\u001b[0mfi\u001b[0m\u001b[0;34m\u001b[0m\u001b[0;34m\u001b[0m\u001b[0m\n\u001b[1;32m     43\u001b[0m         \u001b[0mnew_ro\u001b[0m \u001b[0;34m=\u001b[0m \u001b[0mself\u001b[0m\u001b[0;34m.\u001b[0m\u001b[0mro\u001b[0m\u001b[0;34m*\u001b[0m\u001b[0mz\u001b[0m\u001b[0;34m.\u001b[0m\u001b[0mro\u001b[0m\u001b[0;34m\u001b[0m\u001b[0;34m\u001b[0m\u001b[0m\n",
            "\u001b[0;32m<ipython-input-428-75bea7d75c9b>\u001b[0m in \u001b[0;36mexception_block\u001b[0;34m(z)\u001b[0m\n\u001b[1;32m     35\u001b[0m                     \u001b[0mz\u001b[0m \u001b[0;34m=\u001b[0m \u001b[0mComplexNumber\u001b[0m\u001b[0;34m(\u001b[0m\u001b[0mz\u001b[0m\u001b[0;34m,\u001b[0m\u001b[0;36m0\u001b[0m\u001b[0;34m)\u001b[0m\u001b[0;34m\u001b[0m\u001b[0;34m\u001b[0m\u001b[0m\n\u001b[1;32m     36\u001b[0m             \u001b[0;32mexcept\u001b[0m\u001b[0;34m:\u001b[0m\u001b[0;34m\u001b[0m\u001b[0;34m\u001b[0m\u001b[0m\n\u001b[0;32m---> 37\u001b[0;31m                 \u001b[0;32mraise\u001b[0m \u001b[0mValueError\u001b[0m\u001b[0;34m(\u001b[0m\u001b[0;34m\"Multipliers have different types!\"\u001b[0m\u001b[0;34m)\u001b[0m\u001b[0;34m\u001b[0m\u001b[0;34m\u001b[0m\u001b[0m\n\u001b[0m\u001b[1;32m     38\u001b[0m         \u001b[0;32mreturn\u001b[0m \u001b[0mz\u001b[0m\u001b[0;34m\u001b[0m\u001b[0;34m\u001b[0m\u001b[0m\n\u001b[1;32m     39\u001b[0m \u001b[0;34m\u001b[0m\u001b[0m\n",
            "\u001b[0;31mValueError\u001b[0m: Multipliers have different types!"
          ]
        }
      ]
    },
    {
      "cell_type": "code",
      "metadata": {
        "id": "Qc8VmUKtI0fY",
        "colab_type": "code",
        "outputId": "25677bf5-76a2-4654-94ba-d7a86ad72b45",
        "colab": {
          "base_uri": "https://localhost:8080/",
          "height": 202
        }
      },
      "source": [
        "# попробуем изменить поле x_corr:\n",
        "print(z1.x_corr)\n",
        "z1.x_corr = 0"
      ],
      "execution_count": 0,
      "outputs": [
        {
          "output_type": "stream",
          "text": [
            "-0.8322936730942848\n"
          ],
          "name": "stdout"
        },
        {
          "output_type": "error",
          "ename": "AttributeError",
          "evalue": "ignored",
          "traceback": [
            "\u001b[0;31m---------------------------------------------------------------------------\u001b[0m",
            "\u001b[0;31mAttributeError\u001b[0m                            Traceback (most recent call last)",
            "\u001b[0;32m<ipython-input-435-ff35bfe26751>\u001b[0m in \u001b[0;36m<module>\u001b[0;34m()\u001b[0m\n\u001b[1;32m      1\u001b[0m \u001b[0mprint\u001b[0m\u001b[0;34m(\u001b[0m\u001b[0mz1\u001b[0m\u001b[0;34m.\u001b[0m\u001b[0mx_corr\u001b[0m\u001b[0;34m)\u001b[0m\u001b[0;34m\u001b[0m\u001b[0;34m\u001b[0m\u001b[0m\n\u001b[0;32m----> 2\u001b[0;31m \u001b[0mz1\u001b[0m\u001b[0;34m.\u001b[0m\u001b[0mx_corr\u001b[0m \u001b[0;34m=\u001b[0m \u001b[0;36m0\u001b[0m\u001b[0;34m\u001b[0m\u001b[0;34m\u001b[0m\u001b[0m\n\u001b[0m",
            "\u001b[0;31mAttributeError\u001b[0m: can't set attribute"
          ]
        }
      ]
    },
    {
      "cell_type": "markdown",
      "metadata": {
        "id": "etHgPtBq6U0_",
        "colab_type": "text"
      },
      "source": [
        "__Задание 3 (1.5 балл):__ Составить описание класса для объектов-векторов, задаваемых координатами концов в N-мерном пространстве. Основой является список значений координат вектора, задаваемый списком. Обеспечить операции сложения и вычитания векторов с получением нового вектора (суммы или разности), вычисления скалярного произведения двух векторов, длины вектора, косинуса угла между векторами. Все операции, которые можно перегрузить с помощью магических методов, должны быть реализованы именно через них. Класс должен производить проверку консистентности аргументов для каждой операции и в случаях ошибок выбрасывать исключение `ValueError` с исчерпывающим объяснением ошибки."
      ]
    },
    {
      "cell_type": "code",
      "metadata": {
        "id": "yrXlyOl9ETZt",
        "colab_type": "code",
        "colab": {}
      },
      "source": [
        "from itertools import accumulate\n"
      ],
      "execution_count": 0,
      "outputs": []
    },
    {
      "cell_type": "code",
      "metadata": {
        "id": "XP-3qWiQ6U1B",
        "colab_type": "code",
        "colab": {}
      },
      "source": [
        "class Vector:\n",
        "    def __init__(self, vector_values_list):\n",
        "        if len(vector_values_list) == 0:\n",
        "            raise ValueError(\"vector_values_list is empty!\")\n",
        "        self.corrs = vector_values_list\n",
        "        \n",
        "    def __str__(self):\n",
        "        return str(self.corrs)\n",
        "\n",
        "    def __check(self, other):\n",
        "        if not isinstance(other, Vector):\n",
        "            raise TypeError(\"unsupported operand type(s) for +: {} and {}\".format(type(self), type(other)))\n",
        "        if len(self.corrs) != len(other.corrs):\n",
        "            raise ValueError(\"vectors have different number of coordinates: {} != {}\".format(len(self.corrs), len(other.corrs)))\n",
        "        return True\n",
        "        \n",
        "    def __add__(self, other):\n",
        "        if self.__check(other):\n",
        "            new_cor = []\n",
        "            for i in enumerate(self.corrs):\n",
        "                new_cor.append(self.corrs[i[0]]+other.corrs[i[0]])\n",
        "        return Vector(new_cor)\n",
        "\n",
        "    def __sub__(self, other):\n",
        "        if self.__check(other):\n",
        "            new_cor = []\n",
        "            for i in enumerate(self.corrs):\n",
        "                new_cor.append(self.corrs[i[0]]-other.corrs[i[0]])\n",
        "        return Vector(new_cor)\n",
        "\n",
        "    def __mul__(self,other):\n",
        "        if self.__check(other):\n",
        "            multiply = 0\n",
        "            for i in enumerate(self.corrs):\n",
        "                multiply+=self.corrs[i[0]]*other.corrs[i[0]]\n",
        "        return multiply\n",
        "    \n",
        "    @property\n",
        "    def length(self):\n",
        "        '''\n",
        "        Декоратор @property использован, чтобы у пользователя не \n",
        "        было возможности изменить поле, но была возможность обращаться к вычисляемому \n",
        "        атрибуту через точку.\n",
        "\n",
        "        '''\n",
        "        l = list(accumulate((map(lambda x: x**2, self.corrs))))[-1]\n",
        "        return l**0.5\n",
        "\n",
        "\n",
        "    def cos(self,other):\n",
        "\n",
        "        if self.length == 0 or other.length == 0:\n",
        "            return 1\n",
        "        return self*other / (self.length*other.length)\n",
        "    \n"
      ],
      "execution_count": 0,
      "outputs": []
    },
    {
      "cell_type": "code",
      "metadata": {
        "id": "_0iOo3dz5U7r",
        "colab_type": "code",
        "colab": {}
      },
      "source": [
        "a = Vector([1,2,3,4,5])\n",
        "c = Vector([0,0,0,0,0])\n",
        "e = Vector([0.1,0.2,0,0,0.1])"
      ],
      "execution_count": 0,
      "outputs": []
    },
    {
      "cell_type": "code",
      "metadata": {
        "id": "h-o9IkhoGz_n",
        "colab_type": "code",
        "outputId": "2018e8dd-c64b-4493-f8a8-eff63b80195b",
        "colab": {
          "base_uri": "https://localhost:8080/",
          "height": 121
        }
      },
      "source": [
        "print(a*e)\n",
        "print(a*c)\n",
        "print(c.length)\n",
        "print(a.cos(a))\n",
        "print(c.cos(a))\n",
        "print(a.cos(c))"
      ],
      "execution_count": 0,
      "outputs": [
        {
          "output_type": "stream",
          "text": [
            "1.0\n",
            "0\n",
            "0.0\n",
            "1.0\n",
            "1\n",
            "1\n"
          ],
          "name": "stdout"
        }
      ]
    },
    {
      "cell_type": "code",
      "metadata": {
        "id": "aYketsdBEkPu",
        "colab_type": "code",
        "outputId": "0f232cf6-c4e5-4202-931c-cd2286309616",
        "colab": {
          "base_uri": "https://localhost:8080/",
          "height": 34
        }
      },
      "source": [
        "b = Vector([1,1])\n",
        "d = Vector([0,1])\n",
        "print(b.cos(d))"
      ],
      "execution_count": 0,
      "outputs": [
        {
          "output_type": "stream",
          "text": [
            "0.7071067811865475\n"
          ],
          "name": "stdout"
        }
      ]
    },
    {
      "cell_type": "code",
      "metadata": {
        "id": "DKVNSupyIyzQ",
        "colab_type": "code",
        "outputId": "c1c69d66-221e-4856-dab6-2c2ac363a8a0",
        "colab": {
          "base_uri": "https://localhost:8080/",
          "height": 289
        }
      },
      "source": [
        "# попробуем создать вектор с пустым списком координат\n",
        "vector = Vector([])"
      ],
      "execution_count": 0,
      "outputs": [
        {
          "output_type": "error",
          "ename": "ValueError",
          "evalue": "ignored",
          "traceback": [
            "\u001b[0;31m---------------------------------------------------------------------------\u001b[0m",
            "\u001b[0;31mValueError\u001b[0m                                Traceback (most recent call last)",
            "\u001b[0;32m<ipython-input-441-11ec22f67fbe>\u001b[0m in \u001b[0;36m<module>\u001b[0;34m()\u001b[0m\n\u001b[0;32m----> 1\u001b[0;31m \u001b[0mvector\u001b[0m \u001b[0;34m=\u001b[0m \u001b[0mVector\u001b[0m\u001b[0;34m(\u001b[0m\u001b[0;34m[\u001b[0m\u001b[0;34m]\u001b[0m\u001b[0;34m)\u001b[0m\u001b[0;34m\u001b[0m\u001b[0;34m\u001b[0m\u001b[0m\n\u001b[0m",
            "\u001b[0;32m<ipython-input-436-7508225f2535>\u001b[0m in \u001b[0;36m__init__\u001b[0;34m(self, vector_values_list)\u001b[0m\n\u001b[1;32m      2\u001b[0m     \u001b[0;32mdef\u001b[0m \u001b[0m__init__\u001b[0m\u001b[0;34m(\u001b[0m\u001b[0mself\u001b[0m\u001b[0;34m,\u001b[0m \u001b[0mvector_values_list\u001b[0m\u001b[0;34m)\u001b[0m\u001b[0;34m:\u001b[0m\u001b[0;34m\u001b[0m\u001b[0;34m\u001b[0m\u001b[0m\n\u001b[1;32m      3\u001b[0m         \u001b[0;32mif\u001b[0m \u001b[0mlen\u001b[0m\u001b[0;34m(\u001b[0m\u001b[0mvector_values_list\u001b[0m\u001b[0;34m)\u001b[0m \u001b[0;34m==\u001b[0m \u001b[0;36m0\u001b[0m\u001b[0;34m:\u001b[0m\u001b[0;34m\u001b[0m\u001b[0;34m\u001b[0m\u001b[0m\n\u001b[0;32m----> 4\u001b[0;31m             \u001b[0;32mraise\u001b[0m \u001b[0mValueError\u001b[0m\u001b[0;34m(\u001b[0m\u001b[0;34m\"vector_values_list is empty!\"\u001b[0m\u001b[0;34m)\u001b[0m\u001b[0;34m\u001b[0m\u001b[0;34m\u001b[0m\u001b[0m\n\u001b[0m\u001b[1;32m      5\u001b[0m         \u001b[0mself\u001b[0m\u001b[0;34m.\u001b[0m\u001b[0mcorrs\u001b[0m \u001b[0;34m=\u001b[0m \u001b[0mvector_values_list\u001b[0m\u001b[0;34m\u001b[0m\u001b[0;34m\u001b[0m\u001b[0m\n\u001b[1;32m      6\u001b[0m \u001b[0;34m\u001b[0m\u001b[0m\n",
            "\u001b[0;31mValueError\u001b[0m: vector_values_list is empty!"
          ]
        }
      ]
    },
    {
      "cell_type": "code",
      "metadata": {
        "id": "JyMsw2ynJ1Q2",
        "colab_type": "code",
        "outputId": "df2faf49-41b2-4624-f014-6dc85904b921",
        "colab": {
          "base_uri": "https://localhost:8080/",
          "height": 313
        }
      },
      "source": [
        "# попробуем сложить векторы разных размерностей\n",
        "print(a+b)"
      ],
      "execution_count": 0,
      "outputs": [
        {
          "output_type": "error",
          "ename": "ValueError",
          "evalue": "ignored",
          "traceback": [
            "\u001b[0;31m---------------------------------------------------------------------------\u001b[0m",
            "\u001b[0;31mValueError\u001b[0m                                Traceback (most recent call last)",
            "\u001b[0;32m<ipython-input-442-85111a3ab660>\u001b[0m in \u001b[0;36m<module>\u001b[0;34m()\u001b[0m\n\u001b[0;32m----> 1\u001b[0;31m \u001b[0mprint\u001b[0m\u001b[0;34m(\u001b[0m\u001b[0ma\u001b[0m\u001b[0;34m+\u001b[0m\u001b[0mb\u001b[0m\u001b[0;34m)\u001b[0m\u001b[0;34m\u001b[0m\u001b[0;34m\u001b[0m\u001b[0m\n\u001b[0m",
            "\u001b[0;32m<ipython-input-436-7508225f2535>\u001b[0m in \u001b[0;36m__add__\u001b[0;34m(self, other)\u001b[0m\n\u001b[1;32m     16\u001b[0m \u001b[0;34m\u001b[0m\u001b[0m\n\u001b[1;32m     17\u001b[0m     \u001b[0;32mdef\u001b[0m \u001b[0m__add__\u001b[0m\u001b[0;34m(\u001b[0m\u001b[0mself\u001b[0m\u001b[0;34m,\u001b[0m \u001b[0mother\u001b[0m\u001b[0;34m)\u001b[0m\u001b[0;34m:\u001b[0m\u001b[0;34m\u001b[0m\u001b[0;34m\u001b[0m\u001b[0m\n\u001b[0;32m---> 18\u001b[0;31m         \u001b[0;32mif\u001b[0m \u001b[0mself\u001b[0m\u001b[0;34m.\u001b[0m\u001b[0m__check\u001b[0m\u001b[0;34m(\u001b[0m\u001b[0mother\u001b[0m\u001b[0;34m)\u001b[0m\u001b[0;34m:\u001b[0m\u001b[0;34m\u001b[0m\u001b[0;34m\u001b[0m\u001b[0m\n\u001b[0m\u001b[1;32m     19\u001b[0m             \u001b[0mnew_cor\u001b[0m \u001b[0;34m=\u001b[0m \u001b[0;34m[\u001b[0m\u001b[0;34m]\u001b[0m\u001b[0;34m\u001b[0m\u001b[0;34m\u001b[0m\u001b[0m\n\u001b[1;32m     20\u001b[0m             \u001b[0;32mfor\u001b[0m \u001b[0mi\u001b[0m \u001b[0;32min\u001b[0m \u001b[0menumerate\u001b[0m\u001b[0;34m(\u001b[0m\u001b[0mself\u001b[0m\u001b[0;34m.\u001b[0m\u001b[0mcorrs\u001b[0m\u001b[0;34m)\u001b[0m\u001b[0;34m:\u001b[0m\u001b[0;34m\u001b[0m\u001b[0;34m\u001b[0m\u001b[0m\n",
            "\u001b[0;32m<ipython-input-436-7508225f2535>\u001b[0m in \u001b[0;36m__check\u001b[0;34m(self, other)\u001b[0m\n\u001b[1;32m     12\u001b[0m             \u001b[0;32mraise\u001b[0m \u001b[0mTypeError\u001b[0m\u001b[0;34m(\u001b[0m\u001b[0;34m\"unsupported operand type(s) for +: {} and {}\"\u001b[0m\u001b[0;34m.\u001b[0m\u001b[0mformat\u001b[0m\u001b[0;34m(\u001b[0m\u001b[0mtype\u001b[0m\u001b[0;34m(\u001b[0m\u001b[0mself\u001b[0m\u001b[0;34m)\u001b[0m\u001b[0;34m,\u001b[0m \u001b[0mtype\u001b[0m\u001b[0;34m(\u001b[0m\u001b[0mother\u001b[0m\u001b[0;34m)\u001b[0m\u001b[0;34m)\u001b[0m\u001b[0;34m)\u001b[0m\u001b[0;34m\u001b[0m\u001b[0;34m\u001b[0m\u001b[0m\n\u001b[1;32m     13\u001b[0m         \u001b[0;32mif\u001b[0m \u001b[0mlen\u001b[0m\u001b[0;34m(\u001b[0m\u001b[0mself\u001b[0m\u001b[0;34m.\u001b[0m\u001b[0mcorrs\u001b[0m\u001b[0;34m)\u001b[0m \u001b[0;34m!=\u001b[0m \u001b[0mlen\u001b[0m\u001b[0;34m(\u001b[0m\u001b[0mother\u001b[0m\u001b[0;34m.\u001b[0m\u001b[0mcorrs\u001b[0m\u001b[0;34m)\u001b[0m\u001b[0;34m:\u001b[0m\u001b[0;34m\u001b[0m\u001b[0;34m\u001b[0m\u001b[0m\n\u001b[0;32m---> 14\u001b[0;31m             \u001b[0;32mraise\u001b[0m \u001b[0mValueError\u001b[0m\u001b[0;34m(\u001b[0m\u001b[0;34m\"vectors have different number of coordinates: {} != {}\"\u001b[0m\u001b[0;34m.\u001b[0m\u001b[0mformat\u001b[0m\u001b[0;34m(\u001b[0m\u001b[0mlen\u001b[0m\u001b[0;34m(\u001b[0m\u001b[0mself\u001b[0m\u001b[0;34m.\u001b[0m\u001b[0mcorrs\u001b[0m\u001b[0;34m)\u001b[0m\u001b[0;34m,\u001b[0m \u001b[0mlen\u001b[0m\u001b[0;34m(\u001b[0m\u001b[0mother\u001b[0m\u001b[0;34m.\u001b[0m\u001b[0mcorrs\u001b[0m\u001b[0;34m)\u001b[0m\u001b[0;34m)\u001b[0m\u001b[0;34m)\u001b[0m\u001b[0;34m\u001b[0m\u001b[0;34m\u001b[0m\u001b[0m\n\u001b[0m\u001b[1;32m     15\u001b[0m         \u001b[0;32mreturn\u001b[0m \u001b[0;32mTrue\u001b[0m\u001b[0;34m\u001b[0m\u001b[0;34m\u001b[0m\u001b[0m\n\u001b[1;32m     16\u001b[0m \u001b[0;34m\u001b[0m\u001b[0m\n",
            "\u001b[0;31mValueError\u001b[0m: vectors have different number of coordinates: 5 != 2"
          ]
        }
      ]
    },
    {
      "cell_type": "code",
      "metadata": {
        "id": "SLinIdbNK6JP",
        "colab_type": "code",
        "outputId": "0445f8f0-14e3-46b8-a723-2549ab6708d5",
        "colab": {
          "base_uri": "https://localhost:8080/",
          "height": 313
        }
      },
      "source": [
        "# попробуем умножите вектор на строку\n",
        "a*'строка'"
      ],
      "execution_count": 0,
      "outputs": [
        {
          "output_type": "error",
          "ename": "TypeError",
          "evalue": "ignored",
          "traceback": [
            "\u001b[0;31m---------------------------------------------------------------------------\u001b[0m",
            "\u001b[0;31mTypeError\u001b[0m                                 Traceback (most recent call last)",
            "\u001b[0;32m<ipython-input-443-14cd680907fb>\u001b[0m in \u001b[0;36m<module>\u001b[0;34m()\u001b[0m\n\u001b[0;32m----> 1\u001b[0;31m \u001b[0ma\u001b[0m\u001b[0;34m*\u001b[0m\u001b[0;34m'строка'\u001b[0m\u001b[0;34m\u001b[0m\u001b[0;34m\u001b[0m\u001b[0m\n\u001b[0m",
            "\u001b[0;32m<ipython-input-436-7508225f2535>\u001b[0m in \u001b[0;36m__mul__\u001b[0;34m(self, other)\u001b[0m\n\u001b[1;32m     30\u001b[0m \u001b[0;34m\u001b[0m\u001b[0m\n\u001b[1;32m     31\u001b[0m     \u001b[0;32mdef\u001b[0m \u001b[0m__mul__\u001b[0m\u001b[0;34m(\u001b[0m\u001b[0mself\u001b[0m\u001b[0;34m,\u001b[0m\u001b[0mother\u001b[0m\u001b[0;34m)\u001b[0m\u001b[0;34m:\u001b[0m\u001b[0;34m\u001b[0m\u001b[0;34m\u001b[0m\u001b[0m\n\u001b[0;32m---> 32\u001b[0;31m         \u001b[0;32mif\u001b[0m \u001b[0mself\u001b[0m\u001b[0;34m.\u001b[0m\u001b[0m__check\u001b[0m\u001b[0;34m(\u001b[0m\u001b[0mother\u001b[0m\u001b[0;34m)\u001b[0m\u001b[0;34m:\u001b[0m\u001b[0;34m\u001b[0m\u001b[0;34m\u001b[0m\u001b[0m\n\u001b[0m\u001b[1;32m     33\u001b[0m             \u001b[0mmultiply\u001b[0m \u001b[0;34m=\u001b[0m \u001b[0;36m0\u001b[0m\u001b[0;34m\u001b[0m\u001b[0;34m\u001b[0m\u001b[0m\n\u001b[1;32m     34\u001b[0m             \u001b[0;32mfor\u001b[0m \u001b[0mi\u001b[0m \u001b[0;32min\u001b[0m \u001b[0menumerate\u001b[0m\u001b[0;34m(\u001b[0m\u001b[0mself\u001b[0m\u001b[0;34m.\u001b[0m\u001b[0mcorrs\u001b[0m\u001b[0;34m)\u001b[0m\u001b[0;34m:\u001b[0m\u001b[0;34m\u001b[0m\u001b[0;34m\u001b[0m\u001b[0m\n",
            "\u001b[0;32m<ipython-input-436-7508225f2535>\u001b[0m in \u001b[0;36m__check\u001b[0;34m(self, other)\u001b[0m\n\u001b[1;32m     10\u001b[0m     \u001b[0;32mdef\u001b[0m \u001b[0m__check\u001b[0m\u001b[0;34m(\u001b[0m\u001b[0mself\u001b[0m\u001b[0;34m,\u001b[0m \u001b[0mother\u001b[0m\u001b[0;34m)\u001b[0m\u001b[0;34m:\u001b[0m\u001b[0;34m\u001b[0m\u001b[0;34m\u001b[0m\u001b[0m\n\u001b[1;32m     11\u001b[0m         \u001b[0;32mif\u001b[0m \u001b[0;32mnot\u001b[0m \u001b[0misinstance\u001b[0m\u001b[0;34m(\u001b[0m\u001b[0mother\u001b[0m\u001b[0;34m,\u001b[0m \u001b[0mVector\u001b[0m\u001b[0;34m)\u001b[0m\u001b[0;34m:\u001b[0m\u001b[0;34m\u001b[0m\u001b[0;34m\u001b[0m\u001b[0m\n\u001b[0;32m---> 12\u001b[0;31m             \u001b[0;32mraise\u001b[0m \u001b[0mTypeError\u001b[0m\u001b[0;34m(\u001b[0m\u001b[0;34m\"unsupported operand type(s) for +: {} and {}\"\u001b[0m\u001b[0;34m.\u001b[0m\u001b[0mformat\u001b[0m\u001b[0;34m(\u001b[0m\u001b[0mtype\u001b[0m\u001b[0;34m(\u001b[0m\u001b[0mself\u001b[0m\u001b[0;34m)\u001b[0m\u001b[0;34m,\u001b[0m \u001b[0mtype\u001b[0m\u001b[0;34m(\u001b[0m\u001b[0mother\u001b[0m\u001b[0;34m)\u001b[0m\u001b[0;34m)\u001b[0m\u001b[0;34m)\u001b[0m\u001b[0;34m\u001b[0m\u001b[0;34m\u001b[0m\u001b[0m\n\u001b[0m\u001b[1;32m     13\u001b[0m         \u001b[0;32mif\u001b[0m \u001b[0mlen\u001b[0m\u001b[0;34m(\u001b[0m\u001b[0mself\u001b[0m\u001b[0;34m.\u001b[0m\u001b[0mcorrs\u001b[0m\u001b[0;34m)\u001b[0m \u001b[0;34m!=\u001b[0m \u001b[0mlen\u001b[0m\u001b[0;34m(\u001b[0m\u001b[0mother\u001b[0m\u001b[0;34m.\u001b[0m\u001b[0mcorrs\u001b[0m\u001b[0;34m)\u001b[0m\u001b[0;34m:\u001b[0m\u001b[0;34m\u001b[0m\u001b[0;34m\u001b[0m\u001b[0m\n\u001b[1;32m     14\u001b[0m             \u001b[0;32mraise\u001b[0m \u001b[0mValueError\u001b[0m\u001b[0;34m(\u001b[0m\u001b[0;34m\"vectors have different number of coordinates: {} != {}\"\u001b[0m\u001b[0;34m.\u001b[0m\u001b[0mformat\u001b[0m\u001b[0;34m(\u001b[0m\u001b[0mlen\u001b[0m\u001b[0;34m(\u001b[0m\u001b[0mself\u001b[0m\u001b[0;34m.\u001b[0m\u001b[0mcorrs\u001b[0m\u001b[0;34m)\u001b[0m\u001b[0;34m,\u001b[0m \u001b[0mlen\u001b[0m\u001b[0;34m(\u001b[0m\u001b[0mother\u001b[0m\u001b[0;34m.\u001b[0m\u001b[0mcorrs\u001b[0m\u001b[0;34m)\u001b[0m\u001b[0;34m)\u001b[0m\u001b[0;34m)\u001b[0m\u001b[0;34m\u001b[0m\u001b[0;34m\u001b[0m\u001b[0m\n",
            "\u001b[0;31mTypeError\u001b[0m: unsupported operand type(s) for +: <class '__main__.Vector'> and <class 'str'>"
          ]
        }
      ]
    },
    {
      "cell_type": "markdown",
      "metadata": {
        "id": "ejX_v-yi6U1J",
        "colab_type": "text"
      },
      "source": [
        "__Задание 4 (1.5 балл):__ Опишите декоратор, который принимает на вход функцию и при каждом её вызове печатает строку \"This function was called N times\", где N - число раз, которое это функция была вызвана на текущий момент (пока функция существует как объект, это число, очевидно, может только неубывать)."
      ]
    },
    {
      "cell_type": "code",
      "metadata": {
        "id": "SmbftPla6U1L",
        "colab_type": "code",
        "colab": {}
      },
      "source": [
        "def calls_counter(func):\n",
        "    '''\n",
        "\n",
        "    Decorator return function and print how many times\n",
        "    this function was called. \n",
        "\n",
        "    Set attribute __times_counter__, add 1 to attribute if function was\n",
        "    called.\n",
        "\n",
        "    Parametrs:\n",
        "        func - function\n",
        "    Returns:\n",
        "        function wrapped\n",
        "\n",
        "\n",
        "    '''\n",
        "    func.__times_counter__ = 0\n",
        "    def wrapped(*args, **kwargs):\n",
        "\n",
        "        func.__times_counter__+=1\n",
        "        print(\"This function was called {} times\".format(func.__times_counter__))\n",
        "        result = func(*args, **kwargs)\n",
        "        return result\n",
        "\n",
        "    return wrapped"
      ],
      "execution_count": 0,
      "outputs": []
    },
    {
      "cell_type": "code",
      "metadata": {
        "id": "UIsCsmbg-1HV",
        "colab_type": "code",
        "colab": {}
      },
      "source": [
        "@calls_counter\n",
        "def func(a):\n",
        "    return a+3"
      ],
      "execution_count": 0,
      "outputs": []
    },
    {
      "cell_type": "code",
      "metadata": {
        "id": "3YIXQp4O_L-R",
        "colab_type": "code",
        "outputId": "ea60b3ba-01a9-425d-82d6-8893a17f8614",
        "colab": {
          "base_uri": "https://localhost:8080/",
          "height": 86
        }
      },
      "source": [
        "for i in range(4):\n",
        "    func(i)"
      ],
      "execution_count": 0,
      "outputs": [
        {
          "output_type": "stream",
          "text": [
            "This function was called 1 times\n",
            "This function was called 2 times\n",
            "This function was called 3 times\n",
            "This function was called 4 times\n"
          ],
          "name": "stdout"
        }
      ]
    },
    {
      "cell_type": "markdown",
      "metadata": {
        "id": "3eUf9d6V6U1a",
        "colab_type": "text"
      },
      "source": [
        "__Задание 5 (2.5 балла):__ Опишите декоратор класса, который принимает на вход другой класс и снабжает декорируемый класс всеми атрибутами входного класса, названия которых НЕ обрамлены с обеих сторон \"\\_\\_\". При этом приватные атрибуты-поля (начинающиеся в объявлении с \"\\_\\_\") должны иметь в декорируемом классе корректное имя.\n",
        "\n",
        "В случае конфликтов имён импортируемый атрибут должен получить имя с суффиксом \"\\_new\".\n",
        "\n",
        "Дополнительно для каждого полученного в итоге атрибута `attr_name` декорируемого класса, не являющегося публичным, должен быть добавлен метод `get_attr_name()`. Если такой метод в классе уже есть, то ничего делать не нужно."
      ]
    },
    {
      "cell_type": "code",
      "metadata": {
        "id": "r-X7aJvTuGqt",
        "colab_type": "code",
        "colab": {}
      },
      "source": [
        "import re"
      ],
      "execution_count": 0,
      "outputs": []
    },
    {
      "cell_type": "code",
      "metadata": {
        "id": "2SCnrPhg6U1b",
        "colab_type": "code",
        "colab": {}
      },
      "source": [
        "def copy_class_attrs(cls):\n",
        "\n",
        "    def decorator(origin_class):\n",
        "        for item in cls.__dict__.items():\n",
        "            if item[0][:2] != '__' and item[0][-2:] != '__':\n",
        "\n",
        "                if not re.match('^_'+cls.__name__+'__\\w+$', item[0]):\n",
        "                    if item[0] not in origin_class.__dict__:\n",
        "                        setattr(origin_class, item[0], item[1])\n",
        "                    else:\n",
        "                        setattr(origin_class, item[0]+'_new', item[1])\n",
        "\n",
        "                else:\n",
        "                    attr = item[0][len(cls.__name__)+3:]\n",
        "                    attr_name = ''.join(['_',origin_class.__name__,'__',item[0][len(cls.__name__)+3:]])\n",
        "                    if attr_name in origin_class.__dict__:\n",
        "                        attr_name = ''.join([attr_name,'_new'])\n",
        "                        attr = ''.join([attr,'_new'])\n",
        "                    setattr(origin_class, attr_name, item[1])\n",
        "\n",
        "                    def f(name = item[0]):\n",
        "                        return getattr(cls, name)\n",
        "                    setattr(origin_class, 'get_' + attr, f)\n",
        "                    del(f)\n",
        "\n",
        "\n",
        "\n",
        "                    \n",
        "        return origin_class\n",
        "                \n",
        "    return decorator"
      ],
      "execution_count": 0,
      "outputs": []
    },
    {
      "cell_type": "code",
      "metadata": {
        "id": "fEvmEzTMSAoh",
        "colab_type": "code",
        "colab": {}
      },
      "source": [
        "class Beatles:\t\n",
        "    __members = ['JohnLennon','Paul McCartney', 'George Harrison', 'Ringo Starr']\n",
        "    city = 'Liverpool'\n",
        "    __start = 1960\n",
        "    __end = 1970\n",
        "    greatest_song = 'Here comes the sun'\n",
        "    def __init__(self):\n",
        "        pass\n"
      ],
      "execution_count": 0,
      "outputs": []
    },
    {
      "cell_type": "code",
      "metadata": {
        "id": "LzsyCHzdS2Sk",
        "colab_type": "code",
        "colab": {}
      },
      "source": [
        "@copy_class_attrs(Beatles)\n",
        "class Joy_Division:\n",
        "    __members = ['Ian Curtis','Bernard Sumner','Peter Hook','Stephen Morris']\n",
        "    city = \t'Salford'\n",
        "    __start = 1976\n",
        "    __end = 1980\n",
        "    "
      ],
      "execution_count": 0,
      "outputs": []
    },
    {
      "cell_type": "code",
      "metadata": {
        "id": "ltzVRQppO_nl",
        "colab_type": "code",
        "outputId": "693952d9-ee2e-4272-cfc9-92edb64f2eb7",
        "colab": {
          "base_uri": "https://localhost:8080/",
          "height": 289
        }
      },
      "source": [
        "for item in Joy_Division.__dict__.items():\n",
        "    print(item)"
      ],
      "execution_count": 8,
      "outputs": [
        {
          "output_type": "stream",
          "text": [
            "('__module__', '__main__')\n",
            "('_Joy_Division__members', ['Ian Curtis', 'Bernard Sumner', 'Peter Hook', 'Stephen Morris'])\n",
            "('city', 'Salford')\n",
            "('_Joy_Division__start', 1976)\n",
            "('_Joy_Division__end', 1980)\n",
            "('__dict__', <attribute '__dict__' of 'Joy_Division' objects>)\n",
            "('__weakref__', <attribute '__weakref__' of 'Joy_Division' objects>)\n",
            "('__doc__', None)\n",
            "('_Joy_Division__members_new', ['JohnLennon', 'Paul McCartney', 'George Harrison', 'Ringo Starr'])\n",
            "('get_members_new', <function copy_class_attrs.<locals>.decorator.<locals>.f at 0x7f8551862400>)\n",
            "('city_new', 'Liverpool')\n",
            "('_Joy_Division__start_new', 1960)\n",
            "('get_start_new', <function copy_class_attrs.<locals>.decorator.<locals>.f at 0x7f8551862488>)\n",
            "('_Joy_Division__end_new', 1970)\n",
            "('get_end_new', <function copy_class_attrs.<locals>.decorator.<locals>.f at 0x7f8551862510>)\n",
            "('greatest_song', 'Here comes the sun')\n"
          ],
          "name": "stdout"
        }
      ]
    },
    {
      "cell_type": "code",
      "metadata": {
        "id": "iIwUI2Y6qS9d",
        "colab_type": "code",
        "outputId": "69359c69-9d9c-455c-d637-dc15179012d6",
        "colab": {
          "base_uri": "https://localhost:8080/",
          "height": 34
        }
      },
      "source": [
        "# попробуем обратиться к добавленному приватному атрибуту:\n",
        "Joy_Division.get_members_new()"
      ],
      "execution_count": 9,
      "outputs": [
        {
          "output_type": "execute_result",
          "data": {
            "text/plain": [
              "['JohnLennon', 'Paul McCartney', 'George Harrison', 'Ringo Starr']"
            ]
          },
          "metadata": {
            "tags": []
          },
          "execution_count": 9
        }
      ]
    },
    {
      "cell_type": "markdown",
      "metadata": {
        "id": "pY3O1O6kA6mu",
        "colab_type": "text"
      },
      "source": [
        "Ваш тест:"
      ]
    },
    {
      "cell_type": "code",
      "metadata": {
        "id": "0wVhvLK8Zjs-",
        "colab_type": "code",
        "colab": {}
      },
      "source": [
        "class S:\n",
        "    f = 0\n",
        "    _f = [1]\n",
        "    __f = [[1, 2], [3]]\n",
        "    \n",
        "    def m(self):\n",
        "        return None\n",
        "    \n",
        "    def _m(self, v):\n",
        "        return v\n",
        "    \n",
        "    def __m(self, *args, **kwargs):\n",
        "        return len(args) + len(kwargs)\n",
        "    \n",
        "    __lm = lambda x, y: print(x, y)"
      ],
      "execution_count": 0,
      "outputs": []
    },
    {
      "cell_type": "code",
      "metadata": {
        "id": "AXmPEc3uBUKk",
        "colab_type": "code",
        "colab": {}
      },
      "source": [
        "def print_attrs(cls):\n",
        "    print(cls.f)\n",
        "    print(cls._f)\n",
        "\n",
        "    try:\n",
        "        cls.__f\n",
        "    except AttributeError as ar:\n",
        "        print(ar)\n",
        "\n",
        "    print(getattr(cls, f'_{cls.__name__}__f'))\n",
        "        \n",
        "    try:\n",
        "        cls.m()\n",
        "    except TypeError as err:\n",
        "        print(err)\n",
        "\n",
        "    try:\n",
        "        cls._m(5)\n",
        "    except TypeError as err:\n",
        "        print(err)\n",
        "\n",
        "    try:\n",
        "        cls.__m()\n",
        "    except AttributeError as err:\n",
        "        print(err)\n",
        "\n",
        "    try:\n",
        "        getattr(cls, f'_{cls.__name__}__m')(*(10, 11), **{'a': 1})\n",
        "    except TypeError as err:\n",
        "        print(err)\n",
        "\n",
        "    try:\n",
        "        cls.__lm(1,2)\n",
        "    except AttributeError as ar:\n",
        "        print(ar)\n",
        "\n",
        "    getattr(cls, f'_{cls.__name__}__lm')(1,2)\n",
        "    \n",
        "    obj = cls()\n",
        "    print(obj.m())\n",
        "    print(obj._m(5))\n",
        "    print(getattr(obj, f'_{cls.__name__}__m')(*(10, 11), **{'a': 1}))"
      ],
      "execution_count": 0,
      "outputs": []
    },
    {
      "cell_type": "code",
      "metadata": {
        "id": "Y1qabPxGBmkG",
        "colab_type": "code",
        "colab": {
          "base_uri": "https://localhost:8080/",
          "height": 221
        },
        "outputId": "e929c32c-bbb9-4ba5-bb40-e9031abaf2ce"
      },
      "source": [
        "print_attrs(S)"
      ],
      "execution_count": 16,
      "outputs": [
        {
          "output_type": "stream",
          "text": [
            "0\n",
            "[1]\n",
            "type object 'S' has no attribute '__f'\n",
            "[[1, 2], [3]]\n",
            "m() missing 1 required positional argument: 'self'\n",
            "_m() missing 1 required positional argument: 'v'\n",
            "type object 'S' has no attribute '__m'\n",
            "type object 'S' has no attribute '__lm'\n",
            "1 2\n",
            "None\n",
            "5\n",
            "3\n"
          ],
          "name": "stdout"
        }
      ]
    },
    {
      "cell_type": "code",
      "metadata": {
        "id": "XZ-zIyNHZpe0",
        "colab_type": "code",
        "outputId": "47487148-9f89-456e-d7c2-c544dd1ce0bf",
        "colab": {
          "base_uri": "https://localhost:8080/",
          "height": 221
        }
      },
      "source": [
        "@copy_class_attrs(S)\n",
        "class T:\n",
        "    pass\n",
        "\n",
        "del S\n",
        "print_attrs(T)"
      ],
      "execution_count": 17,
      "outputs": [
        {
          "output_type": "stream",
          "text": [
            "0\n",
            "[1]\n",
            "type object 'T' has no attribute '__f'\n",
            "[[1, 2], [3]]\n",
            "m() missing 1 required positional argument: 'self'\n",
            "_m() missing 1 required positional argument: 'v'\n",
            "type object 'T' has no attribute '__m'\n",
            "type object 'T' has no attribute '__lm'\n",
            "1 2\n",
            "None\n",
            "5\n",
            "3\n"
          ],
          "name": "stdout"
        }
      ]
    },
    {
      "cell_type": "markdown",
      "metadata": {
        "id": "JKc4q5xX6U1i",
        "colab_type": "text"
      },
      "source": [
        "__Задание 6 (4.5 баллов):__ Опишите класс для хранения двумерных числовых матриц на основе списков. Реализуйте поддержку индексирования, итерирования по столбцам и строкам, по-элементные математические операции (с помощью магических методов), операцию умножения матрицы (как метод `mat_prod` класса), транспонирование, поиска следа матрицы, а также поиск значения её определителя, если он существует, в противном случае соответствующий метод должен выводить сообщение об ошибке и возвращать `None`.\n",
        "\n",
        "Матрицу должно быть возможным создать из списка (в этом случае у неё будет одна строка), списка списков, или же передав явно три числа: число строк, число столбцов и значение по-умолчанию (которое можно не задавать, в этом случае оно принимается равным нулю). Все операции должны проверять корректность входных данных и бросать исключение с информативным сообщением в случае ошибки.\n",
        "\n",
        "Матрица должна поддерживать методы сохранения на диск в текстовом и бинарном файле и методы обратной загрузки с диска для обоих вариантов. Также она должна поддерживать метод копирования.\n",
        "\n",
        "В реализации математических операций запрещается пользоваться любыми функциями, требующими использования оператора `import`."
      ]
    },
    {
      "cell_type": "markdown",
      "metadata": {
        "id": "NcLzrEusObA4",
        "colab_type": "text"
      },
      "source": [
        "Сделала реализацию подсчета детерминанта как [здесь](https://integratedmlai.com/find-the-determinant-of-a-matrix-with-pure-python-without-numpy-or-scipy/)."
      ]
    },
    {
      "cell_type": "code",
      "metadata": {
        "id": "jGfXFESH6U1i",
        "colab_type": "code",
        "colab": {}
      },
      "source": [
        "class Matrix:\n",
        "    def __init__(self, rows = None, n = None, m = None, default = 0):\n",
        "        if rows:\n",
        "            if type(rows[0]) == int:\n",
        "                self.n = 1\n",
        "                self.m = len(rows)\n",
        "                self.rows = [rows]\n",
        "            else:\n",
        "                self.m = len(rows[0])\n",
        "                for i in enumerate(rows):\n",
        "                    if len(i[1]) != self.m:\n",
        "                        raise Exception(\"Incorrect init params: rows have different length.\")\n",
        "                    self.n = 1+i[0]\n",
        "\n",
        "                self.rows = rows\n",
        "            self.default = None\n",
        "\n",
        "        else:\n",
        "            if n and m:\n",
        "                self.n = n\n",
        "                self.m = m\n",
        "\n",
        "                self.default = default\n",
        "                row = [default]*self.m\n",
        "                self.rows = [row]*n\n",
        "\n",
        "            else:\n",
        "                raise ValueError(\"Incorrect init params: all init parametrs have type None.\")\n",
        "\n",
        "    def __repr__(self):\n",
        "        return str(self.rows)\n",
        "\n",
        "    @property\n",
        "    def T(self):\n",
        "        new_self = []\n",
        "        for i in range(len(self.rows[0])):\n",
        "            axis = []\n",
        "            for row in self.rows:\n",
        "                axis.append(row[i])\n",
        "            new_self.append(axis)\n",
        "\n",
        "        return Matrix(new_self)\n",
        "\n",
        "\n",
        "    def __getitem__(self, item):\n",
        "        '''\n",
        "        Parametrs:\n",
        "        ---------------------------------\n",
        "            item: tuple of slice: ( slice(start,end,period), slice(start,end,period)) for rows and for axis\n",
        "        Returns:\n",
        "        ---------------------------------\n",
        "            Matrix(new_self): Matrix type\n",
        "        Examples:\n",
        "        >>> a = Matrix([[1,2,3,4,5], [6,7,8,9,10], [11,12,13,14,15], [16,17,18,19,20]])\n",
        "        >>> a[0:3, 1:4]\n",
        "        [[2, 3, 4], [7, 8, 9], [12, 13, 14]]\n",
        "        >>> a[1:1, 1:4]\n",
        "        None\n",
        "        >>> a[1]\n",
        "        None\n",
        "        >>> a[0, 2]\n",
        "        3\n",
        "        >>> a[:,1]\n",
        "        [[2], [7], [12], [17]]\n",
        "\n",
        "        '''\n",
        "        \n",
        "        #if list.__getitem__(self.rows , item[0]):\n",
        "        first_slice = list.__getitem__(self.rows , item[0])\n",
        "        first_slice = Matrix(first_slice)\n",
        "        second_slice = list.__getitem__(first_slice.T.rows, item[1])\n",
        "\n",
        "        return Matrix(second_slice).T\n",
        "        #else:\n",
        "            #raise TypeError('Slice must be a tuple of slices.')\n",
        "    \n",
        "    @property\n",
        "    def tr(self):\n",
        "        if self.n != self.m:\n",
        "            raise ValueError('Matrix is not square.')\n",
        "        else:\n",
        "            tr = []\n",
        "            for row in enumerate(self.rows):\n",
        "                for i in range(len(row[1])):\n",
        "                    if i == row[0]:\n",
        "                        tr.append(row[1][i])\n",
        "            return sum(tr)\n",
        "\n",
        "    def __determinant_recursive(self,A, total=0):\n",
        "        indices = list(range(len(A)))\n",
        "        if len(A) == 2 and len(A[0]) == 2:\n",
        "            val = A[0][0] * A[1][1] - A[1][0] * A[0][1]\n",
        "            return val\n",
        "        for fc in indices:\n",
        "            As = A.copy()\n",
        "            As = As[1:]\n",
        "            height = len(As) \n",
        "    \n",
        "            for i in range(height): \n",
        "                As[i] = As[i][0:fc] + As[i][fc+1:] \n",
        "    \n",
        "            sign = (-1) ** (fc % 2) \n",
        "            sub_det = self.__determinant_recursive(As)\n",
        "            total += sign * A[0][fc] * sub_det \n",
        "    \n",
        "        return total\n",
        "\n",
        "    @property\n",
        "    def det(self):\n",
        "        if self.n != self.m:\n",
        "            raise ValueError('Matrix is not square.')\n",
        "        else:\n",
        "            if len(self.rows) == 1:\n",
        "                return self.rows[0][0]\n",
        "            else:\n",
        "                return self.__determinant_recursive(self.rows)\n",
        "\n",
        "    def __exception_block(self,other):\n",
        "        if not isinstance(other, Matrix):\n",
        "            raise TypeError(\"can't add object of type {} to Matrix object\".format(type(other)))\n",
        "        else:\n",
        "            if self.n !=other.n or self.m != self.m:\n",
        "                raise ValueError('matrix must have the same size')\n",
        "            else:\n",
        "                return True\n",
        "\n",
        "    \n",
        "    def __add__(self, other):\n",
        "        if self.__exception_block(other):\n",
        "            sum_matrix = []\n",
        "            for i in range(len(self.rows)):\n",
        "                new_row = [self.rows[i][j]+other.rows[i][j] for j in range(len(self.rows[i]))]\n",
        "                sum_matrix.append(new_row)\n",
        "        return Matrix(sum_matrix)\n",
        "\n",
        "    def __sub__(self, other):\n",
        "        if self.__exception_block(other):\n",
        "            sub_matrix = []\n",
        "            for i in range(len(self.rows)):\n",
        "                new_row = [self.rows[i][j]-other.rows[i][j] for j in range(len(self.rows[i]))]\n",
        "                sub_matrix.append(new_row)\n",
        "        return Matrix(sub_matrix)\n",
        "    \n",
        "    def __mul__(self, other):\n",
        "        if self.__exception_block(other):\n",
        "            mul_matrix = []\n",
        "            for i in range(len(self.rows)):\n",
        "                new_row = [self.rows[i][j]*other.rows[i][j] for j in range(len(self.rows[i]))]\n",
        "                mul_matrix.append(new_row)\n",
        "        return Matrix(mul_matrix)\n",
        "    \n",
        "    def __truediv__(self, other):\n",
        "        if self.__exception_block(other):\n",
        "            div_matrix = []\n",
        "            for i in range(len(self.rows)):\n",
        "                new_row = [self.rows[i][j]/other.rows[i][j] for j in range(len(self.rows[i]))]\n",
        "                div_matrix.append(new_row)\n",
        "        return Matrix(div_matrix)\n",
        "    \n",
        "    def copy(self):\n",
        "        copy = Matrix(self.rows)\n",
        "        return copy\n",
        "    \n",
        "    def save_to_file(self, filename, style = 'w'):\n",
        "\n",
        "        with open(filename, style) as f:\n",
        "\n",
        "            if style == 'w':\n",
        "                for row in self.rows:\n",
        "                    f.write(''.join([str(row), \"\\n\"]))\n",
        "            else:\n",
        "                for row in self.rows:\n",
        "                    f.write(bytearray(str(row)+'\\n', 'utf-8'))\n",
        "    @staticmethod      \n",
        "    def load_from_file(filename, style = 'r'):\n",
        "\n",
        "            with open(filename, style) as out_put:\n",
        "                s = out_put.readlines()\n",
        "                res = [i.strip(\"[]\\n\").split(\", \") for i in s] \n",
        "                res_row = []\n",
        "                for row in res:\n",
        "                    new_row = [int(i) for i in row]\n",
        "                    res_row.append(new_row)\n",
        "                return Matrix(res_row)\n",
        "\n",
        "    @classmethod\n",
        "    def mat_prod(cls, one, other):\n",
        "        if not isinstance(one,cls) or not isinstance(other,cls):\n",
        "            raise TypeError(\"Objects must be Matrix objects, but first type {}, second type {}\".format(type(one), type(other)))\n",
        "        if one.m != other.n:\n",
        "            raise ValueError(\"Incorrect matrix shape: {}!={}\".format(one.m, other.n))\n",
        "        res = []\n",
        "        for i in range(one.m):\n",
        "            res_row = []\n",
        "            for j in range(other.n):\n",
        "                axis = [i[0] for i in other[:, j].rows]\n",
        "                s = one[i, :]*cls(axis)\n",
        "                res_row.append(sum(s.rows[0]))\n",
        "            res.append(res_row)\n",
        "        return cls(res)\n",
        "\n",
        "            \n",
        "\n",
        "    \n",
        "\n",
        "\n",
        "\n",
        "\n",
        "        "
      ],
      "execution_count": 0,
      "outputs": []
    },
    {
      "cell_type": "code",
      "metadata": {
        "id": "9kwrJwnOooXf",
        "colab_type": "code",
        "outputId": "c236fd6d-9359-4a3e-f41b-793de20c6e01",
        "colab": {
          "base_uri": "https://localhost:8080/",
          "height": 309
        }
      },
      "source": [
        "a = Matrix()"
      ],
      "execution_count": 0,
      "outputs": [
        {
          "output_type": "error",
          "ename": "ValueError",
          "evalue": "ignored",
          "traceback": [
            "\u001b[0;31m---------------------------------------------------------------------------\u001b[0m",
            "\u001b[0;31mValueError\u001b[0m                                Traceback (most recent call last)",
            "\u001b[0;32m<ipython-input-488-c50d94dc9edf>\u001b[0m in \u001b[0;36m<module>\u001b[0;34m()\u001b[0m\n\u001b[0;32m----> 1\u001b[0;31m \u001b[0ma\u001b[0m \u001b[0;34m=\u001b[0m \u001b[0mMatrix\u001b[0m\u001b[0;34m(\u001b[0m\u001b[0;34m)\u001b[0m\u001b[0;34m\u001b[0m\u001b[0;34m\u001b[0m\u001b[0m\n\u001b[0m",
            "\u001b[0;32m<ipython-input-487-9912c05d2c12>\u001b[0m in \u001b[0;36m__init__\u001b[0;34m(self, rows, n, m, default)\u001b[0m\n\u001b[1;32m     26\u001b[0m \u001b[0;34m\u001b[0m\u001b[0m\n\u001b[1;32m     27\u001b[0m             \u001b[0;32melse\u001b[0m\u001b[0;34m:\u001b[0m\u001b[0;34m\u001b[0m\u001b[0;34m\u001b[0m\u001b[0m\n\u001b[0;32m---> 28\u001b[0;31m                 \u001b[0;32mraise\u001b[0m \u001b[0mValueError\u001b[0m\u001b[0;34m(\u001b[0m\u001b[0;34m\"Incorrect init params: all init parametrs have type None.\"\u001b[0m\u001b[0;34m)\u001b[0m\u001b[0;34m\u001b[0m\u001b[0;34m\u001b[0m\u001b[0m\n\u001b[0m\u001b[1;32m     29\u001b[0m \u001b[0;34m\u001b[0m\u001b[0m\n\u001b[1;32m     30\u001b[0m     \u001b[0;32mdef\u001b[0m \u001b[0m__repr__\u001b[0m\u001b[0;34m(\u001b[0m\u001b[0mself\u001b[0m\u001b[0;34m)\u001b[0m\u001b[0;34m:\u001b[0m\u001b[0;34m\u001b[0m\u001b[0;34m\u001b[0m\u001b[0m\n",
            "\u001b[0;31mValueError\u001b[0m: Incorrect init params: all init parametrs have type None."
          ]
        }
      ]
    },
    {
      "cell_type": "code",
      "metadata": {
        "id": "kIieyAm9NMxx",
        "colab_type": "code",
        "colab": {}
      },
      "source": [
        "a = Matrix([[1,2,3,4],[5,6,7,8],[1,2,3,5],[3,7,4,5]])\n",
        "b = Matrix(n = 4, m=4, default=2)"
      ],
      "execution_count": 0,
      "outputs": []
    },
    {
      "cell_type": "code",
      "metadata": {
        "id": "qoQtUOn8CSCf",
        "colab_type": "code",
        "outputId": "807a09ce-39fe-41de-9be4-8298a8a46e46",
        "colab": {
          "base_uri": "https://localhost:8080/",
          "height": 104
        }
      },
      "source": [
        "print(b)\n",
        "print(a*b)\n",
        "print(a/b)\n",
        "print(a-b)\n",
        "print(a+b)"
      ],
      "execution_count": 0,
      "outputs": [
        {
          "output_type": "stream",
          "text": [
            "[[2, 2, 2, 2], [2, 2, 2, 2], [2, 2, 2, 2], [2, 2, 2, 2]]\n",
            "[[2, 4, 6, 8], [10, 12, 14, 16], [2, 4, 6, 10], [6, 14, 8, 10]]\n",
            "[[0.5, 1.0, 1.5, 2.0], [2.5, 3.0, 3.5, 4.0], [0.5, 1.0, 1.5, 2.5], [1.5, 3.5, 2.0, 2.5]]\n",
            "[[-1, 0, 1, 2], [3, 4, 5, 6], [-1, 0, 1, 3], [1, 5, 2, 3]]\n",
            "[[3, 4, 5, 6], [7, 8, 9, 10], [3, 4, 5, 7], [5, 9, 6, 7]]\n"
          ],
          "name": "stdout"
        }
      ]
    },
    {
      "cell_type": "code",
      "metadata": {
        "id": "dNLiYopOlsWu",
        "colab_type": "code",
        "outputId": "6542965d-7401-4fcb-8e55-c7fd8d5e903c",
        "colab": {
          "base_uri": "https://localhost:8080/",
          "height": 330
        }
      },
      "source": [
        "c = Matrix([1,5,7])\n",
        "print(a*c)"
      ],
      "execution_count": 0,
      "outputs": [
        {
          "output_type": "error",
          "ename": "ValueError",
          "evalue": "ignored",
          "traceback": [
            "\u001b[0;31m---------------------------------------------------------------------------\u001b[0m",
            "\u001b[0;31mValueError\u001b[0m                                Traceback (most recent call last)",
            "\u001b[0;32m<ipython-input-491-7fe0f0a1a857>\u001b[0m in \u001b[0;36m<module>\u001b[0;34m()\u001b[0m\n\u001b[1;32m      1\u001b[0m \u001b[0mc\u001b[0m \u001b[0;34m=\u001b[0m \u001b[0mMatrix\u001b[0m\u001b[0;34m(\u001b[0m\u001b[0;34m[\u001b[0m\u001b[0;36m1\u001b[0m\u001b[0;34m,\u001b[0m\u001b[0;36m5\u001b[0m\u001b[0;34m,\u001b[0m\u001b[0;36m7\u001b[0m\u001b[0;34m]\u001b[0m\u001b[0;34m)\u001b[0m\u001b[0;34m\u001b[0m\u001b[0;34m\u001b[0m\u001b[0m\n\u001b[0;32m----> 2\u001b[0;31m \u001b[0mprint\u001b[0m\u001b[0;34m(\u001b[0m\u001b[0ma\u001b[0m\u001b[0;34m*\u001b[0m\u001b[0mc\u001b[0m\u001b[0;34m)\u001b[0m\u001b[0;34m\u001b[0m\u001b[0;34m\u001b[0m\u001b[0m\n\u001b[0m",
            "\u001b[0;32m<ipython-input-487-9912c05d2c12>\u001b[0m in \u001b[0;36m__mul__\u001b[0;34m(self, other)\u001b[0m\n\u001b[1;32m    143\u001b[0m \u001b[0;34m\u001b[0m\u001b[0m\n\u001b[1;32m    144\u001b[0m     \u001b[0;32mdef\u001b[0m \u001b[0m__mul__\u001b[0m\u001b[0;34m(\u001b[0m\u001b[0mself\u001b[0m\u001b[0;34m,\u001b[0m \u001b[0mother\u001b[0m\u001b[0;34m)\u001b[0m\u001b[0;34m:\u001b[0m\u001b[0;34m\u001b[0m\u001b[0;34m\u001b[0m\u001b[0m\n\u001b[0;32m--> 145\u001b[0;31m         \u001b[0;32mif\u001b[0m \u001b[0mself\u001b[0m\u001b[0;34m.\u001b[0m\u001b[0m__exception_block\u001b[0m\u001b[0;34m(\u001b[0m\u001b[0mother\u001b[0m\u001b[0;34m)\u001b[0m\u001b[0;34m:\u001b[0m\u001b[0;34m\u001b[0m\u001b[0;34m\u001b[0m\u001b[0m\n\u001b[0m\u001b[1;32m    146\u001b[0m             \u001b[0mmul_matrix\u001b[0m \u001b[0;34m=\u001b[0m \u001b[0;34m[\u001b[0m\u001b[0;34m]\u001b[0m\u001b[0;34m\u001b[0m\u001b[0;34m\u001b[0m\u001b[0m\n\u001b[1;32m    147\u001b[0m             \u001b[0;32mfor\u001b[0m \u001b[0mi\u001b[0m \u001b[0;32min\u001b[0m \u001b[0mrange\u001b[0m\u001b[0;34m(\u001b[0m\u001b[0mlen\u001b[0m\u001b[0;34m(\u001b[0m\u001b[0mself\u001b[0m\u001b[0;34m.\u001b[0m\u001b[0mrows\u001b[0m\u001b[0;34m)\u001b[0m\u001b[0;34m)\u001b[0m\u001b[0;34m:\u001b[0m\u001b[0;34m\u001b[0m\u001b[0;34m\u001b[0m\u001b[0m\n",
            "\u001b[0;32m<ipython-input-487-9912c05d2c12>\u001b[0m in \u001b[0;36m__exception_block\u001b[0;34m(self, other)\u001b[0m\n\u001b[1;32m    121\u001b[0m         \u001b[0;32melse\u001b[0m\u001b[0;34m:\u001b[0m\u001b[0;34m\u001b[0m\u001b[0;34m\u001b[0m\u001b[0m\n\u001b[1;32m    122\u001b[0m             \u001b[0;32mif\u001b[0m \u001b[0mself\u001b[0m\u001b[0;34m.\u001b[0m\u001b[0mn\u001b[0m \u001b[0;34m!=\u001b[0m\u001b[0mother\u001b[0m\u001b[0;34m.\u001b[0m\u001b[0mn\u001b[0m \u001b[0;32mor\u001b[0m \u001b[0mself\u001b[0m\u001b[0;34m.\u001b[0m\u001b[0mm\u001b[0m \u001b[0;34m!=\u001b[0m \u001b[0mself\u001b[0m\u001b[0;34m.\u001b[0m\u001b[0mm\u001b[0m\u001b[0;34m:\u001b[0m\u001b[0;34m\u001b[0m\u001b[0;34m\u001b[0m\u001b[0m\n\u001b[0;32m--> 123\u001b[0;31m                 \u001b[0;32mraise\u001b[0m \u001b[0mValueError\u001b[0m\u001b[0;34m(\u001b[0m\u001b[0;34m'matrix must have the same size'\u001b[0m\u001b[0;34m)\u001b[0m\u001b[0;34m\u001b[0m\u001b[0;34m\u001b[0m\u001b[0m\n\u001b[0m\u001b[1;32m    124\u001b[0m             \u001b[0;32melse\u001b[0m\u001b[0;34m:\u001b[0m\u001b[0;34m\u001b[0m\u001b[0;34m\u001b[0m\u001b[0m\n\u001b[1;32m    125\u001b[0m                 \u001b[0;32mreturn\u001b[0m \u001b[0;32mTrue\u001b[0m\u001b[0;34m\u001b[0m\u001b[0;34m\u001b[0m\u001b[0m\n",
            "\u001b[0;31mValueError\u001b[0m: matrix must have the same size"
          ]
        }
      ]
    },
    {
      "cell_type": "code",
      "metadata": {
        "id": "J_4gENKVct_5",
        "colab_type": "code",
        "outputId": "30822d78-e3ba-443e-cb61-3937b9d8ce9d",
        "colab": {
          "base_uri": "https://localhost:8080/",
          "height": 86
        }
      },
      "source": [
        "import numpy as np #импортирую для тестов\n",
        "print(a.det)\n",
        "print(np.linalg.det(np.array(a.rows)))\n",
        "print(a.tr)\n",
        "print(np.array(a.rows).trace())"
      ],
      "execution_count": 0,
      "outputs": [
        {
          "output_type": "stream",
          "text": [
            "-28\n",
            "-27.999999999999996\n",
            "15\n",
            "15\n"
          ],
          "name": "stdout"
        }
      ]
    },
    {
      "cell_type": "code",
      "metadata": {
        "id": "T7DJFTQQhCs6",
        "colab_type": "code",
        "outputId": "49752d38-6582-4373-a5dd-7ced65f4070b",
        "colab": {
          "base_uri": "https://localhost:8080/",
          "height": 289
        }
      },
      "source": [
        "c.det or c.tr"
      ],
      "execution_count": 0,
      "outputs": [
        {
          "output_type": "error",
          "ename": "ValueError",
          "evalue": "ignored",
          "traceback": [
            "\u001b[0;31m---------------------------------------------------------------------------\u001b[0m",
            "\u001b[0;31mValueError\u001b[0m                                Traceback (most recent call last)",
            "\u001b[0;32m<ipython-input-493-5794577c12a4>\u001b[0m in \u001b[0;36m<module>\u001b[0;34m()\u001b[0m\n\u001b[0;32m----> 1\u001b[0;31m \u001b[0mc\u001b[0m\u001b[0;34m.\u001b[0m\u001b[0mdet\u001b[0m \u001b[0;32mor\u001b[0m \u001b[0mc\u001b[0m\u001b[0;34m.\u001b[0m\u001b[0mtr\u001b[0m\u001b[0;34m\u001b[0m\u001b[0;34m\u001b[0m\u001b[0m\n\u001b[0m",
            "\u001b[0;32m<ipython-input-487-9912c05d2c12>\u001b[0m in \u001b[0;36mdet\u001b[0;34m(self)\u001b[0m\n\u001b[1;32m    109\u001b[0m     \u001b[0;32mdef\u001b[0m \u001b[0mdet\u001b[0m\u001b[0;34m(\u001b[0m\u001b[0mself\u001b[0m\u001b[0;34m)\u001b[0m\u001b[0;34m:\u001b[0m\u001b[0;34m\u001b[0m\u001b[0;34m\u001b[0m\u001b[0m\n\u001b[1;32m    110\u001b[0m         \u001b[0;32mif\u001b[0m \u001b[0mself\u001b[0m\u001b[0;34m.\u001b[0m\u001b[0mn\u001b[0m \u001b[0;34m!=\u001b[0m \u001b[0mself\u001b[0m\u001b[0;34m.\u001b[0m\u001b[0mm\u001b[0m\u001b[0;34m:\u001b[0m\u001b[0;34m\u001b[0m\u001b[0;34m\u001b[0m\u001b[0m\n\u001b[0;32m--> 111\u001b[0;31m             \u001b[0;32mraise\u001b[0m \u001b[0mValueError\u001b[0m\u001b[0;34m(\u001b[0m\u001b[0;34m'Matrix is not square.'\u001b[0m\u001b[0;34m)\u001b[0m\u001b[0;34m\u001b[0m\u001b[0;34m\u001b[0m\u001b[0m\n\u001b[0m\u001b[1;32m    112\u001b[0m         \u001b[0;32melse\u001b[0m\u001b[0;34m:\u001b[0m\u001b[0;34m\u001b[0m\u001b[0;34m\u001b[0m\u001b[0m\n\u001b[1;32m    113\u001b[0m             \u001b[0;32mif\u001b[0m \u001b[0mlen\u001b[0m\u001b[0;34m(\u001b[0m\u001b[0mself\u001b[0m\u001b[0;34m.\u001b[0m\u001b[0mrows\u001b[0m\u001b[0;34m)\u001b[0m \u001b[0;34m==\u001b[0m \u001b[0;36m1\u001b[0m\u001b[0;34m:\u001b[0m\u001b[0;34m\u001b[0m\u001b[0;34m\u001b[0m\u001b[0m\n",
            "\u001b[0;31mValueError\u001b[0m: Matrix is not square."
          ]
        }
      ]
    },
    {
      "cell_type": "code",
      "metadata": {
        "id": "O7kAXDn9L43K",
        "colab_type": "code",
        "outputId": "2187976a-0ad1-49b5-f21d-4cba64033e6a",
        "colab": {
          "base_uri": "https://localhost:8080/",
          "height": 52
        }
      },
      "source": [
        "print(a)\n",
        "print(a.T)"
      ],
      "execution_count": 0,
      "outputs": [
        {
          "output_type": "stream",
          "text": [
            "[[1, 2, 3, 4], [5, 6, 7, 8], [1, 2, 3, 5], [3, 7, 4, 5]]\n",
            "[[1, 5, 1, 3], [2, 6, 2, 7], [3, 7, 3, 4], [4, 8, 5, 5]]\n"
          ],
          "name": "stdout"
        }
      ]
    },
    {
      "cell_type": "code",
      "metadata": {
        "id": "aK1SVWj_gbri",
        "colab_type": "code",
        "outputId": "bfca18c2-fe76-492f-816c-ffbce6e053bb",
        "colab": {
          "base_uri": "https://localhost:8080/",
          "height": 86
        }
      },
      "source": [
        "#проверка взятия подматрицы\n",
        "print(a)\n",
        "print(a[0:3, 1:3])\n",
        "print(a[0:3, 0:2] )\n",
        "print(a[0:3, 1:3]*a[0:3, 0:2] )"
      ],
      "execution_count": 0,
      "outputs": [
        {
          "output_type": "stream",
          "text": [
            "[[1, 2, 3, 4], [5, 6, 7, 8], [1, 2, 3, 5], [3, 7, 4, 5]]\n",
            "[[2, 3], [6, 7], [2, 3]]\n",
            "[[1, 2], [5, 6], [1, 2]]\n",
            "[[2, 6], [30, 42], [2, 6]]\n"
          ],
          "name": "stdout"
        }
      ]
    },
    {
      "cell_type": "code",
      "metadata": {
        "id": "zdE_eL9gg80F",
        "colab_type": "code",
        "colab": {}
      },
      "source": [
        "a.save_to_file('file_w.txt', 'w')\n",
        "a.save_to_file('file_wb.txt', 'wb')"
      ],
      "execution_count": 0,
      "outputs": []
    },
    {
      "cell_type": "code",
      "metadata": {
        "id": "B6-_ZHVNiNzj",
        "colab_type": "code",
        "colab": {}
      },
      "source": [
        "b = Matrix.load_from_file('file_w.txt', 'r')\n",
        "c = Matrix.load_from_file('file_wb.txt', 'r')"
      ],
      "execution_count": 0,
      "outputs": []
    },
    {
      "cell_type": "code",
      "metadata": {
        "id": "Zo-yQF73nnvd",
        "colab_type": "code",
        "outputId": "5853c8c1-5db1-40c6-a4e3-5d3fc2b466c4",
        "colab": {
          "base_uri": "https://localhost:8080/",
          "height": 34
        }
      },
      "source": [
        "b"
      ],
      "execution_count": 0,
      "outputs": [
        {
          "output_type": "execute_result",
          "data": {
            "text/plain": [
              "[[1, 2, 3, 4], [5, 6, 7, 8], [1, 2, 3, 5], [3, 7, 4, 5]]"
            ]
          },
          "metadata": {
            "tags": []
          },
          "execution_count": 498
        }
      ]
    },
    {
      "cell_type": "code",
      "metadata": {
        "id": "QGj7PHqmqztL",
        "colab_type": "code",
        "outputId": "cbcd1db4-fd1b-43f8-c4a0-bf7bd9513141",
        "colab": {
          "base_uri": "https://localhost:8080/",
          "height": 34
        }
      },
      "source": [
        "c"
      ],
      "execution_count": 0,
      "outputs": [
        {
          "output_type": "execute_result",
          "data": {
            "text/plain": [
              "[[1, 2, 3, 4], [5, 6, 7, 8], [1, 2, 3, 5], [3, 7, 4, 5]]"
            ]
          },
          "metadata": {
            "tags": []
          },
          "execution_count": 499
        }
      ]
    },
    {
      "cell_type": "code",
      "metadata": {
        "id": "nAx4LH7Tlahu",
        "colab_type": "code",
        "outputId": "d2b8adad-52e1-4e33-97a3-f761991e4938",
        "colab": {
          "base_uri": "https://localhost:8080/",
          "height": 34
        }
      },
      "source": [
        "Matrix.mat_prod(a,b)"
      ],
      "execution_count": 0,
      "outputs": [
        {
          "output_type": "execute_result",
          "data": {
            "text/plain": [
              "[[26, 48, 42, 55], [66, 116, 110, 143], [29, 55, 46, 60], [57, 91, 90, 113]]"
            ]
          },
          "metadata": {
            "tags": []
          },
          "execution_count": 500
        }
      ]
    },
    {
      "cell_type": "code",
      "metadata": {
        "id": "_JWy4TT33ct7",
        "colab_type": "code",
        "outputId": "0d9f161b-1a1f-4d54-ddc7-c3466a4518b9",
        "colab": {
          "base_uri": "https://localhost:8080/",
          "height": 86
        }
      },
      "source": [
        "np.array(a.rows)@np.array(b.rows)#для проверки"
      ],
      "execution_count": 0,
      "outputs": [
        {
          "output_type": "execute_result",
          "data": {
            "text/plain": [
              "array([[ 26,  48,  42,  55],\n",
              "       [ 66, 116, 110, 143],\n",
              "       [ 29,  55,  46,  60],\n",
              "       [ 57,  91,  90, 113]])"
            ]
          },
          "metadata": {
            "tags": []
          },
          "execution_count": 501
        }
      ]
    },
    {
      "cell_type": "markdown",
      "metadata": {
        "id": "s94Lz61C6U1q",
        "colab_type": "text"
      },
      "source": [
        "__Задание 7 (7 баллов):__ Спроектируйте программную архитектуру для кофе-машины исходя из следующих требований:\n",
        "\n",
        "- поддержка нескольких видов кофе;\n",
        "- возможность налития кофе в стаканы разных размеров (обычная порция, двойная порция);\n",
        "- возможность добавления в кофе разнообразных добавок в произвольных сочетаниях (одна добавка на одну обычную порцию, две - на двойную);\n",
        "- подсчёт стоимости заказа исходя из выбранного типа кофе и видов добавок;\n",
        "- учёт вносимых денежных средств (средства вносятся на депозит, после чего возможен заказ кофе);\n",
        "- возможность возвращения оставшихся на депозите средств по требованию пользователя;\n",
        "- учёт запасов кофе и добавок (в обычных порциях), информирование о невозможности выдачи продукта при его отсутствии;\n",
        "- возможность пополнения запасов кофе и выгрузки денег;\n",
        "- обеспечение консистентности (нельзя ни в какой ситуации выдать продукт без оплаты и не вернуть оплату в случае невыдачи продукта);\n",
        "- возможность установления и изменения цены на кофе, его различные порции и на добавки;\n",
        "- в случае выбора кофе без добавок машина должна перед подготовкой и выдачей продукта предложить пользователю рекламу добавки, подходящую именно для этого вида кофе, но только в том случае, если денег на депозите достаточно для оплаты кофе с добавкой (реализуется вызовом метода `suggest_add_on`, который возвращает в код True (согласие) или False (отказ));\n",
        "- для каждого вида кофе есть одна единственная максимально подходящая добавка, которая используется в рекламе в предыдущем пункте (у нескольких видов кофе добавка может быть одинаковой);\n",
        "- метод `suggest_add_on` печатает предложение добавить в указанный вид кофе подходящую для него добавку с указанием её стоимости (x2 для двойной порции кофе), после чего ожидает от пользователя ввод ответа с клавиатуры в виде \"да\" или \"нет\", на любой другой ввод функция должна запросить повторный ввод, указав на ошибку ввода и предложив снова ввести один из двух валидных ответов;\n",
        "\n",
        "В рамках решения задачи нужно спроектировать и описать набор интерфейсов и классов, реализующих указанную логику, подробно описать причины использования того или иного архитектурного решения, покрыть получившийся набор классов тестами. Архитектура должна получиться, с одной стороны, не избыточной, а с другой - гибкой и расширяемой.\n",
        "\n",
        "Следующие шаблоны проектирования и инструменты языка могут оказаться полезными для решения этой задачи (рекомендация не является строгой, можно использовать всё, что известно, главное - по делу):\n",
        "- декоратор\n",
        "- абстрактная фабрика\n",
        "- фасад\n",
        "- mixin\n",
        "- исключения\n",
        "- менеджер контекста\n",
        "\n",
        "\n",
        "Обратите внимание, что использование любого средства должно быть обоснованным, оценка ставится за качество и продуманность архитектуры решения, а не за использование как можно большего числа шаблонов. Допускается использование приёмов, не описанных в рамках курса.\n",
        "\n",
        "Дополнительно можно получить __до 5 бонусных баллов__ за описание получившейся архитектуры в виде [UML-диаграммы](https://habr.com/ru/post/458680/)."
      ]
    },
    {
      "cell_type": "markdown",
      "metadata": {
        "id": "kk4zURNLgFZe",
        "colab_type": "text"
      },
      "source": [
        "Я хочу создать абстрактную фабрику и абстрактный продукт (кофейный напиток). Классы-наследники абстрактной фабрики будут производителями различных напитков: AmericanoMaker, EspressoMaker и так далее. Эти конкретные оздатели будут производить конкретные продукты, которые будут являться наследниками абстрактного класса продукт."
      ]
    },
    {
      "cell_type": "code",
      "metadata": {
        "id": "UojAaDO2jWeU",
        "colab_type": "code",
        "colab": {}
      },
      "source": [
        "from abc import abstractmethod, ABC"
      ],
      "execution_count": 0,
      "outputs": []
    },
    {
      "cell_type": "code",
      "metadata": {
        "id": "jgpx51LW6U1q",
        "colab_type": "code",
        "colab": {}
      },
      "source": [
        "class CoffeeMachine:\n",
        "    def __init__(self, coffee = 10000.0 , water = 10000.0, milk=10000.0, additions = None, money = 0, costs = None):\n",
        "\n",
        "        '''\n",
        "        Parametrs:\n",
        "        ----------------------------\n",
        "        coffee: float\n",
        "            Gramm of coffee in machine at the beginning of the work (default 100)\n",
        "        milk: float\n",
        "            Gramm of milk in machine at the beginning of the work (default 100)\n",
        "        water: float\n",
        "            Gramm of water in machine at the beginning of the work (default 100)\n",
        "        additions: dict, str: int\n",
        "            Dict of additions, one capsula for one small coffee, key - name of addition\n",
        "            value - number of capsils.\n",
        "        '''\n",
        "        self.__coffee = coffee\n",
        "        self.__water = water\n",
        "        self.__milk = milk\n",
        "        self.__money = money\n",
        "        self.__costs = costs\n",
        "        self.__additions = additions\n",
        "\n",
        "    def get_money(self):\n",
        "        '''\n",
        "        Returns:\n",
        "        -----------------------------\n",
        "        self.__money: float\n",
        "            Capital of coffee machine\n",
        "\n",
        "        '''\n",
        "        return self.__money\n",
        "\n",
        "    def _add_money(self, s):\n",
        "        '''\n",
        "        Add money to account balance.\n",
        "\n",
        "        '''\n",
        "        self.__money = s + self.__money\n",
        "    \n",
        "    def _change_state(self,w,m,c, a = (None, 1)):\n",
        "        '''\n",
        "        Changes number of ingredients in coffee machine\n",
        "        Parametrs:\n",
        "        ---------------------------------------\n",
        "        w: float\n",
        "            amount grams of water subtracted from the total\n",
        "        m: float\n",
        "            amount grams of milk subtracted from the total\n",
        "        c: float\n",
        "            amount grams of coffee subtracted from the total\n",
        "        a: tuple (list of strings, int(1 or 2))\n",
        "            list of syrops names, number of capsule\n",
        "\n",
        "        '''\n",
        "        self.__coffee= self.__coffee + c\n",
        "        self.__water= self.__water + w\n",
        "        self.__milk= self.__milk + m\n",
        "        if a[0]:\n",
        "            for i in a[0]:\n",
        "                self.__additions[i]=self.__additions[i]-a[1]\n",
        "\n",
        "    \n",
        "    def get_products(self):\n",
        "        '''\n",
        "        Returns: \n",
        "        ------------------------------------------------\n",
        "        Returns ingredients in coffee machine \n",
        "        '''\n",
        "\n",
        "        return self.__water, self.__milk, self.__coffee, self.__additions\n",
        "\n",
        "    def suggest_add_on(self, order):\n",
        "        '''\n",
        "        Parametrs:\n",
        "        ------------------------------------------------\n",
        "        order: class Order\n",
        "\n",
        "        Returns:\n",
        "        ------------------------------------------------\n",
        "        answer: str ('да' or 'нет')\n",
        "            Answer of person about adding a syrop in the order if order.additions is None\n",
        "\n",
        "        '''\n",
        "\n",
        "        print(\"Do you want to add {} for {}\".format(order.drink_item.addition(), self.__costs[order.drink_item.addition()]*order.size))\n",
        "        answer = input()\n",
        "\n",
        "        if answer == 'да':\n",
        "            return True\n",
        "        else:\n",
        "            if answer == 'нет':\n",
        "                return False\n",
        "            else:\n",
        "                print('Your answer is invalid, try one more time.')\n",
        "                answer = self.suggest_add_on(order)\n",
        "\n",
        "        return answer\n",
        "    def check_order(self, order):\n",
        "\n",
        "        '''\n",
        "        Checks the correction of the order.\n",
        "        '''\n",
        "\n",
        "        if order.drink_name not in self.__costs:\n",
        "            raise ValueError(\"We don't have this kind of coffee, try to choose another one.\")\n",
        "\n",
        "        water, milk, coffee, add = self.get_products()\n",
        "        req_water = order.drink_item.water()*order.size\n",
        "        req_milk = order.drink_item.milk()*order.size\n",
        "        req_coffee = order.drink_item.coffee()*order.size\n",
        "        req_add = order.additions\n",
        "\n",
        "        if req_add:\n",
        "            for i in req_add:\n",
        "                if i not in self.__costs:\n",
        "                    raise ValueError(\"We don't have this kind of addition, try to choose another one.\")\n",
        "                else:\n",
        "                    if order.size > self.__additions[i]:\n",
        "                        raise Exception(\"Coffee machine doesn't have enough ingredients.\")\n",
        "        \n",
        "        if req_coffee > coffee or req_water > water or req_milk > milk:\n",
        "\n",
        "            raise Exception(\"Coffee machine doesn't have enough ingredients.\")\n",
        "\n",
        "\n",
        "        self._change_state(c= -req_coffee, w = -req_water, m = -req_milk, a = (req_add, order.size))\n",
        "\n",
        "\n",
        "    def get_order(self, customer, order):\n",
        "        '''\n",
        "        Checks bank acount of customer and call method sub_add_on if order.additions == None\n",
        "\n",
        "        Parametrs:\n",
        "        ----------------------------------------\n",
        "        custom: class Customer \n",
        "        order: class Order\n",
        "\n",
        "        Returns:\n",
        "        -----------------------------------------\n",
        "        final_cost: float\n",
        "            Final cost of customer's order\n",
        "        '''\n",
        "\n",
        "        self.check_order(order)\n",
        "\n",
        "        final_cost = self.count_cost(order)\n",
        "        if final_cost > customer.get_money():\n",
        "            raise Exception(\"You don't have enough money.\")\n",
        "\n",
        "        if order.additions == None:\n",
        "\n",
        "            if final_cost+self.__costs[order.drink_item.addition()] <= customer.get_money():\n",
        "                answer = self.suggest_add_on(order)\n",
        "                if answer:\n",
        "                    final_cost = final_cost+self.__costs[order.drink_item.addition()]*order.size\n",
        "                    self._change_state(0,0,0, ([order.drink_item.addition()],order.size))\n",
        "                    if not order.additions:\n",
        "                        order.additions = []\n",
        "                    order.additions.append(order.drink_item.addition())\n",
        "        return final_cost\n",
        "\n",
        "    def make_coffee_for_order(self, custom, order):\n",
        "\n",
        "\n",
        "        final_cost = self.get_order(custom, order)\n",
        "        acount = custom.change_money(final_cost)\n",
        "        drink = order.maker.make_drink()\n",
        "\n",
        "        self._add_money(final_cost)\n",
        "\n",
        "        print('Total cost: {}. Thank you for your order!'.format(final_cost))\n",
        "\n",
        "        return drink\n",
        "\n",
        "    def change_cost(self, key, value):\n",
        "        '''\n",
        "        Changes the price of some item\n",
        "\n",
        "        Parametrs:\n",
        "        --------------------------------\n",
        "        key: str\n",
        "            name of item\n",
        "        value:\n",
        "            new value\n",
        "        '''\n",
        "\n",
        "\n",
        "        print('Price of {} was changed from {} to {}'.format(key, self.__costs[key], value))\n",
        "        if key not in self.__costs:\n",
        "            raise Exception('We dont have have this item.')\n",
        "\n",
        "        self.__costs[key] = value\n",
        "\n",
        "    def count_cost(self, order):\n",
        "        price = self.__costs[order.drink_name]*order.size\n",
        "        if order.additions:\n",
        "            for i in order.additions:\n",
        "                price += self.__costs[i]*order.size\n",
        "\n",
        "        return price\n",
        "    \n",
        "\n",
        "\n",
        "\n",
        "\n",
        "    \n",
        "\n",
        "\n"
      ],
      "execution_count": 0,
      "outputs": []
    },
    {
      "cell_type": "code",
      "metadata": {
        "id": "JBK10izlrkMB",
        "colab_type": "code",
        "colab": {}
      },
      "source": [
        "class CoffeeMaker(ABC):\n",
        "    \n",
        "    @abstractmethod\n",
        "    def make_drink(self):\n",
        "        pass\n",
        "\n",
        "\n",
        "\n",
        "class CoffeeDrink(ABC):\n",
        "\n",
        "    @abstractmethod\n",
        "    def milk(self):\n",
        "        pass\n",
        "    @abstractmethod\n",
        "    def water(self):\n",
        "        pass   \n",
        "    @abstractmethod\n",
        "    def coffee(self):\n",
        "        pass\n",
        "\n",
        "    @abstractmethod\n",
        "    def addition(self):\n",
        "        pass\n",
        "\n",
        "\n"
      ],
      "execution_count": 0,
      "outputs": []
    },
    {
      "cell_type": "code",
      "metadata": {
        "id": "x2NHXKM8rkQY",
        "colab_type": "code",
        "colab": {}
      },
      "source": [
        "class AmericanoMaker(CoffeeMaker):\n",
        "    def make_drink(self):\n",
        "\n",
        "        Drink = Americano()\n",
        "\n",
        "        return Drink\n",
        "\n",
        "class Americano(CoffeeDrink):\n",
        "\n",
        "    def milk(self):\n",
        "        return 0\n",
        "    \n",
        "    def water(self):\n",
        "        return 400\n",
        "    def coffee(self):\n",
        "        return 14\n",
        "\n",
        "    def addition(self):\n",
        "        return 'nuts syrup'\n",
        "\n",
        "    def __repr__(self):\n",
        "        return 'Americano'\n",
        "\n",
        "class EspressoMaker(CoffeeMaker):\n",
        "\n",
        "    def make_drink(self):\n",
        "        Drink = Espresso()\n",
        "        return Drink\n",
        "\n",
        "class Espresso(CoffeeDrink):\n",
        "    def milk(self):\n",
        "        return 0\n",
        "    def water(self):\n",
        "        return 150\n",
        "    def coffee(self):\n",
        "        return 14\n",
        "\n",
        "    def addition(self):\n",
        "        return 'caramel syrup'\n",
        "\n",
        "    def __repr__(self):\n",
        "        return 'Espresso'\n",
        "\n",
        "class LatteeMaker(CoffeeMaker):\n",
        "    def make_drink(self):\n",
        "\n",
        "        Drink = Lattee()\n",
        "        return Drink\n",
        "\n",
        "class Lattee(CoffeeDrink):\n",
        "    def milk(self):\n",
        "        return 300\n",
        "    def water(self):\n",
        "        return 100\n",
        "    def coffee(self):\n",
        "        return 14 \n",
        "    def addition(self):\n",
        "        return 'vanil syrup'\n",
        "\n",
        "    def __repr__(self):\n",
        "        return 'Lattee'\n",
        "\n",
        "class CappuccinoMaker(CoffeeMaker):\n",
        "    def make_drink(self):\n",
        "\n",
        "        Drink = Cappuccino()\n",
        "        return Drink\n",
        "\n",
        "class Cappuccino(CoffeeDrink):\n",
        "    def milk(self):\n",
        "        return 200\n",
        "    def water(self):\n",
        "        return 200\n",
        "    def coffee(self):\n",
        "        return 14\n",
        "    def addition(self):\n",
        "        return 'ice cream syrup'\n",
        "\n",
        "    def __repr__(self):\n",
        "        return 'Cappuccino'"
      ],
      "execution_count": 0,
      "outputs": []
    },
    {
      "cell_type": "code",
      "metadata": {
        "id": "DEMSlTXU1Pvi",
        "colab_type": "code",
        "colab": {}
      },
      "source": [
        "class Order:\n",
        "    def __init__(self, drink_name, size, additions =None):\n",
        "        self.drink_name = drink_name\n",
        "        self.size = size\n",
        "\n",
        "        self.additions = additions\n",
        "\n",
        "        if self.drink_name == 'Americano':\n",
        "            self.drink_item = Americano()\n",
        "            self.maker = AmericanoMaker()\n",
        "        if self.drink_name == 'Espresso':\n",
        "            self.drink_item = Espresso()\n",
        "            self.maker = EspressoMaker()\n",
        "        if self.drink_name == 'Lattee':\n",
        "            self.drink_item = Lattee()\n",
        "            self.maker = LatteeMaker()\n",
        "        if self.drink_name == 'Cappuccino':\n",
        "            self.drink_item = Cappuccino()\n",
        "            self.maker = CappuccinoMaker()\n"
      ],
      "execution_count": 0,
      "outputs": []
    },
    {
      "cell_type": "code",
      "metadata": {
        "id": "FkUNmLQK3UjA",
        "colab_type": "code",
        "colab": {}
      },
      "source": [
        "class Customer:\n",
        "    def __init__(self, name, money):\n",
        "        self.name = name\n",
        "        self.__money = money\n",
        "    \n",
        "    def make_order(self, drink_name, size = 1, additions = None):\n",
        "        order = Order(drink_name, size, additions = additions)\n",
        "\n",
        "        return order\n",
        "\n",
        "    def get_money(self):\n",
        "        return self.__money\n",
        "\n",
        "    def change_money(self, price):\n",
        "\n",
        "        self.__money = self.__money - price"
      ],
      "execution_count": 0,
      "outputs": []
    },
    {
      "cell_type": "code",
      "metadata": {
        "id": "5dD3LdbuN0VL",
        "colab_type": "code",
        "colab": {}
      },
      "source": [
        "costs = {'Americano': 200, 'Lattee': 300, 'Espresso': 200, 'Cappuccino': 200, 'nuts syrup': 10, 'caramel syrup':15, 'vanil syrup': 15, 'ice cream syrup': 20}\n",
        "additions = {'nuts syrup': 100, 'caramel syrup':150, 'vanil syrup': 150, 'ice cream syrup': 200}"
      ],
      "execution_count": 0,
      "outputs": []
    },
    {
      "cell_type": "code",
      "metadata": {
        "id": "oD9UTtKuNFL9",
        "colab_type": "code",
        "colab": {}
      },
      "source": [
        "CM = CoffeeMachine(milk=10000, additions = additions, costs= costs)"
      ],
      "execution_count": 0,
      "outputs": []
    },
    {
      "cell_type": "markdown",
      "metadata": {
        "id": "lLKlRWgCdaA6",
        "colab_type": "text"
      },
      "source": [
        "Создадим покупателя, у которого на счету 1000 рублей, он хочет купить Американо с ореховым сиропом."
      ]
    },
    {
      "cell_type": "code",
      "metadata": {
        "id": "9UB64_sYObBD",
        "colab_type": "code",
        "colab": {}
      },
      "source": [
        "customer_1 = Customer('Ivan', 1000)"
      ],
      "execution_count": 0,
      "outputs": []
    },
    {
      "cell_type": "code",
      "metadata": {
        "id": "Ayd9Btu-SOES",
        "colab_type": "code",
        "colab": {}
      },
      "source": [
        "order = customer_1.make_order('Americano', size = 1, additions=['nuts syrup'])"
      ],
      "execution_count": 0,
      "outputs": []
    },
    {
      "cell_type": "code",
      "metadata": {
        "id": "NZP-p3LDSYe2",
        "colab_type": "code",
        "outputId": "8d39fa46-1b48-48d1-f06e-484f76c8d2a2",
        "colab": {
          "base_uri": "https://localhost:8080/",
          "height": 34
        }
      },
      "source": [
        "drink = CM.make_coffee_for_order(customer_1, order)"
      ],
      "execution_count": 0,
      "outputs": [
        {
          "output_type": "stream",
          "text": [
            "Total cost: 210. Thank you for your order!\n"
          ],
          "name": "stdout"
        }
      ]
    },
    {
      "cell_type": "code",
      "metadata": {
        "id": "pmbvF7D9TH4F",
        "colab_type": "code",
        "outputId": "8361cbef-5c41-4958-c473-84fc63977d4d",
        "colab": {
          "base_uri": "https://localhost:8080/",
          "height": 34
        }
      },
      "source": [
        "drink"
      ],
      "execution_count": 0,
      "outputs": [
        {
          "output_type": "execute_result",
          "data": {
            "text/plain": [
              "Americano"
            ]
          },
          "metadata": {
            "tags": []
          },
          "execution_count": 185
        }
      ]
    },
    {
      "cell_type": "code",
      "metadata": {
        "id": "JauwYauqyHbt",
        "colab_type": "code",
        "outputId": "d699ce8a-1af7-4d42-b9eb-8cd7364767f7",
        "colab": {
          "base_uri": "https://localhost:8080/",
          "height": 34
        }
      },
      "source": [
        "customer_1.get_money()"
      ],
      "execution_count": 0,
      "outputs": [
        {
          "output_type": "execute_result",
          "data": {
            "text/plain": [
              "790"
            ]
          },
          "metadata": {
            "tags": []
          },
          "execution_count": 186
        }
      ]
    },
    {
      "cell_type": "code",
      "metadata": {
        "id": "b9pjWA_myNkN",
        "colab_type": "code",
        "outputId": "4a4635bd-5999-4fea-fd77-f224ff7c0091",
        "colab": {
          "base_uri": "https://localhost:8080/",
          "height": 86
        }
      },
      "source": [
        "CM._CoffeeMachine__additions"
      ],
      "execution_count": 0,
      "outputs": [
        {
          "output_type": "execute_result",
          "data": {
            "text/plain": [
              "{'caramel syrup': 150,\n",
              " 'ice cream syrup': 200,\n",
              " 'nuts syrup': 99,\n",
              " 'vanil syrup': 150}"
            ]
          },
          "metadata": {
            "tags": []
          },
          "execution_count": 187
        }
      ]
    },
    {
      "cell_type": "code",
      "metadata": {
        "id": "_elXyH73yVXQ",
        "colab_type": "code",
        "outputId": "7ed87550-5f96-4c9b-a6a8-20ebed7e87c2",
        "colab": {
          "base_uri": "https://localhost:8080/",
          "height": 139
        }
      },
      "source": [
        "CM.get_products()"
      ],
      "execution_count": 0,
      "outputs": [
        {
          "output_type": "execute_result",
          "data": {
            "text/plain": [
              "(9600.0,\n",
              " 10000,\n",
              " 9986.0,\n",
              " {'caramel syrup': 150,\n",
              "  'ice cream syrup': 200,\n",
              "  'nuts syrup': 99,\n",
              "  'vanil syrup': 150})"
            ]
          },
          "metadata": {
            "tags": []
          },
          "execution_count": 188
        }
      ]
    },
    {
      "cell_type": "markdown",
      "metadata": {
        "id": "cU89gQ0TdlAN",
        "colab_type": "text"
      },
      "source": [
        "Теперь пусть этот покупатель купит кофе без добавки:\n"
      ]
    },
    {
      "cell_type": "code",
      "metadata": {
        "id": "l9Zm8Y3zdUM4",
        "colab_type": "code",
        "colab": {}
      },
      "source": [
        "order_2 = customer_1.make_order('Lattee', 2 )"
      ],
      "execution_count": 0,
      "outputs": []
    },
    {
      "cell_type": "code",
      "metadata": {
        "id": "WtOTwqyRd8rw",
        "colab_type": "code",
        "outputId": "c9809b7e-0228-4bf0-8426-c2903179c1e2",
        "colab": {
          "base_uri": "https://localhost:8080/",
          "height": 121
        }
      },
      "source": [
        "drink_2 = CM.make_coffee_for_order(customer_1, order_2)"
      ],
      "execution_count": 0,
      "outputs": [
        {
          "output_type": "stream",
          "text": [
            "Do you want to add vanil syrup for 30\n",
            "Да\n",
            "Your answer is invalid, try one more time.\n",
            "Do you want to add vanil syrup for 30\n",
            "да\n",
            "Total cost: 630. Thank you for your order!\n"
          ],
          "name": "stdout"
        }
      ]
    },
    {
      "cell_type": "code",
      "metadata": {
        "id": "9cJHpkgueNRv",
        "colab_type": "code",
        "outputId": "8a84035e-3b44-4a9d-fca6-9d4ff8438fa2",
        "colab": {
          "base_uri": "https://localhost:8080/",
          "height": 34
        }
      },
      "source": [
        "customer_1.get_money()"
      ],
      "execution_count": 0,
      "outputs": [
        {
          "output_type": "execute_result",
          "data": {
            "text/plain": [
              "160"
            ]
          },
          "metadata": {
            "tags": []
          },
          "execution_count": 191
        }
      ]
    },
    {
      "cell_type": "code",
      "metadata": {
        "id": "UMuKLvZmfnyv",
        "colab_type": "code",
        "outputId": "fcb71bcd-57e7-449a-9b3f-a127832be535",
        "colab": {
          "base_uri": "https://localhost:8080/",
          "height": 139
        }
      },
      "source": [
        "CM.get_products()"
      ],
      "execution_count": 0,
      "outputs": [
        {
          "output_type": "execute_result",
          "data": {
            "text/plain": [
              "(9400.0,\n",
              " 9400,\n",
              " 9958.0,\n",
              " {'caramel syrup': 150,\n",
              "  'ice cream syrup': 200,\n",
              "  'nuts syrup': 99,\n",
              "  'vanil syrup': 148})"
            ]
          },
          "metadata": {
            "tags": []
          },
          "execution_count": 192
        }
      ]
    },
    {
      "cell_type": "markdown",
      "metadata": {
        "id": "YCyPvv7igZoT",
        "colab_type": "text"
      },
      "source": [
        "Тепрь пусть покупатель с недостатком средств на счете попытается купить кофе."
      ]
    },
    {
      "cell_type": "code",
      "metadata": {
        "id": "nJca5708fyOo",
        "colab_type": "code",
        "colab": {}
      },
      "source": [
        "order_3 = customer_1.make_order('Cappuccino', 1)"
      ],
      "execution_count": 0,
      "outputs": []
    },
    {
      "cell_type": "code",
      "metadata": {
        "id": "87h_Nf9Vgr5t",
        "colab_type": "code",
        "outputId": "e439fa83-77d2-4e82-ec67-edfe611066ca",
        "colab": {
          "base_uri": "https://localhost:8080/",
          "height": 313
        }
      },
      "source": [
        "drink_3 = CM.make_coffee_for_order(customer_1, order_3)"
      ],
      "execution_count": 0,
      "outputs": [
        {
          "output_type": "error",
          "ename": "Exception",
          "evalue": "ignored",
          "traceback": [
            "\u001b[0;31m---------------------------------------------------------------------------\u001b[0m",
            "\u001b[0;31mException\u001b[0m                                 Traceback (most recent call last)",
            "\u001b[0;32m<ipython-input-194-f071aca286d5>\u001b[0m in \u001b[0;36m<module>\u001b[0;34m()\u001b[0m\n\u001b[0;32m----> 1\u001b[0;31m \u001b[0mdrink_3\u001b[0m \u001b[0;34m=\u001b[0m \u001b[0mCM\u001b[0m\u001b[0;34m.\u001b[0m\u001b[0mmake_coffee_for_order\u001b[0m\u001b[0;34m(\u001b[0m\u001b[0mcustomer_1\u001b[0m\u001b[0;34m,\u001b[0m \u001b[0morder_3\u001b[0m\u001b[0;34m)\u001b[0m\u001b[0;34m\u001b[0m\u001b[0;34m\u001b[0m\u001b[0m\n\u001b[0m",
            "\u001b[0;32m<ipython-input-175-562535963c96>\u001b[0m in \u001b[0;36mmake_coffee_for_order\u001b[0;34m(self, custom, order)\u001b[0m\n\u001b[1;32m    164\u001b[0m \u001b[0;34m\u001b[0m\u001b[0m\n\u001b[1;32m    165\u001b[0m \u001b[0;34m\u001b[0m\u001b[0m\n\u001b[0;32m--> 166\u001b[0;31m         \u001b[0mfinal_cost\u001b[0m \u001b[0;34m=\u001b[0m \u001b[0mself\u001b[0m\u001b[0;34m.\u001b[0m\u001b[0mget_order\u001b[0m\u001b[0;34m(\u001b[0m\u001b[0mcustom\u001b[0m\u001b[0;34m,\u001b[0m \u001b[0morder\u001b[0m\u001b[0;34m)\u001b[0m\u001b[0;34m\u001b[0m\u001b[0;34m\u001b[0m\u001b[0m\n\u001b[0m\u001b[1;32m    167\u001b[0m         \u001b[0macount\u001b[0m \u001b[0;34m=\u001b[0m \u001b[0mcustom\u001b[0m\u001b[0;34m.\u001b[0m\u001b[0mchange_money\u001b[0m\u001b[0;34m(\u001b[0m\u001b[0mfinal_cost\u001b[0m\u001b[0;34m)\u001b[0m\u001b[0;34m\u001b[0m\u001b[0;34m\u001b[0m\u001b[0m\n\u001b[1;32m    168\u001b[0m         \u001b[0mdrink\u001b[0m \u001b[0;34m=\u001b[0m \u001b[0morder\u001b[0m\u001b[0;34m.\u001b[0m\u001b[0mmaker\u001b[0m\u001b[0;34m.\u001b[0m\u001b[0mmake_drink\u001b[0m\u001b[0;34m(\u001b[0m\u001b[0;34m)\u001b[0m\u001b[0;34m\u001b[0m\u001b[0;34m\u001b[0m\u001b[0m\n",
            "\u001b[0;32m<ipython-input-175-562535963c96>\u001b[0m in \u001b[0;36mget_order\u001b[0;34m(self, customer, order)\u001b[0m\n\u001b[1;32m    147\u001b[0m         \u001b[0mfinal_cost\u001b[0m \u001b[0;34m=\u001b[0m \u001b[0mself\u001b[0m\u001b[0;34m.\u001b[0m\u001b[0mcount_cost\u001b[0m\u001b[0;34m(\u001b[0m\u001b[0morder\u001b[0m\u001b[0;34m)\u001b[0m\u001b[0;34m\u001b[0m\u001b[0;34m\u001b[0m\u001b[0m\n\u001b[1;32m    148\u001b[0m         \u001b[0;32mif\u001b[0m \u001b[0mfinal_cost\u001b[0m \u001b[0;34m>\u001b[0m \u001b[0mcustomer\u001b[0m\u001b[0;34m.\u001b[0m\u001b[0mget_money\u001b[0m\u001b[0;34m(\u001b[0m\u001b[0;34m)\u001b[0m\u001b[0;34m:\u001b[0m\u001b[0;34m\u001b[0m\u001b[0;34m\u001b[0m\u001b[0m\n\u001b[0;32m--> 149\u001b[0;31m             \u001b[0;32mraise\u001b[0m \u001b[0mException\u001b[0m\u001b[0;34m(\u001b[0m\u001b[0;34m\"You don't have enough money.\"\u001b[0m\u001b[0;34m)\u001b[0m\u001b[0;34m\u001b[0m\u001b[0;34m\u001b[0m\u001b[0m\n\u001b[0m\u001b[1;32m    150\u001b[0m \u001b[0;34m\u001b[0m\u001b[0m\n\u001b[1;32m    151\u001b[0m         \u001b[0;32mif\u001b[0m \u001b[0morder\u001b[0m\u001b[0;34m.\u001b[0m\u001b[0madditions\u001b[0m \u001b[0;34m==\u001b[0m \u001b[0;32mNone\u001b[0m\u001b[0;34m:\u001b[0m\u001b[0;34m\u001b[0m\u001b[0;34m\u001b[0m\u001b[0m\n",
            "\u001b[0;31mException\u001b[0m: You don't have enough money."
          ]
        }
      ]
    },
    {
      "cell_type": "markdown",
      "metadata": {
        "id": "h5dlF2izg2c2",
        "colab_type": "text"
      },
      "source": [
        "Тепрь пусть он попробует сделать заказ с не существующим названием кофе:"
      ]
    },
    {
      "cell_type": "code",
      "metadata": {
        "id": "_XDw_FAXgyOH",
        "colab_type": "code",
        "colab": {}
      },
      "source": [
        "order_4 = customer_1.make_order('Irish_coffee', 1, 'chocolate')"
      ],
      "execution_count": 0,
      "outputs": []
    },
    {
      "cell_type": "code",
      "metadata": {
        "id": "6zpWF4omhK73",
        "colab_type": "code",
        "outputId": "5d11675c-6d76-4324-87c9-1b5993c06276",
        "colab": {
          "base_uri": "https://localhost:8080/",
          "height": 313
        }
      },
      "source": [
        "drink_4 = CM.make_coffee_for_order(customer, order_4)"
      ],
      "execution_count": 0,
      "outputs": [
        {
          "output_type": "error",
          "ename": "ValueError",
          "evalue": "ignored",
          "traceback": [
            "\u001b[0;31m---------------------------------------------------------------------------\u001b[0m",
            "\u001b[0;31mValueError\u001b[0m                                Traceback (most recent call last)",
            "\u001b[0;32m<ipython-input-196-fbdfb8563ff9>\u001b[0m in \u001b[0;36m<module>\u001b[0;34m()\u001b[0m\n\u001b[0;32m----> 1\u001b[0;31m \u001b[0mdrink_4\u001b[0m \u001b[0;34m=\u001b[0m \u001b[0mCM\u001b[0m\u001b[0;34m.\u001b[0m\u001b[0mmake_coffee_for_order\u001b[0m\u001b[0;34m(\u001b[0m\u001b[0mcustomer\u001b[0m\u001b[0;34m,\u001b[0m \u001b[0morder_4\u001b[0m\u001b[0;34m)\u001b[0m\u001b[0;34m\u001b[0m\u001b[0;34m\u001b[0m\u001b[0m\n\u001b[0m",
            "\u001b[0;32m<ipython-input-175-562535963c96>\u001b[0m in \u001b[0;36mmake_coffee_for_order\u001b[0;34m(self, custom, order)\u001b[0m\n\u001b[1;32m    164\u001b[0m \u001b[0;34m\u001b[0m\u001b[0m\n\u001b[1;32m    165\u001b[0m \u001b[0;34m\u001b[0m\u001b[0m\n\u001b[0;32m--> 166\u001b[0;31m         \u001b[0mfinal_cost\u001b[0m \u001b[0;34m=\u001b[0m \u001b[0mself\u001b[0m\u001b[0;34m.\u001b[0m\u001b[0mget_order\u001b[0m\u001b[0;34m(\u001b[0m\u001b[0mcustom\u001b[0m\u001b[0;34m,\u001b[0m \u001b[0morder\u001b[0m\u001b[0;34m)\u001b[0m\u001b[0;34m\u001b[0m\u001b[0;34m\u001b[0m\u001b[0m\n\u001b[0m\u001b[1;32m    167\u001b[0m         \u001b[0macount\u001b[0m \u001b[0;34m=\u001b[0m \u001b[0mcustom\u001b[0m\u001b[0;34m.\u001b[0m\u001b[0mchange_money\u001b[0m\u001b[0;34m(\u001b[0m\u001b[0mfinal_cost\u001b[0m\u001b[0;34m)\u001b[0m\u001b[0;34m\u001b[0m\u001b[0;34m\u001b[0m\u001b[0m\n\u001b[1;32m    168\u001b[0m         \u001b[0mdrink\u001b[0m \u001b[0;34m=\u001b[0m \u001b[0morder\u001b[0m\u001b[0;34m.\u001b[0m\u001b[0mmaker\u001b[0m\u001b[0;34m.\u001b[0m\u001b[0mmake_drink\u001b[0m\u001b[0;34m(\u001b[0m\u001b[0;34m)\u001b[0m\u001b[0;34m\u001b[0m\u001b[0;34m\u001b[0m\u001b[0m\n",
            "\u001b[0;32m<ipython-input-175-562535963c96>\u001b[0m in \u001b[0;36mget_order\u001b[0;34m(self, customer, order)\u001b[0m\n\u001b[1;32m    143\u001b[0m         '''\n\u001b[1;32m    144\u001b[0m \u001b[0;34m\u001b[0m\u001b[0m\n\u001b[0;32m--> 145\u001b[0;31m         \u001b[0mself\u001b[0m\u001b[0;34m.\u001b[0m\u001b[0mcheck_order\u001b[0m\u001b[0;34m(\u001b[0m\u001b[0morder\u001b[0m\u001b[0;34m)\u001b[0m\u001b[0;34m\u001b[0m\u001b[0;34m\u001b[0m\u001b[0m\n\u001b[0m\u001b[1;32m    146\u001b[0m \u001b[0;34m\u001b[0m\u001b[0m\n\u001b[1;32m    147\u001b[0m         \u001b[0mfinal_cost\u001b[0m \u001b[0;34m=\u001b[0m \u001b[0mself\u001b[0m\u001b[0;34m.\u001b[0m\u001b[0mcount_cost\u001b[0m\u001b[0;34m(\u001b[0m\u001b[0morder\u001b[0m\u001b[0;34m)\u001b[0m\u001b[0;34m\u001b[0m\u001b[0;34m\u001b[0m\u001b[0m\n",
            "\u001b[0;32m<ipython-input-175-562535963c96>\u001b[0m in \u001b[0;36mcheck_order\u001b[0;34m(self, order)\u001b[0m\n\u001b[1;32m    104\u001b[0m \u001b[0;34m\u001b[0m\u001b[0m\n\u001b[1;32m    105\u001b[0m         \u001b[0;32mif\u001b[0m \u001b[0morder\u001b[0m\u001b[0;34m.\u001b[0m\u001b[0mdrink_name\u001b[0m \u001b[0;32mnot\u001b[0m \u001b[0;32min\u001b[0m \u001b[0mself\u001b[0m\u001b[0;34m.\u001b[0m\u001b[0m__costs\u001b[0m\u001b[0;34m:\u001b[0m\u001b[0;34m\u001b[0m\u001b[0;34m\u001b[0m\u001b[0m\n\u001b[0;32m--> 106\u001b[0;31m             \u001b[0;32mraise\u001b[0m \u001b[0mValueError\u001b[0m\u001b[0;34m(\u001b[0m\u001b[0;34m\"We don't have this kind of coffee, try to choose another one.\"\u001b[0m\u001b[0;34m)\u001b[0m\u001b[0;34m\u001b[0m\u001b[0;34m\u001b[0m\u001b[0m\n\u001b[0m\u001b[1;32m    107\u001b[0m \u001b[0;34m\u001b[0m\u001b[0m\n\u001b[1;32m    108\u001b[0m         \u001b[0mwater\u001b[0m\u001b[0;34m,\u001b[0m \u001b[0mmilk\u001b[0m\u001b[0;34m,\u001b[0m \u001b[0mcoffee\u001b[0m\u001b[0;34m,\u001b[0m \u001b[0madd\u001b[0m \u001b[0;34m=\u001b[0m \u001b[0mself\u001b[0m\u001b[0;34m.\u001b[0m\u001b[0mget_products\u001b[0m\u001b[0;34m(\u001b[0m\u001b[0;34m)\u001b[0m\u001b[0;34m\u001b[0m\u001b[0;34m\u001b[0m\u001b[0m\n",
            "\u001b[0;31mValueError\u001b[0m: We don't have this kind of coffee, try to choose another one."
          ]
        }
      ]
    },
    {
      "cell_type": "markdown",
      "metadata": {
        "id": "cGODapQ_hoFJ",
        "colab_type": "text"
      },
      "source": [
        "Попробуем изменить цену на капучино:\n"
      ]
    },
    {
      "cell_type": "code",
      "metadata": {
        "id": "m4pfuuoDhQg1",
        "colab_type": "code",
        "outputId": "2100d6a1-1091-46b4-cad9-5b8280a4479f",
        "colab": {
          "base_uri": "https://localhost:8080/",
          "height": 34
        }
      },
      "source": [
        "CM.change_cost('Cappuccino', 300)"
      ],
      "execution_count": 0,
      "outputs": [
        {
          "output_type": "stream",
          "text": [
            "Price of Cappuccino was changed from 200 to 300\n"
          ],
          "name": "stdout"
        }
      ]
    },
    {
      "cell_type": "markdown",
      "metadata": {
        "id": "1M6WSlRXnFFK",
        "colab_type": "text"
      },
      "source": [
        "Теперь попробуем заказать кофе в машине, у которой не хватает кофейных зерен."
      ]
    },
    {
      "cell_type": "code",
      "metadata": {
        "id": "AXyO75Jco3z-",
        "colab_type": "code",
        "colab": {}
      },
      "source": [
        "customer_2 = Customer('Masha',money = 10000)"
      ],
      "execution_count": 0,
      "outputs": []
    },
    {
      "cell_type": "code",
      "metadata": {
        "id": "zm2IXagViQT-",
        "colab_type": "code",
        "colab": {}
      },
      "source": [
        "CM_2 = CoffeeMachine(coffee = 3,additions = additions, costs = costs)"
      ],
      "execution_count": 0,
      "outputs": []
    },
    {
      "cell_type": "code",
      "metadata": {
        "id": "75-s8QD7nmN5",
        "colab_type": "code",
        "colab": {}
      },
      "source": [
        "order_5 = customer_2.make_order('Espresso', 2, additions=['nuts syrup', 'caramel syrup'])"
      ],
      "execution_count": 0,
      "outputs": []
    },
    {
      "cell_type": "code",
      "metadata": {
        "id": "x717KYH6n2bv",
        "colab_type": "code",
        "outputId": "7ea4f8db-8e5c-4516-e96e-c19c72004b06",
        "colab": {
          "base_uri": "https://localhost:8080/",
          "height": 313
        }
      },
      "source": [
        "drink_5 = CM_2.make_coffee_for_order(customer_2, order_5)"
      ],
      "execution_count": 0,
      "outputs": [
        {
          "output_type": "error",
          "ename": "Exception",
          "evalue": "ignored",
          "traceback": [
            "\u001b[0;31m---------------------------------------------------------------------------\u001b[0m",
            "\u001b[0;31mException\u001b[0m                                 Traceback (most recent call last)",
            "\u001b[0;32m<ipython-input-201-00f4d2f9a3a1>\u001b[0m in \u001b[0;36m<module>\u001b[0;34m()\u001b[0m\n\u001b[0;32m----> 1\u001b[0;31m \u001b[0mdrink_5\u001b[0m \u001b[0;34m=\u001b[0m \u001b[0mCM_2\u001b[0m\u001b[0;34m.\u001b[0m\u001b[0mmake_coffee_for_order\u001b[0m\u001b[0;34m(\u001b[0m\u001b[0mcustomer_2\u001b[0m\u001b[0;34m,\u001b[0m \u001b[0morder_5\u001b[0m\u001b[0;34m)\u001b[0m\u001b[0;34m\u001b[0m\u001b[0;34m\u001b[0m\u001b[0m\n\u001b[0m",
            "\u001b[0;32m<ipython-input-175-562535963c96>\u001b[0m in \u001b[0;36mmake_coffee_for_order\u001b[0;34m(self, custom, order)\u001b[0m\n\u001b[1;32m    164\u001b[0m \u001b[0;34m\u001b[0m\u001b[0m\n\u001b[1;32m    165\u001b[0m \u001b[0;34m\u001b[0m\u001b[0m\n\u001b[0;32m--> 166\u001b[0;31m         \u001b[0mfinal_cost\u001b[0m \u001b[0;34m=\u001b[0m \u001b[0mself\u001b[0m\u001b[0;34m.\u001b[0m\u001b[0mget_order\u001b[0m\u001b[0;34m(\u001b[0m\u001b[0mcustom\u001b[0m\u001b[0;34m,\u001b[0m \u001b[0morder\u001b[0m\u001b[0;34m)\u001b[0m\u001b[0;34m\u001b[0m\u001b[0;34m\u001b[0m\u001b[0m\n\u001b[0m\u001b[1;32m    167\u001b[0m         \u001b[0macount\u001b[0m \u001b[0;34m=\u001b[0m \u001b[0mcustom\u001b[0m\u001b[0;34m.\u001b[0m\u001b[0mchange_money\u001b[0m\u001b[0;34m(\u001b[0m\u001b[0mfinal_cost\u001b[0m\u001b[0;34m)\u001b[0m\u001b[0;34m\u001b[0m\u001b[0;34m\u001b[0m\u001b[0m\n\u001b[1;32m    168\u001b[0m         \u001b[0mdrink\u001b[0m \u001b[0;34m=\u001b[0m \u001b[0morder\u001b[0m\u001b[0;34m.\u001b[0m\u001b[0mmaker\u001b[0m\u001b[0;34m.\u001b[0m\u001b[0mmake_drink\u001b[0m\u001b[0;34m(\u001b[0m\u001b[0;34m)\u001b[0m\u001b[0;34m\u001b[0m\u001b[0;34m\u001b[0m\u001b[0m\n",
            "\u001b[0;32m<ipython-input-175-562535963c96>\u001b[0m in \u001b[0;36mget_order\u001b[0;34m(self, customer, order)\u001b[0m\n\u001b[1;32m    143\u001b[0m         '''\n\u001b[1;32m    144\u001b[0m \u001b[0;34m\u001b[0m\u001b[0m\n\u001b[0;32m--> 145\u001b[0;31m         \u001b[0mself\u001b[0m\u001b[0;34m.\u001b[0m\u001b[0mcheck_order\u001b[0m\u001b[0;34m(\u001b[0m\u001b[0morder\u001b[0m\u001b[0;34m)\u001b[0m\u001b[0;34m\u001b[0m\u001b[0;34m\u001b[0m\u001b[0m\n\u001b[0m\u001b[1;32m    146\u001b[0m \u001b[0;34m\u001b[0m\u001b[0m\n\u001b[1;32m    147\u001b[0m         \u001b[0mfinal_cost\u001b[0m \u001b[0;34m=\u001b[0m \u001b[0mself\u001b[0m\u001b[0;34m.\u001b[0m\u001b[0mcount_cost\u001b[0m\u001b[0;34m(\u001b[0m\u001b[0morder\u001b[0m\u001b[0;34m)\u001b[0m\u001b[0;34m\u001b[0m\u001b[0;34m\u001b[0m\u001b[0m\n",
            "\u001b[0;32m<ipython-input-175-562535963c96>\u001b[0m in \u001b[0;36mcheck_order\u001b[0;34m(self, order)\u001b[0m\n\u001b[1;32m    122\u001b[0m         \u001b[0;32mif\u001b[0m \u001b[0mreq_coffee\u001b[0m \u001b[0;34m>\u001b[0m \u001b[0mcoffee\u001b[0m \u001b[0;32mor\u001b[0m \u001b[0mreq_water\u001b[0m \u001b[0;34m>\u001b[0m \u001b[0mwater\u001b[0m \u001b[0;32mor\u001b[0m \u001b[0mreq_milk\u001b[0m \u001b[0;34m>\u001b[0m \u001b[0mmilk\u001b[0m\u001b[0;34m:\u001b[0m\u001b[0;34m\u001b[0m\u001b[0;34m\u001b[0m\u001b[0m\n\u001b[1;32m    123\u001b[0m \u001b[0;34m\u001b[0m\u001b[0m\n\u001b[0;32m--> 124\u001b[0;31m             \u001b[0;32mraise\u001b[0m \u001b[0mException\u001b[0m\u001b[0;34m(\u001b[0m\u001b[0;34m\"Coffee machine doesn't have enough ingredients.\"\u001b[0m\u001b[0;34m)\u001b[0m\u001b[0;34m\u001b[0m\u001b[0;34m\u001b[0m\u001b[0m\n\u001b[0m\u001b[1;32m    125\u001b[0m \u001b[0;34m\u001b[0m\u001b[0m\n\u001b[1;32m    126\u001b[0m \u001b[0;34m\u001b[0m\u001b[0m\n",
            "\u001b[0;31mException\u001b[0m: Coffee machine doesn't have enough ingredients."
          ]
        }
      ]
    },
    {
      "cell_type": "markdown",
      "metadata": {
        "id": "tHdNKEEmoIFz",
        "colab_type": "text"
      },
      "source": [
        "Добавим в кофе машину зерен и сделаем заказ с несколькими добавками еще раз."
      ]
    },
    {
      "cell_type": "code",
      "metadata": {
        "id": "Fh4pDsvSn77V",
        "colab_type": "code",
        "colab": {}
      },
      "source": [
        "CM_2._change_state(0,0,10000)"
      ],
      "execution_count": 0,
      "outputs": []
    },
    {
      "cell_type": "code",
      "metadata": {
        "id": "PhCImFlgod0w",
        "colab_type": "code",
        "outputId": "e73c7a10-dfe5-42fa-a911-f633c1dd4016",
        "colab": {
          "base_uri": "https://localhost:8080/",
          "height": 139
        }
      },
      "source": [
        "CM_2.get_products()"
      ],
      "execution_count": 0,
      "outputs": [
        {
          "output_type": "execute_result",
          "data": {
            "text/plain": [
              "(10000.0,\n",
              " 10000.0,\n",
              " 10003,\n",
              " {'caramel syrup': 150,\n",
              "  'ice cream syrup': 200,\n",
              "  'nuts syrup': 99,\n",
              "  'vanil syrup': 148})"
            ]
          },
          "metadata": {
            "tags": []
          },
          "execution_count": 203
        }
      ]
    },
    {
      "cell_type": "code",
      "metadata": {
        "id": "QYwgMx5sovHs",
        "colab_type": "code",
        "outputId": "a0c37dff-8683-4f57-e314-2d856d5883d4",
        "colab": {
          "base_uri": "https://localhost:8080/",
          "height": 34
        }
      },
      "source": [
        "drink_5 = CM_2.make_coffee_for_order(customer_2, order_5)"
      ],
      "execution_count": 0,
      "outputs": [
        {
          "output_type": "stream",
          "text": [
            "Total cost: 450. Thank you for your order!\n"
          ],
          "name": "stdout"
        }
      ]
    },
    {
      "cell_type": "code",
      "metadata": {
        "id": "yRJNlyNwo0tG",
        "colab_type": "code",
        "outputId": "4564d898-6a45-4bcb-e7a1-c256091cfeab",
        "colab": {
          "base_uri": "https://localhost:8080/",
          "height": 34
        }
      },
      "source": [
        "drink_5"
      ],
      "execution_count": 0,
      "outputs": [
        {
          "output_type": "execute_result",
          "data": {
            "text/plain": [
              "Espresso"
            ]
          },
          "metadata": {
            "tags": []
          },
          "execution_count": 205
        }
      ]
    },
    {
      "cell_type": "code",
      "metadata": {
        "id": "-iKdIGqrrnNE",
        "colab_type": "code",
        "outputId": "f17f3d3d-947b-4dd1-89d6-2fdbc16c8a1a",
        "colab": {
          "base_uri": "https://localhost:8080/",
          "height": 34
        }
      },
      "source": [
        "CM_2.get_money()"
      ],
      "execution_count": 0,
      "outputs": [
        {
          "output_type": "execute_result",
          "data": {
            "text/plain": [
              "450"
            ]
          },
          "metadata": {
            "tags": []
          },
          "execution_count": 206
        }
      ]
    },
    {
      "cell_type": "code",
      "metadata": {
        "id": "V50MREgwrr7T",
        "colab_type": "code",
        "outputId": "cd3905ba-1ab3-45cb-c8ac-84fe31601113",
        "colab": {
          "base_uri": "https://localhost:8080/",
          "height": 139
        }
      },
      "source": [
        "CM_2.get_products()"
      ],
      "execution_count": 0,
      "outputs": [
        {
          "output_type": "execute_result",
          "data": {
            "text/plain": [
              "(9700.0,\n",
              " 10000.0,\n",
              " 9975,\n",
              " {'caramel syrup': 148,\n",
              "  'ice cream syrup': 200,\n",
              "  'nuts syrup': 97,\n",
              "  'vanil syrup': 148})"
            ]
          },
          "metadata": {
            "tags": []
          },
          "execution_count": 207
        }
      ]
    },
    {
      "cell_type": "code",
      "metadata": {
        "id": "cEpudg_AruJ2",
        "colab_type": "code",
        "outputId": "d77f4416-5254-4ec6-c1eb-e382e7a68958",
        "colab": {
          "base_uri": "https://localhost:8080/",
          "height": 34
        }
      },
      "source": [
        "customer_2.get_money()"
      ],
      "execution_count": 0,
      "outputs": [
        {
          "output_type": "execute_result",
          "data": {
            "text/plain": [
              "9550"
            ]
          },
          "metadata": {
            "tags": []
          },
          "execution_count": 208
        }
      ]
    },
    {
      "cell_type": "code",
      "metadata": {
        "id": "Dkr45PYTsBKk",
        "colab_type": "code",
        "colab": {}
      },
      "source": [
        ""
      ],
      "execution_count": 0,
      "outputs": []
    }
  ]
}