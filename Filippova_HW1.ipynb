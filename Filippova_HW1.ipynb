{
  "nbformat": 4,
  "nbformat_minor": 0,
  "metadata": {
    "kernelspec": {
      "display_name": "Python 3",
      "language": "python",
      "name": "python3"
    },
    "language_info": {
      "codemirror_mode": {
        "name": "ipython",
        "version": 3
      },
      "file_extension": ".py",
      "mimetype": "text/x-python",
      "name": "python",
      "nbconvert_exporter": "python",
      "pygments_lexer": "ipython3",
      "version": "3.7.3"
    },
    "colab": {
      "name": "mel_lain_mipt_python_task_intro(1)(4)(1).ipynb",
      "provenance": [],
      "collapsed_sections": []
    }
  },
  "cells": [
    {
      "cell_type": "markdown",
      "metadata": {
        "id": "ZukJjIswMCM4",
        "colab_type": "text"
      },
      "source": [
        "## Домашнее задание №1 (курс \"Практикум по программированию на языке Python\")"
      ]
    },
    {
      "cell_type": "markdown",
      "metadata": {
        "id": "wti7mBQeMCNA",
        "colab_type": "text"
      },
      "source": [
        "### Тема: Введение в язык Python.\n",
        "\n",
        "#### Преподаватель: Мурат Апишев (mel-lain@yandex.ru)\n",
        "\n",
        "**Выдана**:   12 марта 2020\n",
        "\n",
        "**Дедлайн**:   <font color='red'>21:00 26 марта 2020</font>\n",
        "\n",
        "**Среда выполнения**: Jupyter Notebook (Python 3.7)\n",
        "\n",
        "#### Правила:\n",
        "\n",
        "Результат выполнения задания - Jupyter Notebook с кодом. __Максимальное число баллов за задание - 20__.\n",
        "\n",
        "Все ячейки должны быть \"выполненными\", при этом результат должен воспроизводиться при проверке (на Python 3.7). Если какой-то код не был запущен или отрабатывает с ошибками, то пункт не засчитывается. Задание, сданное после дедлайна, _не принимается_. Можно отправить недоделанное задание, выполненные пункты будут оценены.\n",
        "\n",
        "Готовое задание отправляется на почту преподавателя.\n",
        "\n",
        "Задание выполняется самостоятельно. Если какие-то студенты будут уличены в списывании, все они автоматически получат за эту работу 0 баллов. Если вы нашли в Интернете какой-то специфичный код, который собираетесь заимствовать, обязательно укажите это в задании: вполне вероятно, что вы не единственный, кто найдёт и использует эту информацию.\n",
        "\n",
        "Удалять фрагменты формулировок заданий запрещается."
      ]
    },
    {
      "cell_type": "markdown",
      "metadata": {
        "id": "dfvQf0M-MCNF",
        "colab_type": "text"
      },
      "source": [
        "#### Постановка задачи:\n",
        "\n",
        "- В данной работе нужно решить набор задач, проверяющих владение базовыми инструментами языка.\n",
        "- Каждая задача представляет собой написание одной или более функций, а также набора тестов, проверяющих работу этой функции в общих и крайних случаях.\n",
        "- Отсутствие тестов автоматически уменьшает количество баллов за задание как минимум в два раза, некачественные тесты также будут штрафоваться.\n",
        "- Если в задании указано использовать несколько разных вариантов решения, подразумевается использование различных инструментов (циклы, списковые включения, генераторы, встроенные функции, функции модулей стандартной библотеки и т.п.), замена, например, цикла for на цикл while не является иным способом решения.\n",
        "- Даже если это не указано явно в требованиях, код должен быть по возможности неизбыточным, работать с разумной сложностью и объёмом потребялемой памяти, проверяющие могут снизить балл за задание, выполненное без учёта этого требования.\n",
        "- Результирующий код должен быть читаемым, с единой системой отступов и адеквантными названиями переменных, проверяющие могут снизить балл за задание, выполненное без учёта этого требования."
      ]
    },
    {
      "cell_type": "markdown",
      "metadata": {
        "id": "urtM4aSTMCNJ",
        "colab_type": "text"
      },
      "source": [
        "__Задание 1 (0.5 балла):__ Дано натуральное число. Требуется определить, является ли год с данным номером високосным. Если год является високосным, то выведите YES, иначе выведите NO. Напомним, что в соответствии с григорианским календарем, год является високосным, если его номер кратен 4, но не кратен 100, а также если он кратен 400."
      ]
    },
    {
      "cell_type": "code",
      "metadata": {
        "id": "7jke-ZmqAeJn",
        "colab_type": "code",
        "colab": {}
      },
      "source": [
        "import math\n",
        "import numpy as np\n",
        "from itertools import accumulate\n",
        "import re\n",
        "from collections import Counter\n",
        "import os\n",
        "import time\n",
        "import sys\n",
        "from pathlib import Path\n",
        "\n"
      ],
      "execution_count": 0,
      "outputs": []
    },
    {
      "cell_type": "code",
      "metadata": {
        "id": "SXAJQ62pMCNM",
        "colab_type": "code",
        "colab": {}
      },
      "source": [
        "def task_01_func(year):\n",
        "  if year % 4 == 0:\n",
        "    if year % 100 != 0:\n",
        "      print('YES')\n",
        "\n",
        "    else:\n",
        "      if year % 400 == 0:\n",
        "        print('YES')\n",
        "      else:\n",
        "        print('NO')\n",
        "\n",
        "  else:\n",
        "    print('NO')"
      ],
      "execution_count": 0,
      "outputs": []
    },
    {
      "cell_type": "code",
      "metadata": {
        "id": "C-Anc1k2OYyh",
        "colab_type": "code",
        "colab": {}
      },
      "source": [
        "years = [1600,1700,2012,2013]\n",
        "labels = [\"YES\", \"NO\", \"YES\", \"NO\"]"
      ],
      "execution_count": 0,
      "outputs": []
    },
    {
      "cell_type": "code",
      "metadata": {
        "id": "EWVLLSw8O4Fm",
        "colab_type": "code",
        "outputId": "9a262ad7-7400-4f56-e822-3c044f7048fa",
        "colab": {
          "base_uri": "https://localhost:8080/",
          "height": 86
        }
      },
      "source": [
        "for i in years:\n",
        "  task_01_func(i)"
      ],
      "execution_count": 0,
      "outputs": [
        {
          "output_type": "stream",
          "text": [
            "YES\n",
            "NO\n",
            "YES\n",
            "NO\n"
          ],
          "name": "stdout"
        }
      ]
    },
    {
      "cell_type": "markdown",
      "metadata": {
        "id": "qwaPffPbMCNc",
        "colab_type": "text"
      },
      "source": [
        "__Задание 2 (0.5 балла):__ Дано натуральное число. Найдите число знаков в его десятичной записи. Предложите как минимум два различных решения."
      ]
    },
    {
      "cell_type": "code",
      "metadata": {
        "id": "MVjKYRZ-MCNe",
        "colab_type": "code",
        "colab": {}
      },
      "source": [
        "def task_02_func_1(number):\n",
        "  if number <=0:\n",
        "    print('Number must be positive integer!')\n",
        "  else:\n",
        "    return len(list(str(number)))\n",
        "\n",
        "def task_02_func_2(number):\n",
        "  if number <=0:\n",
        "    print('Number must be positive integer!')\n",
        "  else:\n",
        "    counter = 0\n",
        "    while number:\n",
        "      number = (number - number % 10)/10\n",
        "      counter+=1\n",
        "    return counter\n",
        "\n",
        "\n"
      ],
      "execution_count": 0,
      "outputs": []
    },
    {
      "cell_type": "code",
      "metadata": {
        "id": "l-14TWh_SoFv",
        "colab_type": "code",
        "outputId": "21529250-06a7-4922-8d4d-bfccb98ec211",
        "colab": {
          "base_uri": "https://localhost:8080/",
          "height": 225
        }
      },
      "source": [
        "numbers = [1,10,15,145,1000, 12345678]\n",
        "labels = [1,2,2,3,4,8]\n",
        "for i in enumerate(numbers):\n",
        "  if task_02_func_2(i[1]) != labels[i[0]]:\n",
        "    print('task_02_func_2 is not correct! Right answer:{}, your answer:{}'.format(labels[i[0]], task_02_func_2(i[1])))\n",
        "  else:\n",
        "    print('Correct answer: {}'.format(task_02_func_2(i[1])))\n",
        "  if task_02_func_1(i[1]) != labels[i[0]]:\n",
        "    print('task_02_func_1 is not correct! Right answer:{}, your answer:{}'.format(labels[i[0]], task_02_func_1(i[1])))\n",
        "  else:\n",
        "    print('Correct answer: {}'.format(task_02_func_2(i[1])))"
      ],
      "execution_count": 0,
      "outputs": [
        {
          "output_type": "stream",
          "text": [
            "Correct answer: 1\n",
            "Correct answer: 1\n",
            "Correct answer: 2\n",
            "Correct answer: 2\n",
            "Correct answer: 2\n",
            "Correct answer: 2\n",
            "Correct answer: 3\n",
            "Correct answer: 3\n",
            "Correct answer: 4\n",
            "Correct answer: 4\n",
            "Correct answer: 8\n",
            "Correct answer: 8\n"
          ],
          "name": "stdout"
        }
      ]
    },
    {
      "cell_type": "markdown",
      "metadata": {
        "id": "dPlZgga9MCNn",
        "colab_type": "text"
      },
      "source": [
        "__Задание 3 (0.5 балла):__ По данному натуральном n вычислите сумму 1!+2!+3!+...+n!. В решении этой задачи с помощью циклов можно использовать только один цикл. Предложите как минимум два различных решения."
      ]
    },
    {
      "cell_type": "code",
      "metadata": {
        "id": "Y4tmTWFvMCNp",
        "colab_type": "code",
        "colab": {}
      },
      "source": [
        "def task_03_func_1(n):\n",
        "  numbers = np.arange(1,n+1)\n",
        "  sum_list = [math.factorial(x) for x in numbers]\n",
        "  res = np.sum(sum_list)\n",
        "\n",
        "  return res\n",
        "\n",
        "def task_03_func_2(n):\n",
        "  numbers = np.arange(1,n+1)\n",
        "  f = lambda x, y: x*y\n",
        "  l = list(accumulate(numbers, f))\n",
        "  res = np.sum(l)\n",
        "\n",
        "  return res"
      ],
      "execution_count": 0,
      "outputs": []
    },
    {
      "cell_type": "code",
      "metadata": {
        "id": "NNQdrJ_2tIKu",
        "colab_type": "code",
        "outputId": "75dd34fc-33eb-4c81-c44f-434a42453969",
        "colab": {
          "base_uri": "https://localhost:8080/",
          "height": 69
        }
      },
      "source": [
        "print(task_03_func_1(1), task_03_func_2(1))\n",
        "print(task_03_func_1(10), task_03_func_2(10))\n",
        "print(task_03_func_1(12), task_03_func_2(12))"
      ],
      "execution_count": 0,
      "outputs": [
        {
          "output_type": "stream",
          "text": [
            "1 1\n",
            "4037913 4037913\n",
            "522956313 522956313\n"
          ],
          "name": "stdout"
        }
      ]
    },
    {
      "cell_type": "markdown",
      "metadata": {
        "id": "R0xp3FnhMCNx",
        "colab_type": "text"
      },
      "source": [
        "__Задание 4 (0.5 балла):__ Определить, является ли введённая строка палиндромом (то есть одинаково читается с обеих сторон). Предложите как минимум три различных решения."
      ]
    },
    {
      "cell_type": "code",
      "metadata": {
        "id": "BzTgXCv1MCN2",
        "colab_type": "code",
        "colab": {}
      },
      "source": [
        "def task_04_func_1(s):\n",
        "  if len(s) <= 1:\n",
        "    return True\n",
        "  else:\n",
        "    if list(accumulate(reversed(s)))[-1] == s:\n",
        "      return True\n",
        "    else:\n",
        "      return False\n",
        "\n",
        "\n",
        "def task_04_func_2(s):\n",
        "    if len(s) <= 1:\n",
        "      return True\n",
        "    else:\n",
        "      if s[::-1] == s:\n",
        "        return True\n",
        "      else:\n",
        "        return False\n",
        "\n",
        "def task_04_func_3(s):\n",
        "  if (len(s) <= 1):\n",
        "    return True\n",
        "  else:\n",
        "    for i in range(len(s) // 2) :\n",
        "      if s[i] == s[len(s)-i-1]:\n",
        "        pass\n",
        "      else:\n",
        "        return False\n",
        "    return True\n",
        "  \n",
        "\n",
        "\n"
      ],
      "execution_count": 0,
      "outputs": []
    },
    {
      "cell_type": "code",
      "metadata": {
        "id": "yahTlk8MvxEO",
        "colab_type": "code",
        "outputId": "dde76c2e-7930-4a77-9c74-751f3150c570",
        "colab": {
          "base_uri": "https://localhost:8080/",
          "height": 69
        }
      },
      "source": [
        "strings = [\"\", 'e','fghhgf', 'world', 'koook', 'ehoh', 'hohe']\n",
        "labels = [True, True, True, False, True, False, False]\n",
        "\n",
        "answers_1 = [task_04_func_1(x) for x in strings]\n",
        "answers_2 = [task_04_func_2(x) for x in strings]\n",
        "answers_3 = [task_04_func_3(x) for x in strings]\n",
        "print(answers_1 == labels)\n",
        "print(answers_2 == labels)\n",
        "print(answers_3 == labels)\n"
      ],
      "execution_count": 0,
      "outputs": [
        {
          "output_type": "stream",
          "text": [
            "True\n",
            "True\n",
            "True\n"
          ],
          "name": "stdout"
        }
      ]
    },
    {
      "cell_type": "markdown",
      "metadata": {
        "id": "XdPbIZkIMCN-",
        "colab_type": "text"
      },
      "source": [
        "__Задание 5 (1 балл):__ Дан текст в виде строки. Напишите функцию, которая возвращает словарь, где ключами являются уникальные слова из этого текста, а значениями - число раз, которое данное слово встретилось в тексте. Считать, что слова разделяются пробелами. Предложите как минимум два различных решения."
      ]
    },
    {
      "cell_type": "code",
      "metadata": {
        "id": "9FtkJ8u8MCOA",
        "colab_type": "code",
        "colab": {}
      },
      "source": [
        "#задать вопрос про язык и знаки препинания\n",
        "\n",
        "def task_05_func_1(s):\n",
        "    s = s.lower()\n",
        "    s_cleaned = re.sub(\"[!-?]\",\"\", s)\n",
        "    s_words = s_cleaned.split()\n",
        "    dictionary = {}\n",
        "    for word in s_words:\n",
        "      if word != '':\n",
        "        if not word in dictionary:\n",
        "          dictionary[word] = 0\n",
        "        dictionary[word]+=1\n",
        "    return dictionary\n",
        "\n",
        "def task_05_func_2(s):\n",
        "  s = s.lower()\n",
        "  s_cleaned = re.sub(\"[!-?]\",\"\", s)\n",
        "  s_words = s_cleaned.split()\n",
        "  s_words = [x for x in s_words if x != '']\n",
        "  return Counter(s_words).items()\n"
      ],
      "execution_count": 0,
      "outputs": []
    },
    {
      "cell_type": "code",
      "metadata": {
        "id": "nd_0aLoQFsC3",
        "colab_type": "code",
        "outputId": "16aac973-eb23-4be0-e934-225a92ddfb9e",
        "colab": {
          "base_uri": "https://localhost:8080/",
          "height": 382
        }
      },
      "source": [
        "import this\n",
        "\n",
        "strings = [\"The Zen 933 of Python, by Tim Peters.\",\"Beautiful**--0))0010 is better than ugly\",\"Explicit is better than implicit.\",\n",
        "          \"Simple is better 442## than complex.\",\"Complex is better than complicated.\", \n",
        "           \"Namespaces are one honking great idea -- let's do more of those!\",\n",
        "           \"If I were you I would be ..\"]"
      ],
      "execution_count": 0,
      "outputs": [
        {
          "output_type": "stream",
          "text": [
            "The Zen of Python, by Tim Peters\n",
            "\n",
            "Beautiful is better than ugly.\n",
            "Explicit is better than implicit.\n",
            "Simple is better than complex.\n",
            "Complex is better than complicated.\n",
            "Flat is better than nested.\n",
            "Sparse is better than dense.\n",
            "Readability counts.\n",
            "Special cases aren't special enough to break the rules.\n",
            "Although practicality beats purity.\n",
            "Errors should never pass silently.\n",
            "Unless explicitly silenced.\n",
            "In the face of ambiguity, refuse the temptation to guess.\n",
            "There should be one-- and preferably only one --obvious way to do it.\n",
            "Although that way may not be obvious at first unless you're Dutch.\n",
            "Now is better than never.\n",
            "Although never is often better than *right* now.\n",
            "If the implementation is hard to explain, it's a bad idea.\n",
            "If the implementation is easy to explain, it may be a good idea.\n",
            "Namespaces are one honking great idea -- let's do more of those!\n"
          ],
          "name": "stdout"
        }
      ]
    },
    {
      "cell_type": "code",
      "metadata": {
        "id": "JNO5Rr7xLOR2",
        "colab_type": "code",
        "outputId": "40b0addd-408c-437b-b8e7-a12f9ea71152",
        "colab": {
          "base_uri": "https://localhost:8080/",
          "height": 260
        }
      },
      "source": [
        "for s in strings:\n",
        "  d_1 = task_05_func_1(s)\n",
        "  d_2 = task_05_func_2(s)\n",
        "  print(d_1)\n",
        "  print(d_2)"
      ],
      "execution_count": 0,
      "outputs": [
        {
          "output_type": "stream",
          "text": [
            "{'the': 1, 'zen': 1, 'of': 1, 'python': 1, 'by': 1, 'tim': 1, 'peters': 1}\n",
            "dict_items([('the', 1), ('zen', 1), ('of', 1), ('python', 1), ('by', 1), ('tim', 1), ('peters', 1)])\n",
            "{'beautiful': 1, 'is': 1, 'better': 1, 'than': 1, 'ugly': 1}\n",
            "dict_items([('beautiful', 1), ('is', 1), ('better', 1), ('than', 1), ('ugly', 1)])\n",
            "{'explicit': 1, 'is': 1, 'better': 1, 'than': 1, 'implicit': 1}\n",
            "dict_items([('explicit', 1), ('is', 1), ('better', 1), ('than', 1), ('implicit', 1)])\n",
            "{'simple': 1, 'is': 1, 'better': 1, 'than': 1, 'complex': 1}\n",
            "dict_items([('simple', 1), ('is', 1), ('better', 1), ('than', 1), ('complex', 1)])\n",
            "{'complex': 1, 'is': 1, 'better': 1, 'than': 1, 'complicated': 1}\n",
            "dict_items([('complex', 1), ('is', 1), ('better', 1), ('than', 1), ('complicated', 1)])\n",
            "{'namespaces': 1, 'are': 1, 'one': 1, 'honking': 1, 'great': 1, 'idea': 1, 'lets': 1, 'do': 1, 'more': 1, 'of': 1, 'those': 1}\n",
            "dict_items([('namespaces', 1), ('are', 1), ('one', 1), ('honking', 1), ('great', 1), ('idea', 1), ('lets', 1), ('do', 1), ('more', 1), ('of', 1), ('those', 1)])\n",
            "{'if': 1, 'i': 2, 'were': 1, 'you': 1, 'would': 1, 'be': 1}\n",
            "dict_items([('if', 1), ('i', 2), ('were', 1), ('you', 1), ('would', 1), ('be', 1)])\n"
          ],
          "name": "stdout"
        }
      ]
    },
    {
      "cell_type": "markdown",
      "metadata": {
        "id": "O7vWtRcOMCOI",
        "colab_type": "text"
      },
      "source": [
        "__Задание 6 (1 балл):__ Напишите функцию, которая принимает на вход строку и символ и возвращает:\n",
        "\n",
        "- если символ встретился в строке один раз - кортеж (индекс вхождения, None);\n",
        "- если два и более раз - кортеж (индекс первого вхождения, индекс последнего вхождения);\n",
        "- если ни разу - кортеж (None, None).\n",
        "\n",
        "Запрещается делать более одного прохода по каждому элементу строки."
      ]
    },
    {
      "cell_type": "code",
      "metadata": {
        "id": "nFafZiXSMCOJ",
        "colab_type": "code",
        "colab": {}
      },
      "source": [
        "def task_06_func(input_str, input_char):\n",
        "  l = []\n",
        "  for i in enumerate(list(input_str)):\n",
        "    if i[1] == input_char:\n",
        "      l.append(i[0])\n",
        "\n",
        "  if len(l) == 1:\n",
        "    return (l[0], None)\n",
        "  if len(l)  == 0:\n",
        "    return (None,None)\n",
        "  if len(l)>1:\n",
        "    return (l[0], l[-1])"
      ],
      "execution_count": 0,
      "outputs": []
    },
    {
      "cell_type": "code",
      "metadata": {
        "id": "w6C6DK2vQdm-",
        "colab_type": "code",
        "outputId": "9c3fcb35-7fe8-4812-92be-c64108cc51ee",
        "colab": {
          "base_uri": "https://localhost:8080/",
          "height": 225
        }
      },
      "source": [
        "strings = [[\"Simple is better than complex.\", 'S'],[\"D\", \"D\"], [\"The Zen of Python, by Tim Peters.\", ' '], [\"Beautiful is better than ugly\", 'b'], \n",
        "           ['Complex, is , better than complicated.', ',' ], [\"Explicit is better than implicit.\", \"y\"]]\n",
        "for i in strings:\n",
        "  if i[0].find(i[1]) == i[0].rfind(i[1]):\n",
        "\n",
        "    if i[0].rfind(i[1]) == -1:\n",
        "      print(None,None)\n",
        "    else:\n",
        "      print(i[0].find(i[1]), None)\n",
        "  else:\n",
        "    print(i[0].find(i[1]), i[0].rfind(i[1]))\n",
        "  print(task_06_func(i[0],i[1]))"
      ],
      "execution_count": 0,
      "outputs": [
        {
          "output_type": "stream",
          "text": [
            "0 None\n",
            "(0, None)\n",
            "0 None\n",
            "(0, None)\n",
            "3 25\n",
            "(3, 25)\n",
            "13 None\n",
            "(13, None)\n",
            "7 12\n",
            "(7, 12)\n",
            "None None\n",
            "(None, None)\n"
          ],
          "name": "stdout"
        }
      ]
    },
    {
      "cell_type": "markdown",
      "metadata": {
        "id": "45zeg3DmMCOR",
        "colab_type": "text"
      },
      "source": [
        "__Задание 7 (1 балл):__ Дан список целых чисел. Напишите функцию, которая возвращает копию этого списка, из которой удалены отрицательные числа, а все прочие числа возведены в квадрат. Также возвращаемая последовательность должна быть отсортирована по убыванию. Предложите как минимум три различных решения."
      ]
    },
    {
      "cell_type": "code",
      "metadata": {
        "id": "Ib4NIV_RMCOT",
        "colab_type": "code",
        "colab": {}
      },
      "source": [
        "def task_07_func_1(lst):\n",
        "\n",
        "  list_copy = np.array(lst.copy())\n",
        "  list_copy = list_copy[list_copy>=0]\n",
        "  res = [x**2 for x in list_copy]\n",
        "\n",
        "  return sorted(res, reverse = True)\n",
        "\n",
        "def task_07_func_2(lst):\n",
        "\n",
        "  list_copy = lst.copy()\n",
        "  list_noneg = [x for x in list_copy if x>=0]\n",
        "  list_noneg = sorted(list_noneg, reverse=True)\n",
        "\n",
        "  return list(map(lambda x:x**2, list_noneg))\n",
        "\n",
        "def task_07_func_3(lst):\n",
        "\n",
        "  list_copy = lst.copy()\n",
        "  non_neg = list(filter(lambda x: x >=0, list_copy))\n",
        "  non_neg_sorted = sorted(non_neg, reverse=True)\n",
        "  res= list(map(lambda x:x**2, non_neg_sorted))\n",
        "\n",
        "  return res\n"
      ],
      "execution_count": 0,
      "outputs": []
    },
    {
      "cell_type": "code",
      "metadata": {
        "id": "_KgJ6DUP3K6h",
        "colab_type": "code",
        "outputId": "8d401712-4d1c-44d1-858d-9d6ed43a985f",
        "colab": {
          "base_uri": "https://localhost:8080/",
          "height": 173
        }
      },
      "source": [
        "lsts = [[0,-9,0,0,1,2,3,-3,6], [1,1,1,1], [0,1,2,3,4]]\n",
        "labels = [[36,9,4,1,0,0,0],[1,1,1,1],[16,9,4,1,0]]\n",
        "\n",
        "for i in enumerate(lsts):\n",
        "  print(task_07_func_1(i[1]) == labels[i[0]])\n",
        "  print(task_07_func_2(i[1]) == labels[i[0]])\n",
        "  print(task_07_func_3(i[1]) == labels[i[0]])"
      ],
      "execution_count": 0,
      "outputs": [
        {
          "output_type": "stream",
          "text": [
            "True\n",
            "True\n",
            "True\n",
            "True\n",
            "True\n",
            "True\n",
            "True\n",
            "True\n",
            "True\n"
          ],
          "name": "stdout"
        }
      ]
    },
    {
      "cell_type": "markdown",
      "metadata": {
        "id": "ixpDIiSqMCOa",
        "colab_type": "text"
      },
      "source": [
        "__Задание 8 (1 балл):__ Напишите функцию, которая принимает на вход список кортежей одинаковой длины и индекс `index` элемента в кортеже и возвращает генератор, итерирование по которому позволит получит все кортежи входного списка, отсортированные по убыванию элементов этих кортежей с индексом `index`."
      ]
    },
    {
      "cell_type": "code",
      "metadata": {
        "id": "2U4XBv4PMCOc",
        "colab_type": "code",
        "colab": {}
      },
      "source": [
        "def task_08_func(lst, index):\n",
        "  sort = sorted(lst, key = lambda x: x[index])\n",
        "  return iter(sort)"
      ],
      "execution_count": 0,
      "outputs": []
    },
    {
      "cell_type": "code",
      "metadata": {
        "id": "djpAnPxPEvk8",
        "colab_type": "code",
        "outputId": "cf90b484-c6aa-4b73-d1cb-87724ef6bbc7",
        "colab": {
          "base_uri": "https://localhost:8080/",
          "height": 69
        }
      },
      "source": [
        "for i in task_08_func([(1,0,3,4), (0,0,0,0), (0,-1,8,7)], 1):\n",
        "  print(i)"
      ],
      "execution_count": 0,
      "outputs": [
        {
          "output_type": "stream",
          "text": [
            "(0, -1, 8, 7)\n",
            "(1, 0, 3, 4)\n",
            "(0, 0, 0, 0)\n"
          ],
          "name": "stdout"
        }
      ]
    },
    {
      "cell_type": "markdown",
      "metadata": {
        "id": "Ek4TTZ9TMCOk",
        "colab_type": "text"
      },
      "source": [
        "__Задание 9 (1 балл):__ Напишите функцию, которая получает на вход натуральное число `n` и выводит первые `n` строк треугольника Паскаля."
      ]
    },
    {
      "cell_type": "markdown",
      "metadata": {
        "id": "nve2jDQ4LeMt",
        "colab_type": "text"
      },
      "source": [
        "Написала, оринтируясь на код на [этом](https://www.cyberforum.ru/python-beginners/thread2164097.html) сайте."
      ]
    },
    {
      "cell_type": "code",
      "metadata": {
        "id": "Fk_a8RLZMCOl",
        "colab_type": "code",
        "colab": {}
      },
      "source": [
        "def cur_row(n):\n",
        "    row=[]\n",
        "    for i in range(n):\n",
        "        if i==0 or i==n-1:\n",
        "            row.append(1)\n",
        "        else:\n",
        "            c_row=cur_row(n-1)\n",
        "            row.append(c_row[i-1]+c_row[i])\n",
        "    return row\n",
        " \n",
        "def task_09_func(m):\n",
        "    result=list()\n",
        "    for i in range(m):\n",
        "        result.append(cur_row(i+1))\n",
        "    for j in result:\n",
        "        print(j)\n",
        "      \n",
        "\n",
        "    \n"
      ],
      "execution_count": 0,
      "outputs": []
    },
    {
      "cell_type": "code",
      "metadata": {
        "id": "nZ7ncWTMWLYk",
        "colab_type": "code",
        "outputId": "f2ff4d26-1231-4026-9953-a731085d2b55",
        "colab": {
          "base_uri": "https://localhost:8080/",
          "height": 86
        }
      },
      "source": [
        "task_09_func(4)"
      ],
      "execution_count": 0,
      "outputs": [
        {
          "output_type": "stream",
          "text": [
            "[1]\n",
            "[1, 1]\n",
            "[1, 2, 1]\n",
            "[1, 3, 3, 1]\n"
          ],
          "name": "stdout"
        }
      ]
    },
    {
      "cell_type": "markdown",
      "metadata": {
        "id": "-w5zS1yEMCOt",
        "colab_type": "text"
      },
      "source": [
        "__Задание 10 (1 балл):__ Напишите функцию, которая принимает на вход абсолютный путь к директории и две строки с расширениями файлов. В результате её выполнения у всех файлов в указанной директории, имеющих первое расширение, расширение должно измениться на второе. В конце работы функция должна возвращать кортеж из двух элементов:\n",
        "\n",
        "1. сколько всего в директории файлов (именно файлов, не директорий);\n",
        "2. у скольки из них расширение было изменено.\n",
        "\n",
        "Допускается только один проход по каждому файлу из указанной директории."
      ]
    },
    {
      "cell_type": "code",
      "metadata": {
        "id": "ZobASuVHMCOv",
        "colab_type": "code",
        "colab": {}
      },
      "source": [
        "def task_10_func(dir_path, prev_extension, next_extension):\n",
        "  os.chdir(dir_path)\n",
        "  lst = os.listdir()\n",
        "  counter_1 = 0\n",
        "  counter_2 = 0\n",
        "  for i in lst:\n",
        "    if os.path.isfile(i):\n",
        "      counter_1 += 1\n",
        "      filename, file_extension = os.path.splitext(i)\n",
        "      if file_extension == prev_extension:\n",
        "        counter_2 += 1\n",
        "        os.rename(filename+prev_extension, filename+next_extension)\n",
        "  return (counter_1,counter_2)"
      ],
      "execution_count": 0,
      "outputs": []
    },
    {
      "cell_type": "code",
      "metadata": {
        "id": "BbwjwBQysyvf",
        "colab_type": "code",
        "colab": {}
      },
      "source": [
        "os.chdir('/root')\n",
        "os.mkdir('Test')\n",
        "os.chdir('Test')"
      ],
      "execution_count": 0,
      "outputs": []
    },
    {
      "cell_type": "code",
      "metadata": {
        "id": "7863RATSxyu-",
        "colab_type": "code",
        "outputId": "a3c20092-32cf-47f2-ebcb-ef039fc582c6",
        "colab": {
          "base_uri": "https://localhost:8080/",
          "height": 34
        }
      },
      "source": [
        "pwd"
      ],
      "execution_count": 0,
      "outputs": [
        {
          "output_type": "execute_result",
          "data": {
            "text/plain": [
              "'/root/Test'"
            ]
          },
          "metadata": {
            "tags": []
          },
          "execution_count": 25
        }
      ]
    },
    {
      "cell_type": "code",
      "metadata": {
        "id": "6BK33vB40Usc",
        "colab_type": "code",
        "colab": {}
      },
      "source": [
        "f = open('test.py', 'w')\n",
        "s = open('example.pdf', 'w')\n",
        "d = open('exa.txt', 'w')\n",
        "os.chdir('/root')"
      ],
      "execution_count": 0,
      "outputs": []
    },
    {
      "cell_type": "code",
      "metadata": {
        "id": "TCwtjKt4zX7z",
        "colab_type": "code",
        "outputId": "23c98782-738f-4733-c8b4-fb2ace14c803",
        "colab": {
          "base_uri": "https://localhost:8080/",
          "height": 34
        }
      },
      "source": [
        "task_10_func('/root/Test', '.pdf', '.txt')"
      ],
      "execution_count": 0,
      "outputs": [
        {
          "output_type": "execute_result",
          "data": {
            "text/plain": [
              "(3, 1)"
            ]
          },
          "metadata": {
            "tags": []
          },
          "execution_count": 27
        }
      ]
    },
    {
      "cell_type": "code",
      "metadata": {
        "id": "suC9SXolxqJl",
        "colab_type": "code",
        "outputId": "6716fa5a-0446-4238-86d7-dff68acd8f62",
        "colab": {
          "base_uri": "https://localhost:8080/",
          "height": 34
        }
      },
      "source": [
        "os.listdir()"
      ],
      "execution_count": 0,
      "outputs": [
        {
          "output_type": "execute_result",
          "data": {
            "text/plain": [
              "['example.txt', 'exa.txt', 'test.py']"
            ]
          },
          "metadata": {
            "tags": []
          },
          "execution_count": 28
        }
      ]
    },
    {
      "cell_type": "markdown",
      "metadata": {
        "id": "iuY5PSL9MCO1",
        "colab_type": "text"
      },
      "source": [
        "__Задание 11 (1 балл):__ Описать функцию, которая принимает на вход два списка и возвращает список уникальных элементов, которые есть в первом входном списке и отсутствуют во втором. Запрещается использовать циклы и списковые включения/генераторы списков."
      ]
    },
    {
      "cell_type": "code",
      "metadata": {
        "id": "XpAFLwBoMCO4",
        "colab_type": "code",
        "colab": {}
      },
      "source": [
        "def task_11_func(first_list, second_list):\n",
        "    f = set(first_list)\n",
        "    s = set(second_list)\n",
        "    return list(f.difference(s))"
      ],
      "execution_count": 0,
      "outputs": []
    },
    {
      "cell_type": "code",
      "metadata": {
        "id": "pbc_XMGcNW1N",
        "colab_type": "code",
        "outputId": "4f16c3b5-a329-4fbf-fe19-2eac7d28a615",
        "colab": {
          "base_uri": "https://localhost:8080/",
          "height": 104
        }
      },
      "source": [
        "test = [([],[]), ([], [1,1,1]), ([1,1,1],[1,1,1]), ([1,3,45], [1,2,4]), ([1,2,3], [5,6,7])]\n",
        "for i in test:\n",
        "  print(task_11_func(i[0], i[1]))"
      ],
      "execution_count": 0,
      "outputs": [
        {
          "output_type": "stream",
          "text": [
            "[]\n",
            "[]\n",
            "[]\n",
            "[3, 45]\n",
            "[1, 2, 3]\n"
          ],
          "name": "stdout"
        }
      ]
    },
    {
      "cell_type": "markdown",
      "metadata": {
        "id": "1YKUHDd6MCO-",
        "colab_type": "text"
      },
      "source": [
        "__Задание 12 (1 балл):__ Напишите функцию, которая получает на вход путь к файлу, в котором в каждой строке записано одно вещественное число, а также путь к выходному файлу. Функция должна прочитать содержимое файла, игнорировать строки с нечётными индексами, а строки с чётными индексами должна увеличить на минимальное из чисел, содержащихся в этом файле. Полученные числа нужно записать в выходной файл с точностью 5 знаков после запятой.\n",
        "\n",
        "Требуется сделать не более двух проходов по входному файлу, расход памяти на протяжении работы должен быть O(1) (то есть никак не зависеть от числа строк во входном файле)."
      ]
    },
    {
      "cell_type": "code",
      "metadata": {
        "id": "MWMFO2moMCPB",
        "colab_type": "code",
        "colab": {}
      },
      "source": [
        "#считаем, что индексирование с 0\n",
        "def task_12_func(input_path, output_path):\n",
        "  minimum = sys.float_info.max\n",
        "  out = open(output_path, 'a')\n",
        "  f = open(input_path, 'r')\n",
        "  for line in f.readlines():\n",
        "    if float(line)<minimum:\n",
        "      minimum = float(line)\n",
        "  f.close()\n",
        "  f = open(input_path, 'r')\n",
        "  for line in enumerate(f):\n",
        "    if line[0]%2 == 0:\n",
        "      out.write(str(round(float(line[1])*minimum, 5))+'\\n')\n",
        "\n",
        "  f.close()\n",
        "  out.close()"
      ],
      "execution_count": 0,
      "outputs": []
    },
    {
      "cell_type": "code",
      "metadata": {
        "id": "BVkZZvqcO-1i",
        "colab_type": "code",
        "colab": {}
      },
      "source": [
        "f = open('input.txt', 'w')\n",
        "lst = [1.111111111,-2.22222222,3.333333,4.44444,5.9999] #minimum = -2.22222222\n",
        "for i in lst:\n",
        "  f.write(str(i)+'\\n')\n",
        "f.close()\n",
        "task_12_func('input.txt', 'out.txt')\n"
      ],
      "execution_count": 0,
      "outputs": []
    },
    {
      "cell_type": "code",
      "metadata": {
        "id": "QbjrOdQQP_N7",
        "colab_type": "code",
        "outputId": "98f9f5f0-0e8d-444d-a0b3-d227377f2dcd",
        "colab": {
          "base_uri": "https://localhost:8080/",
          "height": 121
        }
      },
      "source": [
        "out = open('out.txt', 'r')\n",
        "for line in out:\n",
        "  print(line)"
      ],
      "execution_count": 0,
      "outputs": [
        {
          "output_type": "stream",
          "text": [
            "-2.46914\n",
            "\n",
            "-7.40741\n",
            "\n",
            "-13.33311\n",
            "\n"
          ],
          "name": "stdout"
        }
      ]
    },
    {
      "cell_type": "markdown",
      "metadata": {
        "id": "a8XAI9xYMCPG",
        "colab_type": "text"
      },
      "source": [
        "__Задание 13 (1 балл):__ Написать функцию, которая принимает на вход число `n`, которое может быть либо натуральным, либо -1, и возвращает генератор чисел Фиббоначи. Если входной параметр равен натуральному числу, то генератор должен выдавать последовательно числа Фиббоначи до `n`-го. Если `n` равно -1, то генератор должен быть бесконечным."
      ]
    },
    {
      "cell_type": "code",
      "metadata": {
        "id": "hvUaXYcbMCPH",
        "colab_type": "code",
        "colab": {}
      },
      "source": [
        "def task_13_func(n):\n",
        "  \n",
        "  fib1 = 0\n",
        "  fib2 = 1 \n",
        "  if n>0:   \n",
        "    while n > 0:\n",
        "\n",
        "      yield fib2\n",
        "      fib1, fib2 = fib2, fib1 + fib2\n",
        "      n -= 1\n",
        "\n",
        "  else:\n",
        "    while True:\n",
        "      yield fib2\n",
        "      fib1, fib2 = fib2, fib1 + fib2\n"
      ],
      "execution_count": 0,
      "outputs": []
    },
    {
      "cell_type": "code",
      "metadata": {
        "id": "zTFoUwja5FA-",
        "colab_type": "code",
        "outputId": "f28162c6-23c0-4fb4-8369-1d11b10be646",
        "colab": {
          "base_uri": "https://localhost:8080/",
          "height": 156
        }
      },
      "source": [
        "for i in task_13_func(8):\n",
        "  print(i)"
      ],
      "execution_count": 0,
      "outputs": [
        {
          "output_type": "stream",
          "text": [
            "1\n",
            "1\n",
            "2\n",
            "3\n",
            "5\n",
            "8\n",
            "13\n",
            "21\n"
          ],
          "name": "stdout"
        }
      ]
    },
    {
      "cell_type": "code",
      "metadata": {
        "id": "Bf-wwRfp8ap7",
        "colab_type": "code",
        "outputId": "f82fffdc-0ecb-4b09-f3bd-5ecb65355b0f",
        "colab": {
          "base_uri": "https://localhost:8080/",
          "height": 428
        }
      },
      "source": [
        "for i in task_13_func(-1):\n",
        "  time.sleep(1)\n",
        "  print(i)"
      ],
      "execution_count": 0,
      "outputs": [
        {
          "output_type": "stream",
          "text": [
            "1\n",
            "1\n",
            "2\n",
            "3\n",
            "5\n",
            "8\n",
            "13\n",
            "21\n",
            "34\n",
            "55\n",
            "89\n",
            "144\n",
            "233\n"
          ],
          "name": "stdout"
        },
        {
          "output_type": "error",
          "ename": "KeyboardInterrupt",
          "evalue": "ignored",
          "traceback": [
            "\u001b[0;31m---------------------------------------------------------------------------\u001b[0m",
            "\u001b[0;31mKeyboardInterrupt\u001b[0m                         Traceback (most recent call last)",
            "\u001b[0;32m<ipython-input-12-32357a8d2af3>\u001b[0m in \u001b[0;36m<module>\u001b[0;34m()\u001b[0m\n\u001b[1;32m      1\u001b[0m \u001b[0;32mfor\u001b[0m \u001b[0mi\u001b[0m \u001b[0;32min\u001b[0m \u001b[0mtask_13_func\u001b[0m\u001b[0;34m(\u001b[0m\u001b[0;34m-\u001b[0m\u001b[0;36m1\u001b[0m\u001b[0;34m)\u001b[0m\u001b[0;34m:\u001b[0m\u001b[0;34m\u001b[0m\u001b[0;34m\u001b[0m\u001b[0m\n\u001b[0;32m----> 2\u001b[0;31m   \u001b[0mtime\u001b[0m\u001b[0;34m.\u001b[0m\u001b[0msleep\u001b[0m\u001b[0;34m(\u001b[0m\u001b[0;36m1\u001b[0m\u001b[0;34m)\u001b[0m\u001b[0;34m\u001b[0m\u001b[0;34m\u001b[0m\u001b[0m\n\u001b[0m\u001b[1;32m      3\u001b[0m   \u001b[0mprint\u001b[0m\u001b[0;34m(\u001b[0m\u001b[0mi\u001b[0m\u001b[0;34m)\u001b[0m\u001b[0;34m\u001b[0m\u001b[0;34m\u001b[0m\u001b[0m\n",
            "\u001b[0;31mKeyboardInterrupt\u001b[0m: "
          ]
        }
      ]
    },
    {
      "cell_type": "markdown",
      "metadata": {
        "id": "rctRyZCIMCPN",
        "colab_type": "text"
      },
      "source": [
        "__Задание 14 (1 балл):__ Написать функцию, которая принимает на вход произвольный объект, проверяет его тип, и для целого числа возвращает список всех магических методов объекта, начинающихся с `__a`, для строк - с `__s`. Для всех прочих типов должен возвращаться список немагических методов. В задании запрещается использовать циклы и списковые включения/генераторы списков."
      ]
    },
    {
      "cell_type": "code",
      "metadata": {
        "id": "4jfwWRiEMCPP",
        "colab_type": "code",
        "colab": {}
      },
      "source": [
        "def task_14_func(n):\n",
        "\n",
        "  reint = re.compile('__a+\\w+')\n",
        "  restr = re.compile('__s+\\w+')\n",
        "  reg = re.compile(\"[^'__]\\w+\")\n",
        "\n",
        "  if type(n) == int:\n",
        "      return reint.findall(' '.join(dir(int)))\n",
        "  else:\n",
        "    if type(n) == str:\n",
        "      return restr.findall(' '.join(dir(str)))\n",
        "    else:\n",
        "      f= type(n)\n",
        "      a = ' '.join(dir(f))\n",
        "      index = a.rfind(\"__\")\n",
        "      return reg.findall(a[index:])\n",
        "\n"
      ],
      "execution_count": 0,
      "outputs": []
    },
    {
      "cell_type": "code",
      "metadata": {
        "id": "IwOEE1kcRxJ7",
        "colab_type": "code",
        "outputId": "276f29e7-47a5-46e8-a5b8-118192eae1da",
        "colab": {
          "base_uri": "https://localhost:8080/",
          "height": 104
        }
      },
      "source": [
        "for i in [2, 'trfg', [],{}, None]:\n",
        "  print(task_14_func(i))"
      ],
      "execution_count": 19,
      "outputs": [
        {
          "output_type": "stream",
          "text": [
            "['__abs__', '__add__', '__and__']\n",
            "['__setattr__', '__sizeof__', '__str__', '__subclasshook__']\n",
            "[' append', ' clear', ' copy', ' count', ' extend', ' index', ' insert', ' pop', ' remove', ' reverse', ' sort']\n",
            "[' clear', ' copy', ' fromkeys', ' get', ' items', ' keys', ' pop', ' popitem', ' setdefault', ' update', ' values']\n",
            "[]\n"
          ],
          "name": "stdout"
        }
      ]
    },
    {
      "cell_type": "markdown",
      "metadata": {
        "id": "iyswMbvYMCPV",
        "colab_type": "text"
      },
      "source": [
        "__Задание 15 (1.5 балла):__ Написать функцию, которая во входной строке заменяет вхождения всех английских заглавных букв на их номер в таблице ASCII, затем производит сплит по минимальной из цифр строки. Предложите как минимум два различных решения, одно из которых не должно использовать циклы. При использовании циклов допускается не более двух проходов по строке."
      ]
    },
    {
      "cell_type": "code",
      "metadata": {
        "id": "l--5APmUMCPW",
        "colab_type": "code",
        "colab": {}
      },
      "source": [
        "def task_15_func_1(n):\n",
        "  s = []\n",
        "  for i in n:\n",
        "    if re.match('^[A-Z]$', i):\n",
        "      s.extend(str(ord(i)))\n",
        "      n = n.replace(i,str(ord(i)), 1)\n",
        "    else:\n",
        "      if re.match('^[0-9]$', i):\n",
        "        s.append(i)\n",
        "\n",
        "  num = [int(x) for x in s]\n",
        "  if len(num) == 0:\n",
        "    return [n]\n",
        "  else:\n",
        "    return(n.split(str(min(num))))"
      ],
      "execution_count": 0,
      "outputs": []
    },
    {
      "cell_type": "code",
      "metadata": {
        "id": "8Ddzi7tKVp4N",
        "colab_type": "code",
        "colab": {}
      },
      "source": [
        "def task_15_func_2(n):\n",
        "  ms = 0\n",
        "  reg = re.compile('[A-Z]{1}')\n",
        "\n",
        "  def check_replace(i):\n",
        "\n",
        "    if reg.match(i):\n",
        "      return str(ord(i))\n",
        "    else:\n",
        "      return i\n",
        "  n = list(map(check_replace, n))\n",
        "  n = ''.join(n)\n",
        "  def digits(i):\n",
        "    if i.isdigit():\n",
        "      return int(i)\n",
        "    else:\n",
        "      return 10\n",
        "  m = list(map(digits,n))\n",
        "  m = min(m)\n",
        "  return n.split(str(m))"
      ],
      "execution_count": 0,
      "outputs": []
    },
    {
      "cell_type": "code",
      "metadata": {
        "id": "sjcmkcDFZ9yb",
        "colab_type": "code",
        "outputId": "d1de3894-bb27-45fe-831d-f78154e14294",
        "colab": {
          "base_uri": "https://localhost:8080/",
          "height": 156
        }
      },
      "source": [
        "print(task_15_func_1('python lang'))\n",
        "print(task_15_func_1(\"RNN LSTM Network\"))\n",
        "print(task_15_func_1('99 Br write Nike'))\n",
        "print(task_15_func_1('YuYuY HHoo'))\n",
        "print(task_15_func_2('python lang'))\n",
        "print(task_15_func_2(\"RNN LSTM Network\"))\n",
        "print(task_15_func_2('99 Br write Nike'))\n",
        "print(task_15_func_2('YuYuY HHoo'))\n"
      ],
      "execution_count": 116,
      "outputs": [
        {
          "output_type": "stream",
          "text": [
            "['python lang']\n",
            "['8', '7878 76838477 78etwork']\n",
            "['99 ', '', 'r write 78ike']\n",
            "['89u89u89 7', '7', 'oo']\n",
            "['python lang']\n",
            "['8', '7878 76838477 78etwork']\n",
            "['99 ', '', 'r write 78ike']\n",
            "['89u89u89 7', '7', 'oo']\n"
          ],
          "name": "stdout"
        }
      ]
    },
    {
      "cell_type": "markdown",
      "metadata": {
        "id": "QxT1JjlcMCPc",
        "colab_type": "text"
      },
      "source": [
        "__Задание 16 (1.5 балла):__ Написать функцию, которая принимает на вход строку и извлекает из неё мобильные телефонные номера с помощью регулярных выражений. Функция должна поддерживать общепринятые варианты написания номера, как со всевозможными разделителями, так и без них (обеспечьте поддержку не менее 10 различных случаев). Возвращаемым значением функции является список всех найденных в строке номеров, если их не было, нужно вернуть пустой список."
      ]
    },
    {
      "cell_type": "code",
      "metadata": {
        "id": "l1JYQHOJMCPe",
        "colab_type": "code",
        "colab": {}
      },
      "source": [
        "def task_16_func(n):\n",
        "  res = []\n",
        "  reg = re.compile('(\\\\+)?[0-9]{1} ?(\\\\-)? ?\\\\(? ?[0-9]{3} ?\\\\)? ?(\\\\-)? ?[0-9]{3} ?(\\\\-)? ?[0-9]{2} ?(\\\\-)? ?[0-9]{2}')\n",
        "  for i in reg.finditer(n):\n",
        "    res.append(i[0])\n",
        "\n",
        "  return res\n"
      ],
      "execution_count": 0,
      "outputs": []
    },
    {
      "cell_type": "code",
      "metadata": {
        "id": "L8NmYzn9dZsD",
        "colab_type": "code",
        "colab": {}
      },
      "source": [
        "exam = [' Call +79998767878, he can help you! You can try +7999 876 78 78 or +7 999 765 76 76', \n",
        "        ' Our number is 8 999 867 09 09 (if you know your order try +7 (000) 989 09 09 and 8(999)8383333', \n",
        "        '8 ( 999 ) 334 00 00-his number!Or you can call to his parents:+7 - 888 - 999 - 00 - 00',\n",
        "        'Filipp Nikitin phone:+7-999-098-09-09 id:9990090900 Kata Sim phone: 8-999-098-09-09 id:9876', ' Museum:+7-(999)-777-09-09 23/09/09 16 30', '+7 - ( 988 ) - 000 - 98 -09']"
      ],
      "execution_count": 0,
      "outputs": []
    },
    {
      "cell_type": "code",
      "metadata": {
        "id": "jFUMPkq3eOso",
        "colab_type": "code",
        "outputId": "2ff3facc-716c-449d-8cc8-f0e766932a72",
        "colab": {
          "base_uri": "https://localhost:8080/",
          "height": 121
        }
      },
      "source": [
        "for i in exam:\n",
        "  print(task_16_func(i))"
      ],
      "execution_count": 0,
      "outputs": [
        {
          "output_type": "stream",
          "text": [
            "['+79998767878', '+7999 876 78 78', '+7 999 765 76 76']\n",
            "['8 999 867 09 09', '+7 (000) 989 09 09', '8(999)8383333']\n",
            "['8 ( 999 ) 334 00 00', '+7 - 888 - 999 - 00 - 00']\n",
            "['+7-999-098-09-09', '8-999-098-09-09']\n",
            "['+7-(999)-777-09-09']\n",
            "['+7 - ( 988 ) - 000 - 98 -09']\n"
          ],
          "name": "stdout"
        }
      ]
    },
    {
      "cell_type": "markdown",
      "metadata": {
        "id": "1uw_97MoMCPi",
        "colab_type": "text"
      },
      "source": [
        "__Задание 17 (5 баллов):__ Опишем бинарное дерево, представленное в виде вложенных кортежей, в каждом узле дерева хранится вещественное число и ссылка на левое и правое поддерево.\n",
        "\n",
        "Пример: для сбалансированного дерева\n",
        "\n",
        "```\n",
        "        v_0\n",
        "       /   \\\n",
        "   v_11     v_12\n",
        "  /  \\       /  \\\n",
        "v_21 v_22  v_23 v_24\n",
        "```\n",
        "\n",
        "представление в виде кортежей будет выглядеть так:\n",
        "\n",
        "```\n",
        "(v_0,\n",
        "    (v_11,\n",
        "        (v_21, None, None),\n",
        "        (v_22, None, None)\n",
        "    ),\n",
        "    (v_12,\n",
        "        (v_23, None, None),\n",
        "        (v_24, None, None)\n",
        "    )\n",
        ")\n",
        "```\n",
        "\n",
        "Необходимо написать функцию, которая принимает на вход бинарное дерево (не обязательно сбалансированное), закодированное описанным способом в виде кортежа, производит его обход в глубину и для каждой листовой вершины вычисляет сумму всех значений от корня до неё включительно. Функция ничего не возвращает, вместо этого она выводит получаемые суммы в порядке следования листовых вершин (слева направо).\n",
        "\n",
        "Реализуйте два решения: на основе рекурсии и на основе циклов."
      ]
    },
    {
      "cell_type": "code",
      "metadata": {
        "id": "NPYvrvchMCPk",
        "colab_type": "code",
        "colab": {}
      },
      "source": [
        "def task_17_func(n):\n",
        "    ..."
      ],
      "execution_count": 0,
      "outputs": []
    }
  ]
}